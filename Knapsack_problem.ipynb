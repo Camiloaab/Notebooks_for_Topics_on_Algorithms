{
 "cells": [
  {
   "cell_type": "markdown",
   "metadata": {},
   "source": [
    "# Knapsack problem\n",
    "Following Kleinberg and Tardos"
   ]
  },
  {
   "cell_type": "markdown",
   "metadata": {},
   "source": [
    "\n",
    "## Problem Description:\n",
    "Given a set of items, each with a specific weight and value, determine the combination of items to include in a knapsack so that the total weight is less than or equal to a given weight limit and the total value is maximized. The caveat is that each item can either be included in its entirety or completely excluded, but it cannot be broken into smaller portions.\n",
    "\n"
   ]
  },
  {
   "cell_type": "markdown",
   "metadata": {},
   "source": [
    "## Algorithm Description\n",
    "A dynamic algorithm"
   ]
  },
  {
   "cell_type": "code",
   "execution_count": 13,
   "metadata": {},
   "outputs": [],
   "source": [
    "import numpy as np\n",
    "import random\n",
    "import matplotlib.pyplot as plt\n",
    "from matplotlib.animation import FuncAnimation\n",
    "from IPython.display import HTML\n",
    "from itertools import combinations\n",
    "import matplotlib.patches as patches"
   ]
  },
  {
   "cell_type": "markdown",
   "metadata": {},
   "source": [
    "## Choose colors"
   ]
  },
  {
   "cell_type": "code",
   "execution_count": 67,
   "metadata": {},
   "outputs": [
    {
     "data": {
      "image/png": "[encoded data removed]",
      "text/plain": [
       "<Figure size 500x2000 with 1 Axes>"
      ]
     },
     "metadata": {},
     "output_type": "display_data"
    }
   ],
   "source": [
    "cmap = plt.cm.tab20\n",
    "colors = [cmap(i) for i in range(20)]\n",
    "random.shuffle(colors)\n",
    "          \n",
    "def display_colors(color_list):\n",
    "    # Create figure and axes\n",
    "    fig, ax = plt.subplots(figsize=(5, len(color_list)))\n",
    "\n",
    "    # Display each color as a rectangle\n",
    "    for idx, color in enumerate(color_list):\n",
    "        rect = patches.Rectangle((0, idx), 5, 1, linewidth=1, edgecolor='none', facecolor=color)\n",
    "        ax.add_patch(rect)\n",
    "\n",
    "    # Adjust the view\n",
    "    ax.set_xlim(0, 3)\n",
    "    ax.set_ylim(0, len(color_list))\n",
    "    ax.axis('off')  # Hide the axis\n",
    "    plt.show()\n",
    "display_colors(colors)"
   ]
  },
  {
   "cell_type": "markdown",
   "metadata": {},
   "source": [
    "## Generate instances"
   ]
  },
  {
   "cell_type": "code",
   "execution_count": 17,
   "metadata": {},
   "outputs": [],
   "source": [
    "def generate_items(number_of_items=40,min_value=1,max_value=20,min_weight=1,max_weight=30):\n",
    "    ans=[]\n",
    "    for i in range(number_of_items):\n",
    "        line=dict()\n",
    "        line[\"weight\"]=np.random.choice(range(min_weight,max_weight))\n",
    "        line[\"value\"]=np.random.choice(range(min_value,max_value))\n",
    "        #line[\"index\"]=i\n",
    "        ans.append(line)\n",
    "\n",
    "    return ans"
   ]
  },
  {
   "cell_type": "code",
   "execution_count": 18,
   "metadata": {},
   "outputs": [
    {
     "data": {
      "text/plain": [
       "[{'weight': 7, 'value': 2},\n",
       " {'weight': 10, 'value': 1},\n",
       " {'weight': 14, 'value': 18},\n",
       " {'weight': 23, 'value': 19},\n",
       " {'weight': 29, 'value': 19},\n",
       " {'weight': 13, 'value': 5},\n",
       " {'weight': 13, 'value': 3},\n",
       " {'weight': 17, 'value': 19},\n",
       " {'weight': 4, 'value': 16},\n",
       " {'weight': 7, 'value': 12},\n",
       " {'weight': 24, 'value': 7},\n",
       " {'weight': 5, 'value': 4},\n",
       " {'weight': 24, 'value': 8},\n",
       " {'weight': 28, 'value': 12},\n",
       " {'weight': 5, 'value': 17},\n",
       " {'weight': 21, 'value': 18},\n",
       " {'weight': 26, 'value': 4},\n",
       " {'weight': 19, 'value': 2},\n",
       " {'weight': 13, 'value': 9},\n",
       " {'weight': 24, 'value': 13},\n",
       " {'weight': 6, 'value': 8},\n",
       " {'weight': 13, 'value': 8},\n",
       " {'weight': 15, 'value': 12},\n",
       " {'weight': 24, 'value': 2},\n",
       " {'weight': 10, 'value': 11},\n",
       " {'weight': 23, 'value': 8},\n",
       " {'weight': 18, 'value': 8},\n",
       " {'weight': 7, 'value': 2},\n",
       " {'weight': 3, 'value': 4},\n",
       " {'weight': 3, 'value': 17},\n",
       " {'weight': 28, 'value': 6},\n",
       " {'weight': 19, 'value': 16},\n",
       " {'weight': 16, 'value': 9},\n",
       " {'weight': 23, 'value': 9},\n",
       " {'weight': 13, 'value': 14},\n",
       " {'weight': 27, 'value': 17},\n",
       " {'weight': 11, 'value': 12},\n",
       " {'weight': 21, 'value': 5},\n",
       " {'weight': 27, 'value': 10},\n",
       " {'weight': 18, 'value': 13}]"
      ]
     },
     "execution_count": 18,
     "metadata": {},
     "output_type": "execute_result"
    }
   ],
   "source": [
    "generate_items()"
   ]
  },
  {
   "cell_type": "markdown",
   "metadata": {},
   "source": [
    "## Weigh Function"
   ]
  },
  {
   "cell_type": "code",
   "execution_count": 21,
   "metadata": {},
   "outputs": [],
   "source": [
    "def value(items):\n",
    "    return sum([item[\"value\"] for item in items])"
   ]
  },
  {
   "cell_type": "markdown",
   "metadata": {},
   "source": [
    "## Value function"
   ]
  },
  {
   "cell_type": "code",
   "execution_count": 23,
   "metadata": {},
   "outputs": [],
   "source": [
    "def weight(items):\n",
    "    return sum([item[\"weight\"] for item in items])"
   ]
  },
  {
   "cell_type": "markdown",
   "metadata": {},
   "source": [
    "## A dynamic algorithm for Knapsack"
   ]
  },
  {
   "cell_type": "code",
   "execution_count": 37,
   "metadata": {},
   "outputs": [],
   "source": [
    "def dynamic_knapsack(items,W):\n",
    "    N=len(items)\n",
    "     #Initialize the answers dict\n",
    "    answers=dict()\n",
    "    for w in range(W+1):\n",
    "        answers[-1,w]=[]\n",
    "    for i in range(N):\n",
    "        answers[i,0]=[]\n",
    "    ## The recursive part\n",
    "    for i in range(N):\n",
    "        for w in range(1,W+1):\n",
    "            A=answers[i-1,w]\n",
    "            if items[i][\"weight\"]>w:\n",
    "                B=[]\n",
    "            else:\n",
    "                B=answers[i-1,w-items[i][\"weight\"]]+[i]\n",
    "            ans=A\n",
    "            if value([items[l] for l in B])> value([items[l] for l in A]) and weight([items[l] for l in B])<=w:\n",
    "                ans=B\n",
    "            answers[i,w]=ans\n",
    "    return answers   \n"
   ]
  },
  {
   "cell_type": "markdown",
   "metadata": {},
   "source": [
    "## Compute frames"
   ]
  },
  {
   "cell_type": "code",
   "execution_count": 42,
   "metadata": {},
   "outputs": [],
   "source": [
    "def compute_frames(items,W):\n",
    "    N = len(items)\n",
    "    solutions = dynamic_knapsack(items, W)  # Assuming dynamic_knapsack is defined elsewhere\n",
    "    for (index,limit) in solutions.keys():\n",
    "        solutions[index,limit]=[items[i][\"weight\"]for i in solutions[index,limit]]\n",
    "    frames=[]\n",
    "    for w in range(W):\n",
    "        newframe=[solutions[i,w] for i in range(N)]\n",
    "        frames.append(newframe)\n",
    "    return frames\n"
   ]
  },
  {
   "cell_type": "markdown",
   "metadata": {},
   "source": [
    "## Animate the knapsack problem"
   ]
  },
  {
   "cell_type": "code",
   "execution_count": 93,
   "metadata": {},
   "outputs": [],
   "source": [
    "def animate_knapsack(items, W):\n",
    "    N = len(items)\n",
    "    data=compute_frames(items,W)\n",
    "    \n",
    "    #colors = ['red', 'green', 'blue']  # Modify as needed based on the number of segments\n",
    "\n",
    "    fig, ax = plt.subplots()\n",
    "\n",
    "    # format figure\n",
    "    fig.set_facecolor('black')\n",
    "    ax.set_facecolor('black')\n",
    "    \n",
    "\n",
    "    def animate(i):\n",
    "        ax.clear()\n",
    "        ax.set_xlabel(\"Items used\")\n",
    "        ax.set_ylabel(\"Weight\")\n",
    "        ax.set_title(f\"Knapsack Problem\",color=\"white\")\n",
    "        ax.set_xlim(0, N+1)   # Setting x-axis limits\n",
    "        ax.set_ylim(0, W+1)   # Setting y-axis limits\n",
    "        ax.tick_params(left=False, bottom=False, labelbottom=True, labelleft=True, colors='white')\n",
    "        \n",
    "        counter_text = ax.text(1, i/W, f\"W= {i}\", transform=ax.transAxes, ha='left', va='top',color=\"white\",fontsize=13)# Make a counter\n",
    "        # Set axis colors:\n",
    "        ax.spines['bottom'].set_color('white')\n",
    "        ax.spines['left'].set_color('white')\n",
    "        #ax.spines['right'].set_visible(False)  # Hide right spine\n",
    "        #ax.spines['top'].set_visible(False)    # Hide top spine\n",
    "        frame_data = data[i]\n",
    "        ax.axhline(i, color='palegreen', linestyle='--')\n",
    "        n_bars = len(frame_data)\n",
    "\n",
    "        # Define a list of distinct colors. Here's a sample list; expand it as needed:\n",
    "        #colors = ['red', 'green', 'blue', 'yellow', 'purple', 'orange', 'cyan', 'magenta']\n",
    "\n",
    "        for idx, bar_data in enumerate(frame_data):\n",
    "            bottom = 0\n",
    "            for segment_idx, segment_height in enumerate(bar_data):\n",
    "                color = colors[segment_idx % len(colors)]  # Cycle through colors\n",
    "                ax.bar(idx, segment_height, bottom=bottom, color=color)\n",
    "                bottom += segment_height\n",
    "\n",
    "\n",
    "    ani = FuncAnimation(fig, animate, frames=len(data), repeat=True, blit=False)\n",
    "    return HTML(ani.to_jshtml())"
   ]
  },
  {
   "cell_type": "code",
   "execution_count": 90,
   "metadata": {},
   "outputs": [],
   "source": [
    "items=generate_intervals()"
   ]
  },
  {
   "cell_type": "code",
   "execution_count": 92,
   "metadata": {},
   "outputs": [
    {
     "ename": "RuntimeError",
     "evalue": "The animation function must return a sequence of Artist objects.",
     "output_type": "error",
     "traceback": [
      "\u001b[0;31m---------------------------------------------------------------------------\u001b[0m",
      "\u001b[0;31mRuntimeError\u001b[0m                              Traceback (most recent call last)",
      "Cell \u001b[0;32mIn[92], line 1\u001b[0m\n\u001b[0;32m----> 1\u001b[0m animate_knapsack(items,\u001b[39m10\u001b[39;49m)\n",
      "Cell \u001b[0;32mIn[89], line 44\u001b[0m, in \u001b[0;36manimate_knapsack\u001b[0;34m(items, W)\u001b[0m\n\u001b[1;32m     40\u001b[0m             ax\u001b[39m.\u001b[39mbar(idx, segment_height, bottom\u001b[39m=\u001b[39mbottom, color\u001b[39m=\u001b[39mcolor)\n\u001b[1;32m     41\u001b[0m             bottom \u001b[39m+\u001b[39m\u001b[39m=\u001b[39m segment_height\n\u001b[0;32m---> 44\u001b[0m ani \u001b[39m=\u001b[39m FuncAnimation(fig, animate, frames\u001b[39m=\u001b[39;49m\u001b[39mlen\u001b[39;49m(data), repeat\u001b[39m=\u001b[39;49m\u001b[39mTrue\u001b[39;49;00m, blit\u001b[39m=\u001b[39;49m\u001b[39mTrue\u001b[39;49;00m)\n\u001b[1;32m     45\u001b[0m \u001b[39mreturn\u001b[39;00m HTML(ani\u001b[39m.\u001b[39mto_jshtml())\n",
      "File \u001b[0;32m/opt/miniconda3/envs/topics_alg/lib/python3.11/site-packages/matplotlib/animation.py:1694\u001b[0m, in \u001b[0;36mFuncAnimation.__init__\u001b[0;34m(self, fig, func, frames, init_func, fargs, save_count, cache_frame_data, **kwargs)\u001b[0m\n\u001b[1;32m   1691\u001b[0m \u001b[39m# Needs to be initialized so the draw functions work without checking\u001b[39;00m\n\u001b[1;32m   1692\u001b[0m \u001b[39mself\u001b[39m\u001b[39m.\u001b[39m_save_seq \u001b[39m=\u001b[39m []\n\u001b[0;32m-> 1694\u001b[0m \u001b[39msuper\u001b[39;49m()\u001b[39m.\u001b[39;49m\u001b[39m__init__\u001b[39;49m(fig, \u001b[39m*\u001b[39;49m\u001b[39m*\u001b[39;49mkwargs)\n\u001b[1;32m   1696\u001b[0m \u001b[39m# Need to reset the saved seq, since right now it will contain data\u001b[39;00m\n\u001b[1;32m   1697\u001b[0m \u001b[39m# for a single frame from init, which is not what we want.\u001b[39;00m\n\u001b[1;32m   1698\u001b[0m \u001b[39mself\u001b[39m\u001b[39m.\u001b[39m_save_seq \u001b[39m=\u001b[39m []\n",
      "File \u001b[0;32m/opt/miniconda3/envs/topics_alg/lib/python3.11/site-packages/matplotlib/animation.py:1416\u001b[0m, in \u001b[0;36mTimedAnimation.__init__\u001b[0;34m(self, fig, interval, repeat_delay, repeat, event_source, *args, **kwargs)\u001b[0m\n\u001b[1;32m   1414\u001b[0m \u001b[39mif\u001b[39;00m event_source \u001b[39mis\u001b[39;00m \u001b[39mNone\u001b[39;00m:\n\u001b[1;32m   1415\u001b[0m     event_source \u001b[39m=\u001b[39m fig\u001b[39m.\u001b[39mcanvas\u001b[39m.\u001b[39mnew_timer(interval\u001b[39m=\u001b[39m\u001b[39mself\u001b[39m\u001b[39m.\u001b[39m_interval)\n\u001b[0;32m-> 1416\u001b[0m \u001b[39msuper\u001b[39;49m()\u001b[39m.\u001b[39;49m\u001b[39m__init__\u001b[39;49m(fig, event_source\u001b[39m=\u001b[39;49mevent_source, \u001b[39m*\u001b[39;49margs, \u001b[39m*\u001b[39;49m\u001b[39m*\u001b[39;49mkwargs)\n",
      "File \u001b[0;32m/opt/miniconda3/envs/topics_alg/lib/python3.11/site-packages/matplotlib/animation.py:880\u001b[0m, in \u001b[0;36mAnimation.__init__\u001b[0;34m(self, fig, event_source, blit)\u001b[0m\n\u001b[1;32m    877\u001b[0m \u001b[39mself\u001b[39m\u001b[39m.\u001b[39m_close_id \u001b[39m=\u001b[39m \u001b[39mself\u001b[39m\u001b[39m.\u001b[39m_fig\u001b[39m.\u001b[39mcanvas\u001b[39m.\u001b[39mmpl_connect(\u001b[39m'\u001b[39m\u001b[39mclose_event\u001b[39m\u001b[39m'\u001b[39m,\n\u001b[1;32m    878\u001b[0m                                               \u001b[39mself\u001b[39m\u001b[39m.\u001b[39m_stop)\n\u001b[1;32m    879\u001b[0m \u001b[39mif\u001b[39;00m \u001b[39mself\u001b[39m\u001b[39m.\u001b[39m_blit:\n\u001b[0;32m--> 880\u001b[0m     \u001b[39mself\u001b[39;49m\u001b[39m.\u001b[39;49m_setup_blit()\n",
      "File \u001b[0;32m/opt/miniconda3/envs/topics_alg/lib/python3.11/site-packages/matplotlib/animation.py:1209\u001b[0m, in \u001b[0;36mAnimation._setup_blit\u001b[0;34m(self)\u001b[0m\n\u001b[1;32m   1207\u001b[0m \u001b[39mself\u001b[39m\u001b[39m.\u001b[39m_drawn_artists \u001b[39m=\u001b[39m []\n\u001b[1;32m   1208\u001b[0m \u001b[39m# _post_draw needs to be called first to initialize the renderer\u001b[39;00m\n\u001b[0;32m-> 1209\u001b[0m \u001b[39mself\u001b[39;49m\u001b[39m.\u001b[39;49m_post_draw(\u001b[39mNone\u001b[39;49;00m, \u001b[39mself\u001b[39;49m\u001b[39m.\u001b[39;49m_blit)\n\u001b[1;32m   1210\u001b[0m \u001b[39m# Then we need to clear the Frame for the initial draw\u001b[39;00m\n\u001b[1;32m   1211\u001b[0m \u001b[39m# This is typically handled in _on_resize because QT and Tk\u001b[39;00m\n\u001b[1;32m   1212\u001b[0m \u001b[39m# emit a resize event on launch, but the macosx backend does not,\u001b[39;00m\n\u001b[1;32m   1213\u001b[0m \u001b[39m# thus we force it here for everyone for consistency\u001b[39;00m\n\u001b[1;32m   1214\u001b[0m \u001b[39mself\u001b[39m\u001b[39m.\u001b[39m_init_draw()\n",
      "File \u001b[0;32m/opt/miniconda3/envs/topics_alg/lib/python3.11/site-packages/matplotlib/animation.py:1164\u001b[0m, in \u001b[0;36mAnimation._post_draw\u001b[0;34m(self, framedata, blit)\u001b[0m\n\u001b[1;32m   1162\u001b[0m     \u001b[39mself\u001b[39m\u001b[39m.\u001b[39m_blit_draw(\u001b[39mself\u001b[39m\u001b[39m.\u001b[39m_drawn_artists)\n\u001b[1;32m   1163\u001b[0m \u001b[39melse\u001b[39;00m:\n\u001b[0;32m-> 1164\u001b[0m     \u001b[39mself\u001b[39;49m\u001b[39m.\u001b[39;49m_fig\u001b[39m.\u001b[39;49mcanvas\u001b[39m.\u001b[39;49mdraw_idle()\n",
      "File \u001b[0;32m/opt/miniconda3/envs/topics_alg/lib/python3.11/site-packages/matplotlib/backend_bases.py:2082\u001b[0m, in \u001b[0;36mFigureCanvasBase.draw_idle\u001b[0;34m(self, *args, **kwargs)\u001b[0m\n\u001b[1;32m   2080\u001b[0m \u001b[39mif\u001b[39;00m \u001b[39mnot\u001b[39;00m \u001b[39mself\u001b[39m\u001b[39m.\u001b[39m_is_idle_drawing:\n\u001b[1;32m   2081\u001b[0m     \u001b[39mwith\u001b[39;00m \u001b[39mself\u001b[39m\u001b[39m.\u001b[39m_idle_draw_cntx():\n\u001b[0;32m-> 2082\u001b[0m         \u001b[39mself\u001b[39;49m\u001b[39m.\u001b[39;49mdraw(\u001b[39m*\u001b[39;49margs, \u001b[39m*\u001b[39;49m\u001b[39m*\u001b[39;49mkwargs)\n",
      "File \u001b[0;32m/opt/miniconda3/envs/topics_alg/lib/python3.11/site-packages/matplotlib/backends/backend_agg.py:400\u001b[0m, in \u001b[0;36mFigureCanvasAgg.draw\u001b[0;34m(self)\u001b[0m\n\u001b[1;32m    396\u001b[0m \u001b[39m# Acquire a lock on the shared font cache.\u001b[39;00m\n\u001b[1;32m    397\u001b[0m \u001b[39mwith\u001b[39;00m RendererAgg\u001b[39m.\u001b[39mlock, \\\n\u001b[1;32m    398\u001b[0m      (\u001b[39mself\u001b[39m\u001b[39m.\u001b[39mtoolbar\u001b[39m.\u001b[39m_wait_cursor_for_draw_cm() \u001b[39mif\u001b[39;00m \u001b[39mself\u001b[39m\u001b[39m.\u001b[39mtoolbar\n\u001b[1;32m    399\u001b[0m       \u001b[39melse\u001b[39;00m nullcontext()):\n\u001b[0;32m--> 400\u001b[0m     \u001b[39mself\u001b[39;49m\u001b[39m.\u001b[39;49mfigure\u001b[39m.\u001b[39;49mdraw(\u001b[39mself\u001b[39;49m\u001b[39m.\u001b[39;49mrenderer)\n\u001b[1;32m    401\u001b[0m     \u001b[39m# A GUI class may be need to update a window using this draw, so\u001b[39;00m\n\u001b[1;32m    402\u001b[0m     \u001b[39m# don't forget to call the superclass.\u001b[39;00m\n\u001b[1;32m    403\u001b[0m     \u001b[39msuper\u001b[39m()\u001b[39m.\u001b[39mdraw()\n",
      "File \u001b[0;32m/opt/miniconda3/envs/topics_alg/lib/python3.11/site-packages/matplotlib/artist.py:95\u001b[0m, in \u001b[0;36m_finalize_rasterization.<locals>.draw_wrapper\u001b[0;34m(artist, renderer, *args, **kwargs)\u001b[0m\n\u001b[1;32m     93\u001b[0m \u001b[39m@wraps\u001b[39m(draw)\n\u001b[1;32m     94\u001b[0m \u001b[39mdef\u001b[39;00m \u001b[39mdraw_wrapper\u001b[39m(artist, renderer, \u001b[39m*\u001b[39margs, \u001b[39m*\u001b[39m\u001b[39m*\u001b[39mkwargs):\n\u001b[0;32m---> 95\u001b[0m     result \u001b[39m=\u001b[39m draw(artist, renderer, \u001b[39m*\u001b[39;49margs, \u001b[39m*\u001b[39;49m\u001b[39m*\u001b[39;49mkwargs)\n\u001b[1;32m     96\u001b[0m     \u001b[39mif\u001b[39;00m renderer\u001b[39m.\u001b[39m_rasterizing:\n\u001b[1;32m     97\u001b[0m         renderer\u001b[39m.\u001b[39mstop_rasterizing()\n",
      "File \u001b[0;32m/opt/miniconda3/envs/topics_alg/lib/python3.11/site-packages/matplotlib/artist.py:72\u001b[0m, in \u001b[0;36mallow_rasterization.<locals>.draw_wrapper\u001b[0;34m(artist, renderer)\u001b[0m\n\u001b[1;32m     69\u001b[0m     \u001b[39mif\u001b[39;00m artist\u001b[39m.\u001b[39mget_agg_filter() \u001b[39mis\u001b[39;00m \u001b[39mnot\u001b[39;00m \u001b[39mNone\u001b[39;00m:\n\u001b[1;32m     70\u001b[0m         renderer\u001b[39m.\u001b[39mstart_filter()\n\u001b[0;32m---> 72\u001b[0m     \u001b[39mreturn\u001b[39;00m draw(artist, renderer)\n\u001b[1;32m     73\u001b[0m \u001b[39mfinally\u001b[39;00m:\n\u001b[1;32m     74\u001b[0m     \u001b[39mif\u001b[39;00m artist\u001b[39m.\u001b[39mget_agg_filter() \u001b[39mis\u001b[39;00m \u001b[39mnot\u001b[39;00m \u001b[39mNone\u001b[39;00m:\n",
      "File \u001b[0;32m/opt/miniconda3/envs/topics_alg/lib/python3.11/site-packages/matplotlib/figure.py:3185\u001b[0m, in \u001b[0;36mFigure.draw\u001b[0;34m(self, renderer)\u001b[0m\n\u001b[1;32m   3182\u001b[0m \u001b[39mfinally\u001b[39;00m:\n\u001b[1;32m   3183\u001b[0m     \u001b[39mself\u001b[39m\u001b[39m.\u001b[39mstale \u001b[39m=\u001b[39m \u001b[39mFalse\u001b[39;00m\n\u001b[0;32m-> 3185\u001b[0m DrawEvent(\u001b[39m\"\u001b[39;49m\u001b[39mdraw_event\u001b[39;49m\u001b[39m\"\u001b[39;49m, \u001b[39mself\u001b[39;49m\u001b[39m.\u001b[39;49mcanvas, renderer)\u001b[39m.\u001b[39;49m_process()\n",
      "File \u001b[0;32m/opt/miniconda3/envs/topics_alg/lib/python3.11/site-packages/matplotlib/backend_bases.py:1263\u001b[0m, in \u001b[0;36mEvent._process\u001b[0;34m(self)\u001b[0m\n\u001b[1;32m   1261\u001b[0m \u001b[39mdef\u001b[39;00m \u001b[39m_process\u001b[39m(\u001b[39mself\u001b[39m):\n\u001b[1;32m   1262\u001b[0m \u001b[39m    \u001b[39m\u001b[39m\"\"\"Generate an event with name ``self.name`` on ``self.canvas``.\"\"\"\u001b[39;00m\n\u001b[0;32m-> 1263\u001b[0m     \u001b[39mself\u001b[39;49m\u001b[39m.\u001b[39;49mcanvas\u001b[39m.\u001b[39;49mcallbacks\u001b[39m.\u001b[39;49mprocess(\u001b[39mself\u001b[39;49m\u001b[39m.\u001b[39;49mname, \u001b[39mself\u001b[39;49m)\n",
      "File \u001b[0;32m/opt/miniconda3/envs/topics_alg/lib/python3.11/site-packages/matplotlib/cbook/__init__.py:314\u001b[0m, in \u001b[0;36mCallbackRegistry.process\u001b[0;34m(self, s, *args, **kwargs)\u001b[0m\n\u001b[1;32m    312\u001b[0m \u001b[39mexcept\u001b[39;00m \u001b[39mException\u001b[39;00m \u001b[39mas\u001b[39;00m exc:\n\u001b[1;32m    313\u001b[0m     \u001b[39mif\u001b[39;00m \u001b[39mself\u001b[39m\u001b[39m.\u001b[39mexception_handler \u001b[39mis\u001b[39;00m \u001b[39mnot\u001b[39;00m \u001b[39mNone\u001b[39;00m:\n\u001b[0;32m--> 314\u001b[0m         \u001b[39mself\u001b[39;49m\u001b[39m.\u001b[39;49mexception_handler(exc)\n\u001b[1;32m    315\u001b[0m     \u001b[39melse\u001b[39;00m:\n\u001b[1;32m    316\u001b[0m         \u001b[39mraise\u001b[39;00m\n",
      "File \u001b[0;32m/opt/miniconda3/envs/topics_alg/lib/python3.11/site-packages/matplotlib/cbook/__init__.py:98\u001b[0m, in \u001b[0;36m_exception_printer\u001b[0;34m(exc)\u001b[0m\n\u001b[1;32m     96\u001b[0m \u001b[39mdef\u001b[39;00m \u001b[39m_exception_printer\u001b[39m(exc):\n\u001b[1;32m     97\u001b[0m     \u001b[39mif\u001b[39;00m _get_running_interactive_framework() \u001b[39min\u001b[39;00m [\u001b[39m\"\u001b[39m\u001b[39mheadless\u001b[39m\u001b[39m\"\u001b[39m, \u001b[39mNone\u001b[39;00m]:\n\u001b[0;32m---> 98\u001b[0m         \u001b[39mraise\u001b[39;00m exc\n\u001b[1;32m     99\u001b[0m     \u001b[39melse\u001b[39;00m:\n\u001b[1;32m    100\u001b[0m         traceback\u001b[39m.\u001b[39mprint_exc()\n",
      "File \u001b[0;32m/opt/miniconda3/envs/topics_alg/lib/python3.11/site-packages/matplotlib/cbook/__init__.py:309\u001b[0m, in \u001b[0;36mCallbackRegistry.process\u001b[0;34m(self, s, *args, **kwargs)\u001b[0m\n\u001b[1;32m    307\u001b[0m \u001b[39mif\u001b[39;00m func \u001b[39mis\u001b[39;00m \u001b[39mnot\u001b[39;00m \u001b[39mNone\u001b[39;00m:\n\u001b[1;32m    308\u001b[0m     \u001b[39mtry\u001b[39;00m:\n\u001b[0;32m--> 309\u001b[0m         func(\u001b[39m*\u001b[39;49margs, \u001b[39m*\u001b[39;49m\u001b[39m*\u001b[39;49mkwargs)\n\u001b[1;32m    310\u001b[0m     \u001b[39m# this does not capture KeyboardInterrupt, SystemExit,\u001b[39;00m\n\u001b[1;32m    311\u001b[0m     \u001b[39m# and GeneratorExit\u001b[39;00m\n\u001b[1;32m    312\u001b[0m     \u001b[39mexcept\u001b[39;00m \u001b[39mException\u001b[39;00m \u001b[39mas\u001b[39;00m exc:\n",
      "File \u001b[0;32m/opt/miniconda3/envs/topics_alg/lib/python3.11/site-packages/matplotlib/animation.py:904\u001b[0m, in \u001b[0;36mAnimation._start\u001b[0;34m(self, *args)\u001b[0m\n\u001b[1;32m    901\u001b[0m \u001b[39mself\u001b[39m\u001b[39m.\u001b[39m_fig\u001b[39m.\u001b[39mcanvas\u001b[39m.\u001b[39mmpl_disconnect(\u001b[39mself\u001b[39m\u001b[39m.\u001b[39m_first_draw_id)\n\u001b[1;32m    903\u001b[0m \u001b[39m# Now do any initial draw\u001b[39;00m\n\u001b[0;32m--> 904\u001b[0m \u001b[39mself\u001b[39;49m\u001b[39m.\u001b[39;49m_init_draw()\n\u001b[1;32m    906\u001b[0m \u001b[39m# Add our callback for stepping the animation and\u001b[39;00m\n\u001b[1;32m    907\u001b[0m \u001b[39m# actually start the event_source.\u001b[39;00m\n\u001b[1;32m    908\u001b[0m \u001b[39mself\u001b[39m\u001b[39m.\u001b[39mevent_source\u001b[39m.\u001b[39madd_callback(\u001b[39mself\u001b[39m\u001b[39m.\u001b[39m_step)\n",
      "File \u001b[0;32m/opt/miniconda3/envs/topics_alg/lib/python3.11/site-packages/matplotlib/animation.py:1748\u001b[0m, in \u001b[0;36mFuncAnimation._init_draw\u001b[0;34m(self)\u001b[0m\n\u001b[1;32m   1740\u001b[0m         warnings\u001b[39m.\u001b[39mwarn(\n\u001b[1;32m   1741\u001b[0m             \u001b[39m\"\u001b[39m\u001b[39mCan not start iterating the frames for the initial draw. \u001b[39m\u001b[39m\"\u001b[39m\n\u001b[1;32m   1742\u001b[0m             \u001b[39m\"\u001b[39m\u001b[39mThis can be caused by passing in a 0 length sequence \u001b[39m\u001b[39m\"\u001b[39m\n\u001b[0;32m   (...)\u001b[0m\n\u001b[1;32m   1745\u001b[0m             \u001b[39m\"\u001b[39m\u001b[39mit may be exhausted due to a previous display or save.\u001b[39m\u001b[39m\"\u001b[39m\n\u001b[1;32m   1746\u001b[0m         )\n\u001b[1;32m   1747\u001b[0m         \u001b[39mreturn\u001b[39;00m\n\u001b[0;32m-> 1748\u001b[0m     \u001b[39mself\u001b[39;49m\u001b[39m.\u001b[39;49m_draw_frame(frame_data)\n\u001b[1;32m   1749\u001b[0m \u001b[39melse\u001b[39;00m:\n\u001b[1;32m   1750\u001b[0m     \u001b[39mself\u001b[39m\u001b[39m.\u001b[39m_drawn_artists \u001b[39m=\u001b[39m \u001b[39mself\u001b[39m\u001b[39m.\u001b[39m_init_func()\n",
      "File \u001b[0;32m/opt/miniconda3/envs/topics_alg/lib/python3.11/site-packages/matplotlib/animation.py:1777\u001b[0m, in \u001b[0;36mFuncAnimation._draw_frame\u001b[0;34m(self, framedata)\u001b[0m\n\u001b[1;32m   1775\u001b[0m     \u001b[39miter\u001b[39m(\u001b[39mself\u001b[39m\u001b[39m.\u001b[39m_drawn_artists)\n\u001b[1;32m   1776\u001b[0m \u001b[39mexcept\u001b[39;00m \u001b[39mTypeError\u001b[39;00m:\n\u001b[0;32m-> 1777\u001b[0m     \u001b[39mraise\u001b[39;00m err \u001b[39mfrom\u001b[39;00m \u001b[39mNone\u001b[39;00m\n\u001b[1;32m   1779\u001b[0m \u001b[39m# check each item if it's artist\u001b[39;00m\n\u001b[1;32m   1780\u001b[0m \u001b[39mfor\u001b[39;00m i \u001b[39min\u001b[39;00m \u001b[39mself\u001b[39m\u001b[39m.\u001b[39m_drawn_artists:\n",
      "\u001b[0;31mRuntimeError\u001b[0m: The animation function must return a sequence of Artist objects."
     ]
    },
    {
     "data": {
      "image/png": "[encoded data removed]",
      "text/plain": [
       "<Figure size 640x480 with 1 Axes>"
      ]
     },
     "metadata": {},
     "output_type": "display_data"
    }
   ],
   "source": [
    "animate_knapsack(items,10)"
   ]
  }
 ],
 "metadata": {
  "kernelspec": {
   "display_name": "topics_alg",
   "language": "python",
   "name": "python3"
  },
  "language_info": {
   "codemirror_mode": {
    "name": "ipython",
    "version": 3
   },
   "file_extension": ".py",
   "mimetype": "text/x-python",
   "name": "python",
   "nbconvert_exporter": "python",
   "pygments_lexer": "ipython3",
   "version": "3.11.4"
  },
  "orig_nbformat": 4
 },
 "nbformat": 4,
 "nbformat_minor": 2
}
