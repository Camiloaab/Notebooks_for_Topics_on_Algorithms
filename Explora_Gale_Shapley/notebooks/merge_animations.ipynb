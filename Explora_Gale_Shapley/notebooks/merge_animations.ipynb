{
 "cells": [
  {
   "cell_type": "markdown",
   "metadata": {},
   "source": [
    "# This Notebook can be used to merge mp4 files into one"
   ]
  },
  {
   "cell_type": "code",
   "execution_count": 8,
   "metadata": {},
   "outputs": [],
   "source": [
    "from moviepy.editor import VideoFileClip, concatenate_videoclips"
   ]
  },
  {
   "cell_type": "code",
   "execution_count": 8,
   "metadata": {},
   "outputs": [],
   "source": [
    "## this function takes a list of mp4 file paths, concatenates the files and saves them as a long mp4 file in composed_movie_output_path\n",
    "def concatenate_movies(movie_paths_list,composed_movie_output_path):\n",
    "    n=len(movie_paths_list)\n",
    "    final_clip=concatenate_videoclips([VideoFileClip(path) for path in movie_paths_list], method=\"compose\")\n",
    "    # saving the clip\n",
    "    final_clip.write_videofile(composed_movie_output_path,fps=24)\n",
    "\n",
    "\n",
    "\n",
    "\n",
    "\n"
   ]
  },
  {
   "cell_type": "code",
   "execution_count": 2,
   "metadata": {},
   "outputs": [],
   "source": [
    "path_utopia=\"animations/Utopía.MP4\"\n",
    "path_distopia=\"animations/Distopía.MP4\"\n",
    "path_women_order=\"animations/Si_las_mujeres_proponen_en_orden.MP4\"\n",
    "path_women_disorder=\"animations/Si_las_mujeres_proponen_en_desorden.MP4\"\n",
    "path_men_order=\"animations/Si_los_hombres_proponen_en_orden.MP4\"\n",
    "path_men_disorder=\"animations/Si_los_hombres_proponen_en_desorden.MP4\"\n",
    "movie_paths=[path_utopia,path_distopia,path_women_order,path_women_disorder,path_men_order,path_men_disorder]\n",
    "output_path=\"animations/complete.mp4\""
   ]
  },
  {
   "cell_type": "code",
   "execution_count": 10,
   "metadata": {},
   "outputs": [
    {
     "name": "stdout",
     "output_type": "stream",
     "text": [
      "Moviepy - Building video animations/complete.mp4.\n",
      "Moviepy - Writing video animations/complete.mp4\n",
      "\n"
     ]
    },
    {
     "name": "stderr",
     "output_type": "stream",
     "text": [
      "                                                              \r"
     ]
    },
    {
     "name": "stdout",
     "output_type": "stream",
     "text": [
      "Moviepy - Done !\n",
      "Moviepy - video ready animations/complete.mp4\n"
     ]
    }
   ],
   "source": [
    "# Concatenate video clips\n",
    "final_clip = concatenate_videoclips([VideoFileClip(path) for path in movie_paths])\n",
    "\n",
    "# Write the final concatenated video to a file\n",
    "final_clip.write_videofile(output_path)"
   ]
  },
  {
   "cell_type": "code",
   "execution_count": 7,
   "metadata": {},
   "outputs": [
    {
     "ename": "NameError",
     "evalue": "name 'concatenate_movies' is not defined",
     "output_type": "error",
     "traceback": [
      "\u001b[0;31m---------------------------------------------------------------------------\u001b[0m",
      "\u001b[0;31mNameError\u001b[0m                                 Traceback (most recent call last)",
      "Cell \u001b[0;32mIn[7], line 1\u001b[0m\n\u001b[0;32m----> 1\u001b[0m \u001b[43mconcatenate_movies\u001b[49m(movie_paths_list\u001b[38;5;241m=\u001b[39mmovie_paths,composed_movie_output_path\u001b[38;5;241m=\u001b[39moutput_path)\n",
      "\u001b[0;31mNameError\u001b[0m: name 'concatenate_movies' is not defined"
     ]
    }
   ],
   "source": [
    "concatenate_movies(movie_paths_list=movie_paths,composed_movie_output_path=output_path)"
   ]
  }
 ],
 "metadata": {
  "kernelspec": {
   "display_name": "topics_alg",
   "language": "python",
   "name": "python3"
  },
  "language_info": {
   "codemirror_mode": {
    "name": "ipython",
    "version": 3
   },
   "file_extension": ".py",
   "mimetype": "text/x-python",
   "name": "python",
   "nbconvert_exporter": "python",
   "pygments_lexer": "ipython3",
   "version": "3.11.4"
  }
 },
 "nbformat": 4,
 "nbformat_minor": 2
}
