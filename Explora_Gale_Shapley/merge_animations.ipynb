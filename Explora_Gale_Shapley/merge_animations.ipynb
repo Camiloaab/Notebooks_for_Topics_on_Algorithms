{
 "cells": [
  {
   "cell_type": "markdown",
   "metadata": {},
   "source": [
    "# This Notebook can be used to merge mp4 files into one"
   ]
  },
  {
   "cell_type": "code",
   "execution_count": 3,
   "metadata": {},
   "outputs": [],
   "source": [
    "from moviepy.editor import VideoFileClip, concatenate_videoclips"
   ]
  },
  {
   "cell_type": "code",
   "execution_count": 8,
   "metadata": {},
   "outputs": [],
   "source": [
    "## this function takes a list of mp4 file paths, concatenates the files and saves them as a long mp4 file in composed_movie_output_path\n",
    "def concatenate_movies(movie_paths_list,composed_movie_output_path):\n",
    "    n=len(movie_paths_list)\n",
    "    final_clip=concatenate_videoclips([VideoFileClip(path) for path in movie_paths_list], method=\"compose\")\n",
    "    # saving the clip\n",
    "    final_clip.write_videofile(composed_movie_output_path,fps=24)\n",
    "\n",
    "\n",
    "\n",
    "\n",
    "\n"
   ]
  },
  {
   "cell_type": "code",
   "execution_count": 4,
   "metadata": {},
   "outputs": [],
   "source": [
    "path=\"animations/cuanto_de_hadas.mp4\"\n",
    "movie_paths=[path for i in range(10)]\n",
    "output_path=\"animations/long.mp4\""
   ]
  },
  {
   "cell_type": "code",
   "execution_count": 7,
   "metadata": {},
   "outputs": [
    {
     "name": "stdout",
     "output_type": "stream",
     "text": [
      "Moviepy - Building video animations/long.mp4.\n",
      "Moviepy - Writing video animations/long.mp4\n",
      "\n"
     ]
    },
    {
     "name": "stderr",
     "output_type": "stream",
     "text": [
      "                                                               "
     ]
    },
    {
     "name": "stdout",
     "output_type": "stream",
     "text": [
      "Moviepy - Done !\n",
      "Moviepy - video ready animations/long.mp4\n"
     ]
    },
    {
     "name": "stderr",
     "output_type": "stream",
     "text": [
      "\r"
     ]
    }
   ],
   "source": [
    "concatenate_movies(movie_paths_list=movie_paths,composed_movie_output_path=output_path)"
   ]
  }
 ],
 "metadata": {
  "kernelspec": {
   "display_name": "topics_alg",
   "language": "python",
   "name": "python3"
  },
  "language_info": {
   "codemirror_mode": {
    "name": "ipython",
    "version": 3
   },
   "file_extension": ".py",
   "mimetype": "text/x-python",
   "name": "python",
   "nbconvert_exporter": "python",
   "pygments_lexer": "ipython3",
   "version": "3.11.4"
  }
 },
 "nbformat": 4,
 "nbformat_minor": 2
}
