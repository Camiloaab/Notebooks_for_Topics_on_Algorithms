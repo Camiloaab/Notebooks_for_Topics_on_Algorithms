{
 "cells": [
  {
   "attachments": {},
   "cell_type": "markdown",
   "metadata": {},
   "source": [
    "### This is an implementation of the Gale-Shapley algorithm for the stable marriage problem"
   ]
  },
  {
   "cell_type": "code",
   "execution_count": 4,
   "metadata": {},
   "outputs": [],
   "source": [
    "import numpy as np\n",
    "import random\n",
    "from itertools import permutations,product"
   ]
  },
  {
   "cell_type": "code",
   "execution_count": 5,
   "metadata": {},
   "outputs": [],
   "source": [
    "def reverse(preferences):\n",
    "    n= len(preferences)\n",
    "    return [preferences.index(i) for i in range(n)]"
   ]
  },
  {
   "cell_type": "code",
   "execution_count": 8,
   "metadata": {},
   "outputs": [],
   "source": [
    "def gale_shapley(p_prefs, d_prefs):## This function takes the matrix preferences of the proponents and disponents.\n",
    "    ## it returns a list d_partners whose i-th component is the partner of the i-th disponent\n",
    "    n = len(p_prefs)\n",
    "    d_partner = [-1] * n\n",
    "    p_free = [True] * n\n",
    "    free_count = n\n",
    "    proposals=[[]]\n",
    "    relationships=[[]]\n",
    "\n",
    "    while free_count:\n",
    "        m = p_free.index(True)\n",
    "        for w in p_prefs[m]:\n",
    "            if d_partner[w] == -1:\n",
    "                d_partner[w] = m\n",
    "                p_free[m] = False\n",
    "                free_count -= 1\n",
    "                proposals.append([(m,w)])\n",
    "                proposals.append([])\n",
    "                relationships.append(relationships[-1])\n",
    "                relationships.append(relationships[-1]+[(m,w)])\n",
    "                break\n",
    "            else:\n",
    "                m1 = d_partner[w]\n",
    "                w_list = d_prefs[w]\n",
    "                if w_list.index(m) < w_list.index(m1):\n",
    "                    d_partner[w] = m\n",
    "                    p_free[m] = False\n",
    "                    p_free[m1] = True\n",
    "                    proposals.append([(m,w)])\n",
    "                    proposals.append([])\n",
    "                    relationships.append(relationships[-1])\n",
    "                    new_rel=relationships[-1]+[(m,w)]\n",
    "                    new_rel.remove((m1,w))\n",
    "                    relationships.append(new_rel)\n",
    "                    break\n",
    "                else:\n",
    "                    proposals.append([(m,w)])\n",
    "                    proposals.append([])\n",
    "                    relationships.append(relationships[-1])\n",
    "                    relationships.append(relationships[-1])\n",
    "\n",
    "    return {\"disponents_partners\":d_partner,\"proposals\":proposals,\"relationships\":relationships}"
   ]
  },
  {
   "cell_type": "markdown",
   "metadata": {},
   "source": [
    "## Random Example"
   ]
  },
  {
   "cell_type": "code",
   "execution_count": 10,
   "metadata": {},
   "outputs": [],
   "source": [
    "k=10\n",
    "men_pref=[]\n",
    "women_pref=[]\n",
    "for i in range(k):\n",
    "\n",
    "    a=list(np.random.permutation(list(range(k))))\n",
    "    #a=list(range(k))\n",
    "    b=list(np.random.permutation(list(range(k))))\n",
    "    men_pref.append(a)\n",
    "    women_pref.append(b)\n",
    "\n",
    "ans=gale_shapley(men_pref,women_pref)\n",
    "\n",
    "\n",
    "\n",
    "\n"
   ]
  },
  {
   "cell_type": "code",
   "execution_count": 12,
   "metadata": {},
   "outputs": [],
   "source": [
    "rel=ans[\"relationships\"]\n",
    "pro=ans[\"proposals\"]\n",
    "final=ans[\"disponents_partners\"]"
   ]
  },
  {
   "cell_type": "code",
   "execution_count": 13,
   "metadata": {},
   "outputs": [],
   "source": [
    "result=sorted(rel[-1], key=lambda x: x[1])"
   ]
  },
  {
   "cell_type": "code",
   "execution_count": 14,
   "metadata": {},
   "outputs": [
    {
     "data": {
      "text/plain": [
       "[(2, 0),\n",
       " (6, 1),\n",
       " (8, 2),\n",
       " (4, 3),\n",
       " (7, 4),\n",
       " (5, 5),\n",
       " (0, 6),\n",
       " (9, 7),\n",
       " (1, 8),\n",
       " (3, 9)]"
      ]
     },
     "execution_count": 14,
     "metadata": {},
     "output_type": "execute_result"
    }
   ],
   "source": [
    "result"
   ]
  },
  {
   "cell_type": "code",
   "execution_count": 15,
   "metadata": {},
   "outputs": [],
   "source": [
    "# this creates and instance of preferences\n",
    "def make_preferences(n):\n",
    "    ans=[]\n",
    "    for i in range(n):\n",
    "        ans.append(list(np.random.permutation(list(range(n)))))\n",
    "    return ans"
   ]
  },
  {
   "cell_type": "code",
   "execution_count": 17,
   "metadata": {},
   "outputs": [],
   "source": [
    "# This creates an instance of the problem and computes the solution\n",
    "def make_instance(m):\n",
    "    men_preferences = make_preferences(m)\n",
    "    women_preferences = make_preferences(m)\n",
    "\n",
    "    women_engagements = gale_shapley(men_preferences, women_preferences)[\"disponents_partners\"]\n",
    "    men_engagements=reverse(women_engagements)\n",
    "\n",
    "    return men_preferences,women_preferences,men_engagements,women_engagements,"
   ]
  },
  {
   "cell_type": "code",
   "execution_count": 18,
   "metadata": {},
   "outputs": [],
   "source": [
    "### This checks that a marriage is stable\n",
    "def check_stable(men_pref,women_pref,men_eng,women_eng):\n",
    "    n=len(men_pref)\n",
    "    ans=\"Stable\"\n",
    "    for i in range(n):\n",
    "        if ans==\"Unstable\":\n",
    "            break\n",
    "        for j in range(men_pref[i].index(men_eng[i])):\n",
    "            woman_pref=women_pref[men_pref[i][j]]\n",
    "            if woman_pref.index(i)<woman_pref.index(women_eng[men_pref[i][j]]):\n",
    "                ans=\"Unstable\"\n",
    "                # print(men_pref[i])\n",
    "                # print(women_pref[men_pref[i][j]])\n",
    "                # print(men_eng)\n",
    "                # print(women_eng)\n",
    "                break\n",
    "    return ans\n",
    "    \n",
    "\n"
   ]
  },
  {
   "cell_type": "markdown",
   "metadata": {},
   "source": [
    "## This is an experiment to check that check stable works well"
   ]
  },
  {
   "cell_type": "code",
   "execution_count": 20,
   "metadata": {},
   "outputs": [],
   "source": [
    "k=5\n",
    "res=[]\n",
    "for i in range(1000):\n",
    "    \n",
    "    men_pref=[]\n",
    "    women_pref=[]\n",
    "    for i in range(k):\n",
    "        men_pref=make_preferences(k)\n",
    "        women_pref=make_preferences(k)\n",
    "\n",
    "    ans=gale_shapley(men_pref,women_pref)\n",
    "    a=ans[\"disponents_partners\"]\n",
    "    b=reverse(a)\n",
    "    \n",
    "    x=list(range(k))\n",
    "    random.shuffle(x)\n",
    "    y=reverse(x)\n",
    "    T=check_stable(men_pref,women_pref,b,a)\n",
    "    F=check_stable(men_pref,women_pref,x,y)\n",
    "    res.append((T,F))\n",
    "\n",
    "\n"
   ]
  },
  {
   "cell_type": "markdown",
   "metadata": {},
   "source": [
    "## This function finds all stable marriages given preference matrix"
   ]
  },
  {
   "cell_type": "code",
   "execution_count": 22,
   "metadata": {},
   "outputs": [],
   "source": [
    "def find_all_stable_marriages(k):   \n",
    "    men_pref=make_preferences(k)\n",
    "    women_pref=make_preferences(k)\n",
    "\n",
    "    stable_marriages=[]\n",
    "    # Example list\n",
    "    numbers=list(range(k))\n",
    "\n",
    "    # Generate all permutations of the list\n",
    "    possibilities = list(permutations(numbers))\n",
    "    for possibility in possibilities:\n",
    "        if check_stable(men_pref,women_pref,reverse(possibility),possibility)==\"Stable\":\n",
    "            #print(possibility)\n",
    "            stable_marriages.append(possibility)\n",
    "    return {\"men_pref\":men_pref,\"women_pref\":women_pref,\"stable_marriages\":stable_marriages}\n"
   ]
  },
  {
   "cell_type": "markdown",
   "metadata": {},
   "source": [
    "### Find an example whith many stable marriages"
   ]
  },
  {
   "cell_type": "code",
   "execution_count": 245,
   "metadata": {},
   "outputs": [],
   "source": [
    "k=8\n",
    "examples=[]\n",
    "for i in range(500):\n",
    "    examples.append(find_all_stable_marriages(k))"
   ]
  },
  {
   "cell_type": "code",
   "execution_count": 246,
   "metadata": {},
   "outputs": [],
   "source": [
    "example=sorted(examples, key=lambda dictionary: len(dictionary[\"stable_marriages\"]))[-1]"
   ]
  },
  {
   "cell_type": "code",
   "execution_count": 247,
   "metadata": {},
   "outputs": [
    {
     "data": {
      "text/plain": [
       "{'men_pref': [[0, 1, 4, 7, 6, 3, 2, 5],\n",
       "  [1, 0, 4, 3, 2, 6, 5, 7],\n",
       "  [5, 2, 6, 3, 7, 4, 0, 1],\n",
       "  [2, 5, 3, 6, 0, 7, 1, 4],\n",
       "  [7, 3, 0, 5, 6, 2, 1, 4],\n",
       "  [3, 1, 5, 6, 7, 4, 0, 2],\n",
       "  [4, 6, 5, 2, 0, 3, 1, 7],\n",
       "  [6, 1, 7, 2, 5, 0, 3, 4]],\n",
       " 'women_pref': [[3, 2, 1, 4, 7, 5, 0, 6],\n",
       "  [5, 2, 0, 1, 4, 3, 7, 6],\n",
       "  [5, 7, 3, 4, 2, 1, 0, 6],\n",
       "  [6, 0, 1, 7, 3, 4, 5, 2],\n",
       "  [3, 2, 7, 6, 4, 5, 1, 0],\n",
       "  [3, 1, 7, 0, 6, 4, 2, 5],\n",
       "  [6, 2, 4, 7, 0, 5, 3, 1],\n",
       "  [0, 4, 6, 5, 7, 3, 1, 2]],\n",
       " 'stable_marriages': [(0, 1, 3, 5, 6, 2, 7, 4),\n",
       "  (0, 1, 7, 5, 2, 3, 6, 4),\n",
       "  (0, 1, 7, 5, 6, 3, 2, 4),\n",
       "  (1, 0, 3, 5, 6, 2, 7, 4),\n",
       "  (1, 0, 7, 5, 2, 3, 6, 4),\n",
       "  (1, 0, 7, 5, 6, 3, 2, 4),\n",
       "  (1, 5, 3, 4, 6, 2, 7, 0),\n",
       "  (1, 5, 7, 4, 2, 3, 6, 0),\n",
       "  (1, 5, 7, 4, 6, 3, 2, 0)]}"
      ]
     },
     "execution_count": 247,
     "metadata": {},
     "output_type": "execute_result"
    }
   ],
   "source": [
    "example"
   ]
  },
  {
   "cell_type": "code",
   "execution_count": 248,
   "metadata": {},
   "outputs": [],
   "source": [
    "men_pref=example[\"men_pref\"]\n",
    "women_pref=example[\"women_pref\"]\n",
    "sm=example[\"stable_marriages\"]"
   ]
  },
  {
   "cell_type": "markdown",
   "metadata": {},
   "source": [
    "## Check that marriages are stable"
   ]
  },
  {
   "cell_type": "code",
   "execution_count": 249,
   "metadata": {},
   "outputs": [],
   "source": [
    "answers=[]\n",
    "for a in sm:\n",
    "    answers.append(check_stable(men_pref,women_pref,reverse(a),a))"
   ]
  },
  {
   "cell_type": "code",
   "execution_count": 29,
   "metadata": {},
   "outputs": [
    {
     "data": {
      "text/plain": [
       "['Stable',\n",
       " 'Stable',\n",
       " 'Stable',\n",
       " 'Stable',\n",
       " 'Stable',\n",
       " 'Stable',\n",
       " 'Stable',\n",
       " 'Stable']"
      ]
     },
     "execution_count": 29,
     "metadata": {},
     "output_type": "execute_result"
    }
   ],
   "source": [
    "answers"
   ]
  },
  {
   "cell_type": "markdown",
   "metadata": {},
   "source": [
    "### Compute sadness vector"
   ]
  },
  {
   "cell_type": "code",
   "execution_count": 250,
   "metadata": {},
   "outputs": [],
   "source": [
    "def sadness_vectors(men_pref,women_pref,women_eng):\n",
    "\n",
    "    a=women_eng\n",
    "    b=reverse(a)\n",
    "    n=len(a)\n",
    "    women_sadness=[ women_pref[i].index(a[i])for i in range(n)]\n",
    "    men_sadness=[men_pref[i].index(b[i])for i in range(n)]\n",
    "    return {\"men_sadness\":men_sadness,\"women_sadness\":women_sadness}"
   ]
  },
  {
   "cell_type": "code",
   "execution_count": 251,
   "metadata": {},
   "outputs": [
    {
     "name": "stdout",
     "output_type": "stream",
     "text": [
      "men_pref [[0, 1, 4, 7, 6, 3, 2, 5], [1, 0, 4, 3, 2, 6, 5, 7], [5, 2, 6, 3, 7, 4, 0, 1], [2, 5, 3, 6, 0, 7, 1, 4], [7, 3, 0, 5, 6, 2, 1, 4], [3, 1, 5, 6, 7, 4, 0, 2], [4, 6, 5, 2, 0, 3, 1, 7], [6, 1, 7, 2, 5, 0, 3, 4]]\n",
      "women_pref [[3, 2, 1, 4, 7, 5, 0, 6], [5, 2, 0, 1, 4, 3, 7, 6], [5, 7, 3, 4, 2, 1, 0, 6], [6, 0, 1, 7, 3, 4, 5, 2], [3, 2, 7, 6, 4, 5, 1, 0], [3, 1, 7, 0, 6, 4, 2, 5], [6, 2, 4, 7, 0, 5, 3, 1], [0, 4, 6, 5, 7, 3, 1, 2]]\n",
      "women_eng (1, 0, 3, 5, 6, 2, 7, 4)\n",
      "men_eng [1, 0, 5, 2, 7, 3, 4, 6]\n"
     ]
    }
   ],
   "source": [
    "k=3\n",
    "print(\"men_pref\",men_pref)\n",
    "print(\"women_pref\",women_pref)\n",
    "print(\"women_eng\",sm[k])\n",
    "print(\"men_eng\",reverse(sm[k]))"
   ]
  },
  {
   "cell_type": "code",
   "execution_count": 252,
   "metadata": {},
   "outputs": [
    {
     "data": {
      "text/plain": [
       "{'men_sadness': [1, 1, 0, 0, 0, 0, 0, 0],\n",
       " 'women_sadness': [2, 2, 2, 6, 3, 6, 3, 1]}"
      ]
     },
     "execution_count": 252,
     "metadata": {},
     "output_type": "execute_result"
    }
   ],
   "source": [
    "sadness=sadness_vectors(men_pref,women_pref,sm[k])\n",
    "sadness"
   ]
  },
  {
   "cell_type": "code",
   "execution_count": 253,
   "metadata": {},
   "outputs": [],
   "source": [
    "men_sadness,women_sadnes=sadness[\"men_sadness\"],sadness[\"women_sadness\"]"
   ]
  },
  {
   "cell_type": "markdown",
   "metadata": {},
   "source": [
    "## Sort marriages by women sadness"
   ]
  },
  {
   "cell_type": "code",
   "execution_count": 254,
   "metadata": {},
   "outputs": [],
   "source": [
    "def sort_by_women_sadness(marriages):\n",
    "    return sorted(marriages, key=lambda x: sum(sadness_vectors(men_pref,women_pref,x)[\"women_sadness\"]))  # Sort based on the second element of each tuple\n"
   ]
  },
  {
   "cell_type": "code",
   "execution_count": 255,
   "metadata": {},
   "outputs": [
    {
     "data": {
      "text/plain": [
       "[(1, 5, 7, 4, 2, 3, 6, 0),\n",
       " (1, 5, 7, 4, 6, 3, 2, 0),\n",
       " (1, 0, 7, 5, 2, 3, 6, 4),\n",
       " (1, 0, 7, 5, 6, 3, 2, 4),\n",
       " (0, 1, 7, 5, 2, 3, 6, 4),\n",
       " (0, 1, 7, 5, 6, 3, 2, 4),\n",
       " (1, 5, 3, 4, 6, 2, 7, 0),\n",
       " (1, 0, 3, 5, 6, 2, 7, 4),\n",
       " (0, 1, 3, 5, 6, 2, 7, 4)]"
      ]
     },
     "execution_count": 255,
     "metadata": {},
     "output_type": "execute_result"
    }
   ],
   "source": [
    "sm_by_women_sadness=sort_by_women_sadness(sm)\n",
    "sm_by_women_sadness"
   ]
  },
  {
   "cell_type": "code",
   "execution_count": 256,
   "metadata": {},
   "outputs": [
    {
     "data": {
      "text/plain": [
       "[0, 1, 3, 5, 6, 2, 7, 4]"
      ]
     },
     "execution_count": 256,
     "metadata": {},
     "output_type": "execute_result"
    }
   ],
   "source": [
    "gale_shapley(men_pref,women_pref)[\"disponents_partners\"]"
   ]
  },
  {
   "cell_type": "markdown",
   "metadata": {},
   "source": [
    "## Sort marriages by men sadness"
   ]
  },
  {
   "cell_type": "code",
   "execution_count": 257,
   "metadata": {},
   "outputs": [],
   "source": [
    "\n",
    "def sort_by_men_sadness(marriages):\n",
    "    return sorted(marriages, key=lambda x: sum(sadness_vectors(men_pref,women_pref,x)[\"men_sadness\"]))  # Sort based on the second element of each tuple"
   ]
  },
  {
   "cell_type": "code",
   "execution_count": 258,
   "metadata": {},
   "outputs": [
    {
     "data": {
      "text/plain": [
       "[(0, 1, 3, 5, 6, 2, 7, 4),\n",
       " (1, 0, 3, 5, 6, 2, 7, 4),\n",
       " (0, 1, 7, 5, 6, 3, 2, 4),\n",
       " (1, 5, 3, 4, 6, 2, 7, 0),\n",
       " (1, 0, 7, 5, 6, 3, 2, 4),\n",
       " (0, 1, 7, 5, 2, 3, 6, 4),\n",
       " (1, 0, 7, 5, 2, 3, 6, 4),\n",
       " (1, 5, 7, 4, 6, 3, 2, 0),\n",
       " (1, 5, 7, 4, 2, 3, 6, 0)]"
      ]
     },
     "execution_count": 258,
     "metadata": {},
     "output_type": "execute_result"
    }
   ],
   "source": [
    "sm_by_men_sadness=sort_by_men_sadness(sm)\n",
    "sm_by_men_sadness"
   ]
  },
  {
   "cell_type": "code",
   "execution_count": 259,
   "metadata": {},
   "outputs": [
    {
     "data": {
      "text/plain": [
       "[0, 1, 3, 5, 6, 2, 7, 4]"
      ]
     },
     "execution_count": 259,
     "metadata": {},
     "output_type": "execute_result"
    }
   ],
   "source": [
    "gale_shapley(men_pref,women_pref)[\"disponents_partners\"]"
   ]
  },
  {
   "cell_type": "markdown",
   "metadata": {},
   "source": [
    "## Sort by average sadness"
   ]
  },
  {
   "cell_type": "code",
   "execution_count": 260,
   "metadata": {},
   "outputs": [],
   "source": [
    "\n",
    "def sort_by_average_sadness(marriages):\n",
    "    return sorted(marriages, key=lambda x: sum(sadness_vectors(men_pref,women_pref,x)[\"men_sadness\"])+sum(sadness_vectors(men_pref,women_pref,x)[\"women_sadness\"]))  # Sort based on the second element of each tuple"
   ]
  },
  {
   "cell_type": "code",
   "execution_count": 261,
   "metadata": {},
   "outputs": [
    {
     "data": {
      "text/plain": [
       "[(1, 0, 7, 5, 6, 3, 2, 4),\n",
       " (1, 5, 7, 4, 6, 3, 2, 0),\n",
       " (1, 0, 7, 5, 2, 3, 6, 4),\n",
       " (1, 5, 7, 4, 2, 3, 6, 0),\n",
       " (0, 1, 7, 5, 6, 3, 2, 4),\n",
       " (1, 0, 3, 5, 6, 2, 7, 4),\n",
       " (1, 5, 3, 4, 6, 2, 7, 0),\n",
       " (0, 1, 7, 5, 2, 3, 6, 4),\n",
       " (0, 1, 3, 5, 6, 2, 7, 4)]"
      ]
     },
     "execution_count": 261,
     "metadata": {},
     "output_type": "execute_result"
    }
   ],
   "source": [
    "sm_by_avg=sort_by_average_sadness(sm)\n",
    "sm_by_avg"
   ]
  },
  {
   "cell_type": "code",
   "execution_count": 262,
   "metadata": {},
   "outputs": [
    {
     "data": {
      "text/plain": [
       "[0, 1, 3, 5, 6, 2, 7, 4]"
      ]
     },
     "execution_count": 262,
     "metadata": {},
     "output_type": "execute_result"
    }
   ],
   "source": [
    "gale_shapley(men_pref,women_pref)[\"disponents_partners\"]"
   ]
  },
  {
   "cell_type": "markdown",
   "metadata": {},
   "source": [
    "## Sort by maximal sadness"
   ]
  },
  {
   "cell_type": "code",
   "execution_count": 263,
   "metadata": {},
   "outputs": [],
   "source": [
    "\n",
    "def sort_by_maximal_sadness(marriages):\n",
    "    return sorted(marriages, key=lambda x: sorted(sadness_vectors(men_pref,women_pref,x)[\"men_sadness\"]+sadness_vectors(men_pref,women_pref,x)[\"women_sadness\"],reverse=True))"
   ]
  },
  {
   "cell_type": "code",
   "execution_count": 264,
   "metadata": {},
   "outputs": [
    {
     "data": {
      "text/plain": [
       "[(1, 5, 7, 4, 6, 3, 2, 0),\n",
       " (1, 5, 7, 4, 2, 3, 6, 0),\n",
       " (1, 0, 7, 5, 6, 3, 2, 4),\n",
       " (1, 0, 7, 5, 2, 3, 6, 4),\n",
       " (1, 5, 3, 4, 6, 2, 7, 0),\n",
       " (1, 0, 3, 5, 6, 2, 7, 4),\n",
       " (0, 1, 7, 5, 6, 3, 2, 4),\n",
       " (0, 1, 7, 5, 2, 3, 6, 4),\n",
       " (0, 1, 3, 5, 6, 2, 7, 4)]"
      ]
     },
     "execution_count": 264,
     "metadata": {},
     "output_type": "execute_result"
    }
   ],
   "source": [
    "sm_by_max=sort_by_maximal_sadness(sm)\n",
    "sm_by_max"
   ]
  },
  {
   "cell_type": "code",
   "execution_count": 265,
   "metadata": {},
   "outputs": [
    {
     "name": "stdout",
     "output_type": "stream",
     "text": [
      "{'men_sadness': [3, 1, 2, 1, 1, 1, 0, 3], 'women_sadness': [2, 0, 1, 5, 3, 0, 1, 0]} [5, 3, 3, 3, 2, 2, 1, 1, 1, 1, 1, 1, 0, 0, 0, 0]\n",
      "{'men_sadness': [3, 1, 5, 1, 1, 1, 1, 3], 'women_sadness': [2, 0, 1, 5, 1, 0, 0, 0]} [5, 5, 3, 3, 2, 1, 1, 1, 1, 1, 1, 1, 0, 0, 0, 0]\n",
      "{'men_sadness': [1, 1, 2, 1, 0, 0, 0, 3], 'women_sadness': [2, 2, 1, 6, 3, 0, 1, 1]} [6, 3, 3, 2, 2, 2, 1, 1, 1, 1, 1, 1, 0, 0, 0, 0]\n",
      "{'men_sadness': [1, 1, 5, 1, 0, 0, 1, 3], 'women_sadness': [2, 2, 1, 6, 1, 0, 0, 1]} [6, 5, 3, 2, 2, 1, 1, 1, 1, 1, 1, 1, 0, 0, 0, 0]\n",
      "{'men_sadness': [3, 1, 0, 0, 1, 1, 0, 0], 'women_sadness': [2, 0, 2, 5, 3, 6, 3, 0]} [6, 5, 3, 3, 3, 2, 2, 1, 1, 1, 0, 0, 0, 0, 0, 0]\n",
      "{'men_sadness': [1, 1, 0, 0, 0, 0, 0, 0], 'women_sadness': [2, 2, 2, 6, 3, 6, 3, 1]} [6, 6, 3, 3, 2, 2, 2, 1, 1, 1, 0, 0, 0, 0, 0, 0]\n",
      "{'men_sadness': [0, 0, 2, 1, 0, 0, 0, 3], 'women_sadness': [6, 3, 1, 6, 3, 0, 1, 1]} [6, 6, 3, 3, 3, 2, 1, 1, 1, 1, 0, 0, 0, 0, 0, 0]\n",
      "{'men_sadness': [0, 0, 5, 1, 0, 0, 1, 3], 'women_sadness': [6, 3, 1, 6, 1, 0, 0, 1]} [6, 6, 5, 3, 3, 1, 1, 1, 1, 1, 0, 0, 0, 0, 0, 0]\n",
      "{'men_sadness': [0, 0, 0, 0, 0, 0, 0, 0], 'women_sadness': [6, 3, 2, 6, 3, 6, 3, 1]} [6, 6, 6, 3, 3, 3, 2, 1, 0, 0, 0, 0, 0, 0, 0, 0]\n"
     ]
    }
   ],
   "source": [
    "for item in sm_by_max:\n",
    "    x=sadness_vectors(men_pref,women_pref,item)\n",
    "    \n",
    "    print(x,sorted(x[\"women_sadness\"]+x[\"men_sadness\"],reverse=True))"
   ]
  },
  {
   "cell_type": "code",
   "execution_count": 266,
   "metadata": {},
   "outputs": [
    {
     "name": "stdout",
     "output_type": "stream",
     "text": [
      "[(0, 1, 3, 5, 6, 2, 7, 4), (1, 0, 3, 5, 6, 2, 7, 4), (0, 1, 7, 5, 6, 3, 2, 4), (1, 5, 3, 4, 6, 2, 7, 0), (1, 0, 7, 5, 6, 3, 2, 4), (0, 1, 7, 5, 2, 3, 6, 4), (1, 0, 7, 5, 2, 3, 6, 4), (1, 5, 7, 4, 6, 3, 2, 0), (1, 5, 7, 4, 2, 3, 6, 0)]\n",
      "[(0, 1, 3, 5, 6, 2, 7, 4), (1, 0, 3, 5, 6, 2, 7, 4), (1, 5, 3, 4, 6, 2, 7, 0), (0, 1, 7, 5, 6, 3, 2, 4), (0, 1, 7, 5, 2, 3, 6, 4), (1, 0, 7, 5, 6, 3, 2, 4), (1, 0, 7, 5, 2, 3, 6, 4), (1, 5, 7, 4, 6, 3, 2, 0), (1, 5, 7, 4, 2, 3, 6, 0)]\n"
     ]
    }
   ],
   "source": [
    "print(sm_by_men_sadness)\n",
    "print(sm_by_women_sadness[::-1])"
   ]
  },
  {
   "cell_type": "code",
   "execution_count": 267,
   "metadata": {},
   "outputs": [
    {
     "data": {
      "text/plain": [
       "False"
      ]
     },
     "execution_count": 267,
     "metadata": {},
     "output_type": "execute_result"
    }
   ],
   "source": [
    "sm_by_avg==sm_by_max"
   ]
  },
  {
   "cell_type": "markdown",
   "metadata": {},
   "source": [
    "### Create order "
   ]
  },
  {
   "cell_type": "code",
   "execution_count": 268,
   "metadata": {},
   "outputs": [],
   "source": [
    "def women_rather(x:list,y:list):### Takes two marriages x and y and returns whether or not women prefere x over y\n",
    "    n=len(x)\n",
    "    ans=True\n",
    "    sadness_X=sadness_vectors(men_pref,women_pref,x)\n",
    "    sadness_Y=sadness_vectors(men_pref,women_pref,y)\n",
    "    for i in range(n):\n",
    "        if sadness_X[\"women_sadness\"][i]> sadness_Y[\"women_sadness\"][i]:\n",
    "            ans=False\n",
    "            break\n",
    "    return ans\n",
    "\n"
   ]
  },
  {
   "cell_type": "code",
   "execution_count": 269,
   "metadata": {},
   "outputs": [
    {
     "data": {
      "text/plain": [
       "[[True, True, True, True, True, True, True, True, True],\n",
       " [False, True, False, True, False, True, True, True, True],\n",
       " [False, False, True, True, True, True, False, True, True],\n",
       " [False, False, False, True, False, True, False, True, True],\n",
       " [False, False, False, False, True, True, False, False, True],\n",
       " [False, False, False, False, False, True, False, False, True],\n",
       " [False, False, False, False, False, False, True, True, True],\n",
       " [False, False, False, False, False, False, False, True, True],\n",
       " [False, False, False, False, False, False, False, False, True]]"
      ]
     },
     "execution_count": 269,
     "metadata": {},
     "output_type": "execute_result"
    }
   ],
   "source": [
    "M=[]\n",
    "for marriage in sm_by_women_sadness:\n",
    "    M.append([women_rather(marriage,item) for item in sm_by_women_sadness])\n",
    "M\n",
    "        "
   ]
  },
  {
   "cell_type": "code",
   "execution_count": 270,
   "metadata": {},
   "outputs": [],
   "source": [
    "def men_rather(x:list,y:list):### Takes two marriages x and y and returns whether or not women prefere x over y\n",
    "    n=len(x)\n",
    "    ans=True\n",
    "    sadness_X=sadness_vectors(men_pref,women_pref,x)\n",
    "    sadness_Y=sadness_vectors(men_pref,women_pref,y)\n",
    "    for i in range(n):\n",
    "        if sadness_X[\"men_sadness\"][i]> sadness_Y[\"men_sadness\"][i]:\n",
    "            ans=False\n",
    "            break\n",
    "    return ans"
   ]
  },
  {
   "cell_type": "markdown",
   "metadata": {},
   "source": [
    "## Check that the two relationships define the same order"
   ]
  },
  {
   "cell_type": "code",
   "execution_count": 271,
   "metadata": {},
   "outputs": [],
   "source": [
    "pairs_according_to_women={(A,B) for (A,B) in product(sm,sm) if women_rather(A,B)}\n",
    "pairs_according_to_men={(B,A) for (A,B) in product(sm,sm) if men_rather(A,B)}"
   ]
  },
  {
   "cell_type": "code",
   "execution_count": 272,
   "metadata": {},
   "outputs": [
    {
     "data": {
      "text/plain": [
       "True"
      ]
     },
     "execution_count": 272,
     "metadata": {},
     "output_type": "execute_result"
    }
   ],
   "source": [
    "pairs_according_to_men==pairs_according_to_women"
   ]
  },
  {
   "cell_type": "markdown",
   "metadata": {},
   "source": [
    "## The Join Operation (v)"
   ]
  },
  {
   "cell_type": "code",
   "execution_count": 273,
   "metadata": {},
   "outputs": [],
   "source": [
    "def join(marriage_x,marriage_y):\n",
    "    # The join operation takes two marriages and computes the join between them (the women choose the best of the two options)\n",
    "    women_sadness_X=sadness_vectors(men_pref,women_pref,marriage_x)[\"women_sadness\"]\n",
    "    women_sadness_Y=sadness_vectors(men_pref,women_pref,marriage_y)[\"women_sadness\"]\n",
    "    ans=list(marriage_x)\n",
    "    for i in range(len(marriage_x)):\n",
    "        if women_sadness_X[i]>women_sadness_Y[i]:\n",
    "            ans[i]=marriage_y[i]\n",
    "    return tuple(ans)"
   ]
  },
  {
   "cell_type": "code",
   "execution_count": 274,
   "metadata": {},
   "outputs": [
    {
     "data": {
      "text/plain": [
       "[]"
      ]
     },
     "execution_count": 274,
     "metadata": {},
     "output_type": "execute_result"
    }
   ],
   "source": [
    "count=[]\n",
    "for (x,y) in product(sm,sm):\n",
    "    if join(x,y) not in sm:\n",
    "        count.append((x,y))\n",
    "count\n",
    "      "
   ]
  },
  {
   "cell_type": "markdown",
   "metadata": {},
   "source": [
    "## The Meet operation (^)"
   ]
  },
  {
   "cell_type": "code",
   "execution_count": 275,
   "metadata": {},
   "outputs": [],
   "source": [
    "def meet(marriage_x,marriage_y):\n",
    "    # The meet operation takes two marriages and computes the join between them (the men choose the best of the two options)\n",
    "    men_sadness_X=sadness_vectors(men_pref,women_pref,marriage_x)[\"men_sadness\"]\n",
    "    men_sadness_Y=sadness_vectors(men_pref,women_pref,marriage_y)[\"men_sadness\"]\n",
    "    reversed_marriage_x=reverse(list(marriage_x))\n",
    "    reversed_marriage_y=reverse(list(marriage_y))\n",
    "    reversed_ans=reversed_marriage_x\n",
    "    for i in range(len(marriage_x)):\n",
    "        if men_sadness_X[i]>men_sadness_Y[i]:\n",
    "            reversed_ans[i]=reversed_marriage_y[i]\n",
    "    ans=tuple(reverse(reversed_ans))\n",
    "    return ans"
   ]
  },
  {
   "cell_type": "code",
   "execution_count": 276,
   "metadata": {},
   "outputs": [
    {
     "data": {
      "text/plain": [
       "[]"
      ]
     },
     "execution_count": 276,
     "metadata": {},
     "output_type": "execute_result"
    }
   ],
   "source": [
    "count=[]\n",
    "for (x,y) in product(sm,sm):\n",
    "    if meet(x,y) not in sm:\n",
    "        count.append((x,y))\n",
    "count"
   ]
  },
  {
   "cell_type": "markdown",
   "metadata": {},
   "source": [
    "## Check that X v (Y^Z)=(XvY)^(XvZ)"
   ]
  },
  {
   "cell_type": "code",
   "execution_count": 277,
   "metadata": {},
   "outputs": [],
   "source": [
    "for x,y,z in product(sm,repeat=3):\n",
    "    if join(x,meet(y,z))!=meet(join(x,y),join(x,z)):\n",
    "        print(\"wtf\")"
   ]
  },
  {
   "cell_type": "code",
   "execution_count": 278,
   "metadata": {},
   "outputs": [
    {
     "data": {
      "text/plain": [
       "8"
      ]
     },
     "execution_count": 278,
     "metadata": {},
     "output_type": "execute_result"
    }
   ],
   "source": [
    "len(SM)"
   ]
  },
  {
   "cell_type": "markdown",
   "metadata": {},
   "source": [
    "## Check that X ^ (YvZ)=(X^Y)v(X^Z)"
   ]
  },
  {
   "cell_type": "code",
   "execution_count": 279,
   "metadata": {},
   "outputs": [],
   "source": [
    "for x,y,z in product(sm,repeat=3):\n",
    "    if meet(x,join(y,z))!=join(meet(x,y),meet(x,z)):\n",
    "        print(\"wtf\")"
   ]
  },
  {
   "cell_type": "code",
   "execution_count": 280,
   "metadata": {},
   "outputs": [],
   "source": [
    "for x,y in product(sm,repeat=2):\n",
    "    if not women_rather(join(x,y),x) or not women_rather(join(x,y),y) or not women_rather(x,meet(x,y)) or not women_rather(y,meet(x,y)):\n",
    "        print(\"wtf\")"
   ]
  },
  {
   "cell_type": "markdown",
   "metadata": {},
   "source": [
    "## Check Birkoff's theorem"
   ]
  },
  {
   "cell_type": "markdown",
   "metadata": {},
   "source": [
    "### Define the bijections"
   ]
  },
  {
   "cell_type": "code",
   "execution_count": 282,
   "metadata": {},
   "outputs": [],
   "source": [
    "\n",
    "N=len(sm)\n",
    "X=list(range(N))\n",
    "reducibles=[tuple(gale_shapley(men_pref,women_pref)[\"disponents_partners\"])]\n",
    "for x,y in product(sm,sm):\n",
    "    if not women_rather(x,y) and not women_rather(y,x):\n",
    "        reducibles.append(join(x,y))\n",
    "reducibles=[i for i in X if sm[i] in reducibles]\n",
    "irreducibles=[i for i in X if i not in reducibles]\n",
    "F=dict()\n",
    "for marriage in sm:\n",
    "    F[marriage]=tuple(sorted([x for x in irreducibles if women_rather(marriage,sm[x])]))\n",
    "G=dict()\n",
    "for item in list(F.keys()):\n",
    "    G[F[item]]=item\n",
    "SM=list(F.values())"
   ]
  },
  {
   "cell_type": "code",
   "execution_count": 283,
   "metadata": {},
   "outputs": [
    {
     "data": {
      "text/plain": [
       "[(), (1, 2), (2,), (3,), (1, 2, 3), (2, 3), (3, 6), (1, 2, 3, 6), (2, 3, 6)]"
      ]
     },
     "execution_count": 283,
     "metadata": {},
     "output_type": "execute_result"
    }
   ],
   "source": [
    "SM"
   ]
  },
  {
   "cell_type": "code",
   "execution_count": 286,
   "metadata": {},
   "outputs": [],
   "source": [
    "for item in sm:\n",
    "    if G[F[item]]!=item:\n",
    "        print(\"wtf\")"
   ]
  },
  {
   "cell_type": "code",
   "execution_count": 287,
   "metadata": {},
   "outputs": [],
   "source": [
    "for item in SM:\n",
    "    if F[G[item]]!=item:\n",
    "        print(\"wtf\")"
   ]
  },
  {
   "cell_type": "markdown",
   "metadata": {},
   "source": [
    "### Define the join and meet operations in SM"
   ]
  },
  {
   "cell_type": "code",
   "execution_count": 288,
   "metadata": {},
   "outputs": [],
   "source": [
    "def MEET(tuple_x,tuple_y):\n",
    "    return tuple(sorted([x for x in X if x in tuple_x and x in tuple_y]))\n",
    "def JOIN(tuple_x,tuple_y):\n",
    "    return tuple(sorted([x for x in X if x in tuple_x or x in tuple_y]))\n"
   ]
  },
  {
   "cell_type": "markdown",
   "metadata": {},
   "source": [
    "### Check that F is an isomorphism"
   ]
  },
  {
   "cell_type": "code",
   "execution_count": 289,
   "metadata": {},
   "outputs": [],
   "source": [
    "for x,y in product(sm,sm):\n",
    "    if F[join(x,y)]!=JOIN(F[x],F[y]) or F[meet(x,y)]!=MEET(F[x],F[y]):\n",
    "        print(\"wtf\")\n",
    "        "
   ]
  },
  {
   "cell_type": "code",
   "execution_count": 290,
   "metadata": {},
   "outputs": [
    {
     "data": {
      "text/plain": [
       "[(), (1, 2), (2,), (3,), (1, 2, 3), (2, 3), (3, 6), (1, 2, 3, 6), (2, 3, 6)]"
      ]
     },
     "execution_count": 290,
     "metadata": {},
     "output_type": "execute_result"
    }
   ],
   "source": [
    "SM"
   ]
  }
 ],
 "metadata": {
  "kernelspec": {
   "display_name": "Matem-Disc",
   "language": "python",
   "name": "python3"
  },
  "language_info": {
   "codemirror_mode": {
    "name": "ipython",
    "version": 3
   },
   "file_extension": ".py",
   "mimetype": "text/x-python",
   "name": "python",
   "nbconvert_exporter": "python",
   "pygments_lexer": "ipython3",
   "version": "3.10.13"
  },
  "orig_nbformat": 4
 },
 "nbformat": 4,
 "nbformat_minor": 2
}
