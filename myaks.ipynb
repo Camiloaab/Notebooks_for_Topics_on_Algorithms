{
 "cells": [
  {
   "cell_type": "code",
   "execution_count": 1,
   "metadata": {},
   "outputs": [],
   "source": [
    "import math\n",
    "import time\n",
    "from sympy import symbols, Poly\n",
    "import matplotlib.pyplot as plt"
   ]
  },
  {
   "attachments": {},
   "cell_type": "markdown",
   "metadata": {},
   "source": [
    "## The AKS algorithm for primality testing\n",
    "### Thanks to Benedict Schülter for sharing an implementation of the algorithm\n"
   ]
  },
  {
   "cell_type": "markdown",
   "metadata": {},
   "source": [
    "### Here is the trivial algorithm"
   ]
  },
  {
   "cell_type": "code",
   "execution_count": 2,
   "metadata": {},
   "outputs": [],
   "source": [
    "def trivial(n):\n",
    "    if n == 2:\n",
    "        return True\n",
    "    for i in range(2, math.floor(math.sqrt(n)) + 1):\n",
    "        if n % i == 0:\n",
    "            return False\n",
    "    return True"
   ]
  },
  {
   "cell_type": "markdown",
   "metadata": {},
   "source": [
    "### Fast exponentiation in truncated polynomials"
   ]
  },
  {
   "cell_type": "code",
   "execution_count": 8,
   "metadata": {},
   "outputs": [],
   "source": [
    "\n",
    "\n",
    "def poly_mult_mod(poly1, poly2, r, k):\n",
    "    \"\"\"\n",
    "    Multiply two polynomials and take the result modulo x^r - 1 with coefficients reduced modulo k.\n",
    "    \"\"\"\n",
    "    x = symbols('x')\n",
    "    result = Poly(poly1, x) * Poly(poly2, x)\n",
    "    result = result % Poly(x**r - 1, x)\n",
    "    result = Poly([coeff % k for coeff in result.all_coeffs()], x)\n",
    "    return result\n",
    "\n",
    "def fast_exp_mod(poly_base, exp, r, k):\n",
    "    \"\"\"\n",
    "    Compute poly_base^exp in the ring of polynomials quotiented by x^r - 1 with coefficients in integers modulo k.\n",
    "    \"\"\"\n",
    "    x = symbols('x')\n",
    "    result = Poly(1, x)\n",
    "    base = Poly(poly_base, x)\n",
    "    \n",
    "    while exp > 0:\n",
    "        if exp % 2 == 1:\n",
    "            result = poly_mult_mod(result, base, r, k)\n",
    "        base = poly_mult_mod(base, base, r, k)\n",
    "        exp //= 2\n",
    "        \n",
    "    return result"
   ]
  },
  {
   "cell_type": "code",
   "execution_count": 4,
   "metadata": {},
   "outputs": [
    {
     "name": "stdout",
     "output_type": "stream",
     "text": [
      "Poly(6*x**4 + 6*x**3 + x**2 + 6*x + 5, x, domain='ZZ')\n"
     ]
    },
    {
     "data": {
      "text/latex": [
       "$\\displaystyle \\operatorname{Poly}{\\left( x^{58} - x^{46} - 5 x^{45} - x^{14} - 2 x^{13} + x^{2} + 7 x + 10, x, domain=\\mathbb{Z} \\right)}$"
      ],
      "text/plain": [
       "Poly(x**58 - x**46 - 5*x**45 - x**14 - 2*x**13 + x**2 + 7*x + 10, x, domain='ZZ')"
      ]
     },
     "execution_count": 4,
     "metadata": {},
     "output_type": "execute_result"
    }
   ],
   "source": [
    "x=symbols(\"x\")\n",
    "A=Poly(x**45-x-2,x)\n",
    "B=Poly(x**13-x-5,x)\n",
    "print(poly_mult_mod(A,B,5,7))\n",
    "A*B"
   ]
  },
  {
   "cell_type": "code",
   "execution_count": 5,
   "metadata": {},
   "outputs": [
    {
     "data": {
      "text/latex": [
       "$\\displaystyle \\operatorname{Poly}{\\left( 3 x^{16} + 2 x^{15} + 2 x^{14} + x^{13} + x^{12} + 3 x^{11} + x^{10} + 4 x^{9} + 3 x^{8} + 4 x^{7} + 2 x^{6} + 3 x^{5} + 2 x^{4} + 2 x^{3} + x + 4, x, domain=\\mathbb{Z} \\right)}$"
      ],
      "text/plain": [
       "Poly(3*x**16 + 2*x**15 + 2*x**14 + x**13 + x**12 + 3*x**11 + x**10 + 4*x**9 + 3*x**8 + 4*x**7 + 2*x**6 + 3*x**5 + 2*x**4 + 2*x**3 + x + 4, x, domain='ZZ')"
      ]
     },
     "execution_count": 5,
     "metadata": {},
     "output_type": "execute_result"
    }
   ],
   "source": [
    "fast_exp_mod(A,50999987788768687868687600001,17,5)"
   ]
  },
  {
   "cell_type": "markdown",
   "metadata": {},
   "source": [
    "## The function Phi"
   ]
  },
  {
   "cell_type": "code",
   "execution_count": 6,
   "metadata": {},
   "outputs": [],
   "source": [
    "def phi(n):\n",
    "    amount = 0\n",
    "    for k in range(1, n ):\n",
    "        if math.gcd(k, n) == 1:\n",
    "            amount += 1\n",
    "    return amount"
   ]
  },
  {
   "cell_type": "markdown",
   "metadata": {},
   "source": [
    "### Step 1: Check if n is a perfect power"
   ]
  },
  {
   "cell_type": "code",
   "execution_count": 7,
   "metadata": {},
   "outputs": [],
   "source": [
    "\n",
    "def ispower(n):\n",
    "    for b in range(2, math.floor(math.log2(n) + 2)):\n",
    "        a = int(n ** (1 / b))\n",
    "        if a**b==n or (a+1)**b==n:\n",
    "            return True\n",
    "    return False"
   ]
  },
  {
   "cell_type": "code",
   "execution_count": 8,
   "metadata": {},
   "outputs": [
    {
     "data": {
      "text/plain": [
       "True"
      ]
     },
     "execution_count": 8,
     "metadata": {},
     "output_type": "execute_result"
    }
   ],
   "source": [
    "ispower(3**11)"
   ]
  },
  {
   "cell_type": "markdown",
   "metadata": {},
   "source": [
    "### Step 2: Find a good r"
   ]
  },
  {
   "cell_type": "code",
   "execution_count": 9,
   "metadata": {},
   "outputs": [],
   "source": [
    "def find_r(n):\n",
    "    mk = math.floor(math.log2(n) ** 2)\n",
    "    nexr = True\n",
    "    r = 1\n",
    "    while nexr:\n",
    "        r += 1\n",
    "        nexr = False\n",
    "        if math.gcd(r,n)!=1:\n",
    "            nexr=True\n",
    "        k = 0\n",
    "        while k <= mk and not nexr:\n",
    "            k = k + 1\n",
    "            if pow(n, k, r) in (0, 1):\n",
    "                nexr = True\n",
    "    return r"
   ]
  },
  {
   "cell_type": "code",
   "execution_count": 10,
   "metadata": {},
   "outputs": [],
   "source": [
    "n=9385098039580921898797668876"
   ]
  },
  {
   "cell_type": "code",
   "execution_count": 11,
   "metadata": {},
   "outputs": [
    {
     "data": {
      "text/plain": [
       "1"
      ]
     },
     "execution_count": 11,
     "metadata": {},
     "output_type": "execute_result"
    }
   ],
   "source": [
    "math.gcd(find_r(n),n)"
   ]
  },
  {
   "cell_type": "code",
   "execution_count": 12,
   "metadata": {},
   "outputs": [],
   "source": [
    "size=math.log2(n)"
   ]
  },
  {
   "cell_type": "code",
   "execution_count": 13,
   "metadata": {},
   "outputs": [],
   "source": [
    "r=find_r(n)"
   ]
  },
  {
   "cell_type": "code",
   "execution_count": 15,
   "metadata": {},
   "outputs": [
    {
     "data": {
      "text/plain": [
       "True"
      ]
     },
     "execution_count": 15,
     "metadata": {},
     "output_type": "execute_result"
    }
   ],
   "source": [
    "r>size"
   ]
  },
  {
   "cell_type": "code",
   "execution_count": 17,
   "metadata": {},
   "outputs": [],
   "source": [
    "for i in range(1,int(size)):\n",
    "    if (n**i)%r==1:\n",
    "        print(\"error\")"
   ]
  },
  {
   "cell_type": "markdown",
   "metadata": {},
   "source": [
    "### Step 3: Check that 1<a<min(n,r) is prime with n"
   ]
  },
  {
   "cell_type": "code",
   "execution_count": 18,
   "metadata": {},
   "outputs": [],
   "source": [
    "def check_up_to_min(n, r):\n",
    "    smaller=min(n,r)\n",
    "    for a in range(2, smaller):\n",
    "        if 1 < math.gcd(a, n):\n",
    "            return False\n",
    "    return True"
   ]
  },
  {
   "cell_type": "markdown",
   "metadata": {},
   "source": [
    "### Step4: Check polynomial identities"
   ]
  },
  {
   "cell_type": "code",
   "execution_count": 19,
   "metadata": {},
   "outputs": [],
   "source": [
    "def check_identities(n,r):\n",
    "    x=symbols(\"x\")\n",
    "    ans=True\n",
    "    upper=int(math.sqrt(phi(r))*math.log(n,2))+1\n",
    "    for a in range(2,upper):\n",
    "        if fast_exp_mod(Poly(x+a,x), n, r, n)!=Poly(x**(n%r)+a):\n",
    "            ans=False\n",
    "            break\n",
    "    return ans\n"
   ]
  },
  {
   "cell_type": "markdown",
   "metadata": {},
   "source": [
    "### MyAKS"
   ]
  },
  {
   "cell_type": "code",
   "execution_count": 20,
   "metadata": {},
   "outputs": [],
   "source": [
    "def myaks(n):\n",
    "    if ispower(n):\n",
    "        return False\n",
    "    else:\n",
    "        r=find_r(n)\n",
    "        if not check_up_to_min(n,r):\n",
    "            return False\n",
    "        if n<=r:\n",
    "            return True\n",
    "        return check_identities(n,r)\n",
    "    \n"
   ]
  },
  {
   "cell_type": "code",
   "execution_count": 21,
   "metadata": {},
   "outputs": [],
   "source": [
    "for i in range(2,140):\n",
    "    if myaks(i)!=trivial(i):\n",
    "        print(\"what the hell\")"
   ]
  },
  {
   "cell_type": "code",
   "execution_count": 23,
   "metadata": {},
   "outputs": [
    {
     "data": {
      "text/plain": [
       "False"
      ]
     },
     "execution_count": 23,
     "metadata": {},
     "output_type": "execute_result"
    }
   ],
   "source": [
    "myaks(34503948145346456465643453553554632341)"
   ]
  },
  {
   "cell_type": "code",
   "execution_count": 36,
   "metadata": {},
   "outputs": [],
   "source": [
    "P=1000000007"
   ]
  },
  {
   "cell_type": "code",
   "execution_count": 40,
   "metadata": {},
   "outputs": [
    {
     "data": {
      "text/plain": [
       "False"
      ]
     },
     "execution_count": 40,
     "metadata": {},
     "output_type": "execute_result"
    }
   ],
   "source": [
    "aks(100)"
   ]
  },
  {
   "cell_type": "code",
   "execution_count": 24,
   "metadata": {},
   "outputs": [],
   "source": [
    "def check_in_range(a,b):\n",
    "    count=0\n",
    "    for i in range(a,b):\n",
    "        if myaks(i)!=trivial(i):\n",
    "            count=+1\n",
    "    return count"
   ]
  },
  {
   "cell_type": "code",
   "execution_count": 25,
   "metadata": {},
   "outputs": [
    {
     "data": {
      "text/plain": [
       "0"
      ]
     },
     "execution_count": 25,
     "metadata": {},
     "output_type": "execute_result"
    }
   ],
   "source": [
    "check_in_range(600,650)"
   ]
  },
  {
   "cell_type": "code",
   "execution_count": 27,
   "metadata": {},
   "outputs": [
    {
     "data": {
      "text/plain": [
       "True"
      ]
     },
     "execution_count": 27,
     "metadata": {},
     "output_type": "execute_result"
    }
   ],
   "source": [
    "q=244565613454353455\n",
    "myaks(q)==trivial(q)"
   ]
  },
  {
   "cell_type": "markdown",
   "metadata": {},
   "source": [
    "### Comparre running times"
   ]
  },
  {
   "cell_type": "code",
   "execution_count": 28,
   "metadata": {},
   "outputs": [],
   "source": [
    "def compute_times_trivial(a,b):\n",
    "    ans=[]\n",
    "    for i in range(a,b):\n",
    "        start=time.time()\n",
    "        trivial(i)\n",
    "        end=time.time()\n",
    "        duration=end-start\n",
    "        ans.append(duration)\n",
    "    return ans"
   ]
  },
  {
   "cell_type": "code",
   "execution_count": 29,
   "metadata": {},
   "outputs": [],
   "source": [
    "def compute_times_myaks(a,b):\n",
    "    ans=[]\n",
    "    for i in range(a,b):\n",
    "        start=time.time()\n",
    "        myaks(i)\n",
    "        end=time.time()\n",
    "        duration=end-start\n",
    "        ans.append(duration)\n",
    "    return ans"
   ]
  },
  {
   "cell_type": "code",
   "execution_count": 30,
   "metadata": {},
   "outputs": [
    {
     "data": {
      "text/plain": [
       "[1.3113021850585938e-05,\n",
       " 6.198883056640625e-06,\n",
       " 7.152557373046875e-07,\n",
       " 8.344650268554688e-06,\n",
       " 2.86102294921875e-06,\n",
       " 5.0067901611328125e-06,\n",
       " 1.1920928955078125e-06,\n",
       " 9.5367431640625e-07,\n",
       " 5.0067901611328125e-06,\n",
       " 7.867813110351562e-06,\n",
       " 6.198883056640625e-06,\n",
       " 9.059906005859375e-06,\n",
       " 5.7220458984375e-06,\n",
       " 8.344650268554688e-06,\n",
       " 0.0,\n",
       " 1.4066696166992188e-05,\n",
       " 1.0013580322265625e-05,\n",
       " 1.5020370483398438e-05,\n",
       " 1.0967254638671875e-05,\n",
       " 1.0013580322265625e-05,\n",
       " 1.7881393432617188e-05,\n",
       " 4.00543212890625e-05,\n",
       " 1.4066696166992188e-05,\n",
       " 0.0,\n",
       " 1.1920928955078125e-05,\n",
       " 0.0,\n",
       " 2.6941299438476562e-05,\n",
       " 3.504753112792969e-05,\n",
       " 1.71661376953125e-05,\n",
       " 0.04667186737060547,\n",
       " 5.7220458984375e-06,\n",
       " 3.504753112792969e-05,\n",
       " 1.9073486328125e-05,\n",
       " 1.9073486328125e-05,\n",
       " 9.5367431640625e-07,\n",
       " 6.699562072753906e-05,\n",
       " 3.0994415283203125e-05,\n",
       " 2.4080276489257812e-05,\n",
       " 3.1948089599609375e-05,\n",
       " 4.1961669921875e-05,\n",
       " 2.4080276489257812e-05,\n",
       " 4.291534423828125e-05,\n",
       " 2.9087066650390625e-05,\n",
       " 2.6941299438476562e-05,\n",
       " 2.288818359375e-05,\n",
       " 0.11011719703674316,\n",
       " 3.790855407714844e-05,\n",
       " 0.0,\n",
       " 2.5987625122070312e-05,\n",
       " 9.083747863769531e-05,\n",
       " 0.00010704994201660156,\n",
       " 0.1176910400390625,\n",
       " 2.8133392333984375e-05,\n",
       " 2.5033950805664062e-05,\n",
       " 2.384185791015625e-05,\n",
       " 2.4080276489257812e-05,\n",
       " 2.6941299438476562e-05,\n",
       " 0.1328589916229248,\n",
       " 3.0994415283203125e-05,\n",
       " 0.1379561424255371,\n",
       " 3.4809112548828125e-05,\n",
       " 3.0279159545898438e-05,\n",
       " 7.152557373046875e-07,\n",
       " 3.123283386230469e-05,\n",
       " 2.6226043701171875e-05,\n",
       " 0.16002893447875977,\n",
       " 5.0067901611328125e-05,\n",
       " 2.9087066650390625e-05,\n",
       " 1.7881393432617188e-05,\n",
       " 0.1746978759765625,\n",
       " 4.506111145019531e-05,\n",
       " 0.18959379196166992,\n",
       " 5.125999450683594e-05,\n",
       " 2.574920654296875e-05,\n",
       " 3.719329833984375e-05,\n",
       " 3.4809112548828125e-05,\n",
       " 2.288818359375e-05,\n",
       " 0.27106189727783203,\n",
       " 3.62396240234375e-05,\n",
       " 9.5367431640625e-07,\n",
       " 2.6941299438476562e-05,\n",
       " 0.31529903411865234,\n",
       " 4.00543212890625e-05,\n",
       " 3.409385681152344e-05,\n",
       " 3.0040740966796875e-05,\n",
       " 3.2901763916015625e-05,\n",
       " 3.4809112548828125e-05,\n",
       " 0.3319711685180664,\n",
       " 4.076957702636719e-05,\n",
       " 4.220008850097656e-05,\n",
       " 3.1948089599609375e-05,\n",
       " 5.125999450683594e-05,\n",
       " 4.1961669921875e-05,\n",
       " 6.771087646484375e-05,\n",
       " 4.7206878662109375e-05,\n",
       " 0.3569018840789795,\n",
       " 5.0067901611328125e-05,\n",
       " 4.00543212890625e-05]"
      ]
     },
     "execution_count": 30,
     "metadata": {},
     "output_type": "execute_result"
    }
   ],
   "source": [
    "compute_times_myaks(2,100)"
   ]
  },
  {
   "cell_type": "code",
   "execution_count": 31,
   "metadata": {},
   "outputs": [],
   "source": [
    "\n",
    "def plot_execution_times(a,b):\n",
    "    y = compute_times_trivial(a,b)\n",
    "    x = range(a,b)\n",
    "\n",
    "    # Plot the curve\n",
    "    plt.plot(x, y,color='red', label='trivial')\n",
    "    Y = compute_times_myaks(a,b)\n",
    "    X = range(a,b)\n",
    "\n",
    "    # Plot the curve\n",
    "    plt.plot(X, Y,color='green', label='AKS')\n",
    "    # Add title and labels\n",
    "    plt.title(\"Execution time for AKS and trivial algorithms\")\n",
    "    plt.xlabel(\"N\")\n",
    "    plt.ylabel(\"Time in seconds\")\n",
    "    plt.legend()\n",
    "    plt.xlim(a,b)\n",
    "\n",
    "    # Display the plot\n",
    "    plt.show()\n"
   ]
  },
  {
   "cell_type": "code",
   "execution_count": 32,
   "metadata": {},
   "outputs": [
    {
     "data": {
      "image/png": "[encoded data removed]",
      "text/plain": [
       "<Figure size 640x480 with 1 Axes>"
      ]
     },
     "metadata": {},
     "output_type": "display_data"
    }
   ],
   "source": [
    "A=1000\n",
    "B=A+50\n",
    "plot_execution_times(A,B)"
   ]
  }
 ],
 "metadata": {
  "kernelspec": {
   "display_name": "topics_alg",
   "language": "python",
   "name": "python3"
  },
  "language_info": {
   "codemirror_mode": {
    "name": "ipython",
    "version": 3
   },
   "file_extension": ".py",
   "mimetype": "text/x-python",
   "name": "python",
   "nbconvert_exporter": "python",
   "pygments_lexer": "ipython3",
   "version": "3.11.4"
  },
  "orig_nbformat": 4
 },
 "nbformat": 4,
 "nbformat_minor": 2
}
