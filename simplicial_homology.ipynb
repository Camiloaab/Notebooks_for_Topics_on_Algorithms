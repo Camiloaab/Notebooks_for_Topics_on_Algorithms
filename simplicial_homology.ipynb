{
 "cells": [
  {
   "cell_type": "markdown",
   "metadata": {},
   "source": [
    "## Compute simplicial homology"
   ]
  },
  {
   "cell_type": "code",
   "execution_count": 214,
   "metadata": {},
   "outputs": [],
   "source": [
    "import numpy as np\n",
    "import string\n",
    "\n",
    "\n",
    "\n",
    "\n",
    "\n",
    "\n",
    "def kernel(A, tol=1e-5):\n",
    "    \"\"\"\n",
    "    Return a matrix whose column space is the kernel of A.\n",
    "    The tol parameter is the threshold below which a singular value is considered to be zero.\n",
    "    Taken from: https://github.com/kb1dds/simplicialHomology/blob/master/simplicialHomology.py\n",
    "    \"\"\"\n",
    "    _, s, vh = np.linalg.svd(A)\n",
    "    singular = np.zeros(vh.shape[0], dtype=float)\n",
    "    singular[:s.size] = s\n",
    "    null_space = np.compress(singular <= tol, vh, axis=0)\n",
    "    return null_space.T\n",
    "\n",
    "\n",
    "def cokernel(A, tol=1e-5):\n",
    "    \"\"\"\n",
    "    Return a matrix whose column space is the cokernel of A.\n",
    "    The tol parameter is the threshold below which a singular value is considered to be zero.\n",
    "    Taken from: https://github.com/kb1dds/simplicialHomology/blob/master/simplicialHomology.py\n",
    "    \"\"\"\n",
    "    u, s, _ = np.linalg.svd(A)\n",
    "    singular = np.zeros(u.shape[1], dtype=float)\n",
    "    singular[:s.size] = s\n",
    "    return np.compress(singular <= tol, u, axis=1)\n",
    "\n",
    "\n",
    "def get_faces(lst):\n",
    "    \"\"\"Compute all the possible faces by iteratively deleting vertices\"\"\"\n",
    "    return [lst[:i] + lst[i+1:] for i in range(len(lst))]\n",
    "\n",
    "\n",
    "def get_coeff(simplex, faces):\n",
    "    \"\"\"\n",
    "    If simplex is not in the list of faces, return 0.\n",
    "    If it is, return index parity.\n",
    "    \"\"\"\n",
    "    if simplex in faces:\n",
    "        idx = faces.index(simplex)\n",
    "        return 1 if idx%2==0 else -1\n",
    "    else:\n",
    "        return 0\n",
    "\n",
    "\n",
    "def boundary(complex):\n",
    "    \"\"\"\n",
    "    Given an abstract simplicial complex specified as a list of lists of vertices, return a\n",
    "    list of boundary operators in matrix form.\n",
    "    \"\"\"\n",
    "    # Get maximal simplex dimension\n",
    "    maxdim = len(max(complex, key=len))\n",
    "    # Group simplices by (ascending) dimension and sort them lexicographically\n",
    "    simplices = [sorted([spx for spx in complex if len(spx)==i]) for i in range(1,maxdim+1)]\n",
    "\n",
    "    # Iterate over consecutive groups (dim k and k+1)\n",
    "    bnd = []\n",
    "    for spx_k, spx_kp1 in zip(simplices, simplices[1:]):\n",
    "        mtx = []\n",
    "        for sigma in spx_kp1:\n",
    "            faces = get_faces(sigma)\n",
    "            mtx.append([get_coeff(spx, faces) for spx in spx_k])\n",
    "        bnd.append(np.array(mtx).T)\n",
    "\n",
    "    return bnd\n",
    "\n",
    "\n",
    "def homology(boundary_ops, tol=1e-5):\n",
    "    \"\"\"\n",
    "    Given a list of boundary operators, return a list of matrices whose columns\n",
    "    span the homology spaces. \n",
    "    \"\"\"\n",
    "    # Insert zero maps\n",
    "    mm = boundary_ops[-1].shape[1]\n",
    "    nn = boundary_ops[0].shape[0]\n",
    "\n",
    "    boundary_ops.insert(0, np.ones(shape=(0, nn)))\n",
    "    boundary_ops.append(np.ones(shape=(mm, 0)))\n",
    "\n",
    "    H = []\n",
    "    for del_k, del_kp1 in zip(boundary_ops, boundary_ops[1:]):\n",
    "        # Compute a basis for the kernel of the next map\n",
    "        kappa = kernel(del_k, tol)\n",
    "        # The chain complex induces a map m from previous space to the kernel of next map\n",
    "        # Solve d_{k} = kappa \\circ m for m\n",
    "        psi, _, _, _ = np.linalg.lstsq(kappa, del_kp1, rcond=None)\n",
    "        # The cokernel of m is precisely those elements of the kernel of the next map\n",
    "        # that are not in the image of m (or d_k for that matter), that's homology\n",
    "        ksi = cokernel(psi, tol)\n",
    "        # Express a basis for the homology thought of as a subspace of C_k\n",
    "        # using composition of maps\n",
    "        H.append(np.dot(kappa, ksi))\n",
    "\n",
    "    return H\n",
    "\n",
    "\n",
    "def betti(H):\n",
    "    \"\"\"Compute the dimensions of each homology space output by the homology() function\"\"\"\n",
    "    return [basis.shape[1] for basis in H]\n",
    "\n",
    "\n",
    "def main():\n",
    "    with open('./complexes.json') as data_file:\n",
    "        data = json.load(data_file)\n",
    "\n",
    "    for attr, obj in data.items():\n",
    "        print(f'[{attr}]')\n",
    "        print(obj['description'])\n",
    "        bnd = boundary(obj['complex'])\n",
    "        H = homology(bnd)\n",
    "        b = betti(H)\n",
    "        print(f'Betti numbers: {b}')\n",
    "def compute_laplacians(boundary_ops):\n",
    "    \"\"\"Takes the list of boundary operations and computes the laplacian operators\"\"\"\n",
    "    laplacians=[]\n",
    "    if boundary_ops==[]:\n",
    "        return np.array([0])\n",
    "    else:\n",
    "        dim=len(boundary_ops)\n",
    "        for i in range(dim+1):\n",
    "            if i ==0:\n",
    "                D=boundary_ops[i]@boundary_ops[i].T\n",
    "                laplacians.append(D)\n",
    "            elif i==dim:\n",
    "                D=boundary_ops[i-1].T@boundary_ops[i-1]\n",
    "                laplacians.append(D)\n",
    "            else:\n",
    "                D=(boundary_ops[i-1].T)@boundary_ops[i-1]+boundary_ops[i]@boundary_ops[i].T\n",
    "                laplacians.append(D)\n",
    "    return laplacians\n",
    "\n",
    "def compute_harmonics(laplacians):\n",
    "    \"\"\"Takes a list of Laplacian matrices and computes the dimension of harmonics\"\"\"\n",
    "    return [kernel(M).shape[1] for M in laplacians]\n",
    "\n",
    "def make_polygon(n):\n",
    "    \"\"\"Makes a polygon with n sides\"\"\"\n",
    "    \"\"\"Create a list of uppercase letters\"\"\"\n",
    "    uppercase_letters = list(string.ascii_uppercase)\n",
    "    if n>len(uppercase_letters):\n",
    "        return \"Not enough letters\"\n",
    "    else:\n",
    "        ans=dict()\n",
    "        ans[\"description\"]=f\"A polygon with {n} sides \"\n",
    "        ans[\"complex\"]=uppercase_letters[:n]\n",
    "        for i in range(n):\n",
    "            ans[\"complex\"].append(uppercase_letters[i]+uppercase_letters[(i+1)%n])\n",
    "        return ans"
   ]
  },
  {
   "cell_type": "code",
   "execution_count": 24,
   "metadata": {},
   "outputs": [],
   "source": [
    "complexes={\n",
    "    \"C1\": {\n",
    "        \"description\": \"Two triangles sharing an edge, one of them being hollow, the other filled\",\n",
    "        \"complex\": [\"A\", \"B\", \"C\", \"D\", \"AB\", \"AC\", \"BC\", \"BD\", \"CD\", \"BCD\"]\n",
    "    },\n",
    "    \"C2\": {\n",
    "        \"description\": \"Two hollow triangles sharing an edge\",\n",
    "        \"complex\": [\"A\", \"B\", \"C\", \"D\", \"AB\", \"AC\", \"BC\", \"BD\", \"CD\"]\n",
    "    },\n",
    "    \"C3\": {\n",
    "        \"description\": \"A Möbius strip\",\n",
    "        \"complex\": [\"A\",\"B\",\"C\",\"D\",\"E\",\"AB\",\"AC\",\"AD\",\"AE\",\"BC\",\"BD\",\"BE\",\"CD\",\"CE\",\"ABC\",\"ACD\",\"ACE\",\"BCD\",\"BCE\"]\n",
    "    },\n",
    "    \"C5\": {\n",
    "        \"description\": \"A hollow tetrahedron sharing an edge with a hollow triangle\",\n",
    "        \"complex\": [\"A\", \"B\", \"C\", \"D\", \"E\", \"CE\", \"DE\", \"AB\", \"AC\", \"AD\", \"BC\", \"BD\", \"CD\", \"BCD\", \"ABC\", \"ABD\", \"ACD\"]\n",
    "    },\n",
    "    \"T2\": {\n",
    "        \"description\": \"A triangulated 2-torus\",\n",
    "        \"complex\": [\"A\",\"B\",\"C\",\"D\",\"E\",\"F\",\"G\",\"AB\",\"AC\",\"AD\",\"AE\",\"AF\",\"AG\",\"BC\",\"BD\",\"BE\",\"BF\",\"BG\",\"CD\",\"CE\",\"CF\",\"CG\",\"DE\",\"DF\",\"DG\",\"EF\",\"EG\",\"FG\",\"ABD\",\"ABF\",\"ACD\",\"ACG\",\"AEF\",\"AEG\",\"BCE\",\"BCG\",\"BDE\",\"BFG\",\"CDF\",\"CEF\",\"DEG\",\"DFG\"]\n",
    "    },\n",
    "    \"Triangle\":{\"description\":\"A triangle\",\"complex\":[\"A\",\"B\",\"C\",\"AB\",\"AC\",\"BC\"]}\n",
    "\n",
    "}"
   ]
  },
  {
   "cell_type": "code",
   "execution_count": 215,
   "metadata": {},
   "outputs": [],
   "source": []
  },
  {
   "cell_type": "code",
   "execution_count": 223,
   "metadata": {},
   "outputs": [],
   "source": [
    "C=make_polygon(10)"
   ]
  },
  {
   "cell_type": "code",
   "execution_count": 224,
   "metadata": {},
   "outputs": [
    {
     "data": {
      "text/plain": [
       "'A polygon with 10 sides '"
      ]
     },
     "execution_count": 224,
     "metadata": {},
     "output_type": "execute_result"
    }
   ],
   "source": [
    "C[\"description\"]"
   ]
  },
  {
   "cell_type": "code",
   "execution_count": 225,
   "metadata": {},
   "outputs": [
    {
     "data": {
      "text/plain": [
       "['A',\n",
       " 'B',\n",
       " 'C',\n",
       " 'D',\n",
       " 'E',\n",
       " 'F',\n",
       " 'G',\n",
       " 'H',\n",
       " 'I',\n",
       " 'J',\n",
       " 'AB',\n",
       " 'BC',\n",
       " 'CD',\n",
       " 'DE',\n",
       " 'EF',\n",
       " 'FG',\n",
       " 'GH',\n",
       " 'HI',\n",
       " 'IJ',\n",
       " 'JA']"
      ]
     },
     "execution_count": 225,
     "metadata": {},
     "output_type": "execute_result"
    }
   ],
   "source": [
    "C[\"complex\"]"
   ]
  },
  {
   "cell_type": "code",
   "execution_count": 226,
   "metadata": {},
   "outputs": [],
   "source": [
    "complex=C[\"complex\"]\n",
    "d=boundary(complex)"
   ]
  },
  {
   "cell_type": "code",
   "execution_count": 227,
   "metadata": {},
   "outputs": [
    {
     "data": {
      "text/plain": [
       "[array([[-1,  0,  0,  0,  0,  0,  0,  0,  0,  1],\n",
       "        [ 1, -1,  0,  0,  0,  0,  0,  0,  0,  0],\n",
       "        [ 0,  1, -1,  0,  0,  0,  0,  0,  0,  0],\n",
       "        [ 0,  0,  1, -1,  0,  0,  0,  0,  0,  0],\n",
       "        [ 0,  0,  0,  1, -1,  0,  0,  0,  0,  0],\n",
       "        [ 0,  0,  0,  0,  1, -1,  0,  0,  0,  0],\n",
       "        [ 0,  0,  0,  0,  0,  1, -1,  0,  0,  0],\n",
       "        [ 0,  0,  0,  0,  0,  0,  1, -1,  0,  0],\n",
       "        [ 0,  0,  0,  0,  0,  0,  0,  1, -1,  0],\n",
       "        [ 0,  0,  0,  0,  0,  0,  0,  0,  1, -1]])]"
      ]
     },
     "execution_count": 227,
     "metadata": {},
     "output_type": "execute_result"
    }
   ],
   "source": [
    "d"
   ]
  },
  {
   "cell_type": "code",
   "execution_count": 228,
   "metadata": {},
   "outputs": [],
   "source": [
    "D=compute_laplacians(d)"
   ]
  },
  {
   "cell_type": "code",
   "execution_count": 229,
   "metadata": {},
   "outputs": [
    {
     "data": {
      "text/plain": [
       "[1, 1]"
      ]
     },
     "execution_count": 229,
     "metadata": {},
     "output_type": "execute_result"
    }
   ],
   "source": [
    "compute_harmonics(D)"
   ]
  },
  {
   "cell_type": "code",
   "execution_count": 230,
   "metadata": {},
   "outputs": [
    {
     "data": {
      "text/plain": [
       "[1, 1]"
      ]
     },
     "execution_count": 230,
     "metadata": {},
     "output_type": "execute_result"
    }
   ],
   "source": [
    "H=homology(d)\n",
    "betti(H)"
   ]
  },
  {
   "cell_type": "markdown",
   "metadata": {},
   "source": [
    "### My experiment"
   ]
  },
  {
   "cell_type": "code",
   "execution_count": 235,
   "metadata": {},
   "outputs": [],
   "source": [
    "def check_mod_2(M):\n",
    "    d=M.shape[0]\n",
    "    for i in range(d):\n",
    "        print(M[i][i],sum([M[i][j] for j in range(d) if not i==j]))"
   ]
  },
  {
   "cell_type": "code",
   "execution_count": 236,
   "metadata": {},
   "outputs": [
    {
     "name": "stdout",
     "output_type": "stream",
     "text": [
      "2 -2\n",
      "2 -2\n",
      "2 -2\n",
      "2 -2\n",
      "2 -2\n",
      "2 -2\n",
      "2 -2\n",
      "2 -2\n",
      "2 -2\n",
      "2 -2\n"
     ]
    }
   ],
   "source": [
    "check_mod_2(D[1])"
   ]
  },
  {
   "cell_type": "code",
   "execution_count": 248,
   "metadata": {},
   "outputs": [],
   "source": [
    "def nonempty_subsequences(s):\n",
    "    \"\"\"\n",
    "    Generate all nonempty subsequences of a given string that are not the whole string.\n",
    "\n",
    "    Parameters:\n",
    "    s (str): The input string.\n",
    "\n",
    "    Returns:\n",
    "    List[str]: A list of all nonempty subsequences not including the whole string.\n",
    "    \"\"\"\n",
    "    subsequences = []\n",
    "\n",
    "    def generate_subsequences(current, index):\n",
    "        if index == len(s):\n",
    "            if current and current != s:\n",
    "                subsequences.append(current)\n",
    "            return\n",
    "        # Include the current character\n",
    "        generate_subsequences(current + s[index], index + 1)\n",
    "        # Exclude the current character\n",
    "        generate_subsequences(current, index + 1)\n",
    "\n",
    "    generate_subsequences(\"\", 0)\n",
    "    return sorted(subsequences,key=lambda z:len(z))\n"
   ]
  },
  {
   "cell_type": "code",
   "execution_count": 253,
   "metadata": {},
   "outputs": [],
   "source": [
    "def make_sphere(d):\n",
    "    \"\"\"Makes a string of dimension d\"\"\"\n",
    "    \"\"\"Create a list of uppercase letters\"\"\"\n",
    "    uppercase_letters = list(string.ascii_uppercase)\n",
    "    if d+1>len(uppercase_letters):\n",
    "        return \"Not enough letters\"\n",
    "    else:\n",
    "        ans=dict()\n",
    "        ans[\"description\"]=f\"A sphere of dimension {d}\"\n",
    "        ans[\"complex\"]=nonempty_subsequences(uppercase_letters[:d+1])[:-1]\n",
    "        return ans\n",
    "    "
   ]
  },
  {
   "cell_type": "code",
   "execution_count": 254,
   "metadata": {},
   "outputs": [],
   "source": [
    "S=make_sphere(3)"
   ]
  },
  {
   "cell_type": "code",
   "execution_count": 255,
   "metadata": {},
   "outputs": [
    {
     "data": {
      "text/plain": [
       "['A',\n",
       " 'B',\n",
       " 'C',\n",
       " 'D',\n",
       " 'AB',\n",
       " 'AC',\n",
       " 'AD',\n",
       " 'BC',\n",
       " 'BD',\n",
       " 'CD',\n",
       " 'ABC',\n",
       " 'ABD',\n",
       " 'ACD',\n",
       " 'BCD']"
      ]
     },
     "execution_count": 255,
     "metadata": {},
     "output_type": "execute_result"
    }
   ],
   "source": [
    "S[\"complex\"]"
   ]
  },
  {
   "cell_type": "code",
   "execution_count": 247,
   "metadata": {},
   "outputs": [
    {
     "name": "stdout",
     "output_type": "stream",
     "text": [
      "['a', 'b', 'c', 'ab', 'ac', 'bc']\n"
     ]
    }
   ],
   "source": [
    "\n",
    "\n",
    "# Example usage\n",
    "input_string = \"abc\"\n",
    "result = nonempty_subsequences(input_string)\n",
    "\n",
    "print(result)"
   ]
  }
 ],
 "metadata": {
  "kernelspec": {
   "display_name": "topics_alg",
   "language": "python",
   "name": "python3"
  },
  "language_info": {
   "codemirror_mode": {
    "name": "ipython",
    "version": 3
   },
   "file_extension": ".py",
   "mimetype": "text/x-python",
   "name": "python",
   "nbconvert_exporter": "python",
   "pygments_lexer": "ipython3",
   "version": "3.11.4"
  }
 },
 "nbformat": 4,
 "nbformat_minor": 2
}
