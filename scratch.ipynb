{
 "cells": [
  {
   "cell_type": "code",
   "execution_count": 18,
   "metadata": {},
   "outputs": [],
   "source": [
    "import math"
   ]
  },
  {
   "cell_type": "code",
   "execution_count": 3,
   "metadata": {},
   "outputs": [
    {
     "data": {
      "text/plain": [
       "184756"
      ]
     },
     "execution_count": 3,
     "metadata": {},
     "output_type": "execute_result"
    }
   ],
   "source": [
    "math.comb(20,10)"
   ]
  },
  {
   "cell_type": "code",
   "execution_count": 15,
   "metadata": {},
   "outputs": [],
   "source": [
    "def collatz(n):\n",
    "    ans=3*n+1\n",
    "    if n%2==0: \n",
    "        ans=n//2\n",
    "    return ans"
   ]
  },
  {
   "cell_type": "code",
   "execution_count": 17,
   "metadata": {},
   "outputs": [],
   "source": [
    "def Collatz_Sequence(n):\n",
    "    c=n\n",
    "    ans=[n]\n",
    "    while c>1:\n",
    "        c=collatz(c)\n",
    "        ans.append(c)\n",
    "        print(c)\n",
    "    return ans\n",
    "        \n",
    "        "
   ]
  },
  {
   "cell_type": "code",
   "execution_count": 21,
   "metadata": {},
   "outputs": [
    {
     "name": "stdout",
     "output_type": "stream",
     "text": [
      "87294242961250\n",
      "43647121480625\n",
      "130941364441876\n",
      "65470682220938\n",
      "32735341110469\n",
      "98206023331408\n",
      "49103011665704\n",
      "24551505832852\n",
      "12275752916426\n",
      "6137876458213\n",
      "18413629374640\n",
      "9206814687320\n",
      "4603407343660\n",
      "2301703671830\n",
      "1150851835915\n",
      "3452555507746\n",
      "1726277753873\n",
      "5178833261620\n",
      "2589416630810\n",
      "1294708315405\n",
      "3884124946216\n",
      "1942062473108\n",
      "971031236554\n",
      "485515618277\n",
      "1456546854832\n",
      "728273427416\n",
      "364136713708\n",
      "182068356854\n",
      "91034178427\n",
      "273102535282\n",
      "136551267641\n",
      "409653802924\n",
      "204826901462\n",
      "102413450731\n",
      "307240352194\n",
      "153620176097\n",
      "460860528292\n",
      "230430264146\n",
      "115215132073\n",
      "345645396220\n",
      "172822698110\n",
      "86411349055\n",
      "259234047166\n",
      "129617023583\n",
      "388851070750\n",
      "194425535375\n",
      "583276606126\n",
      "291638303063\n",
      "874914909190\n",
      "437457454595\n",
      "1312372363786\n",
      "656186181893\n",
      "1968558545680\n",
      "984279272840\n",
      "492139636420\n",
      "246069818210\n",
      "123034909105\n",
      "369104727316\n",
      "184552363658\n",
      "92276181829\n",
      "276828545488\n",
      "138414272744\n",
      "69207136372\n",
      "34603568186\n",
      "17301784093\n",
      "51905352280\n",
      "25952676140\n",
      "12976338070\n",
      "6488169035\n",
      "19464507106\n",
      "9732253553\n",
      "29196760660\n",
      "14598380330\n",
      "7299190165\n",
      "21897570496\n",
      "10948785248\n",
      "5474392624\n",
      "2737196312\n",
      "1368598156\n",
      "684299078\n",
      "342149539\n",
      "1026448618\n",
      "513224309\n",
      "1539672928\n",
      "769836464\n",
      "384918232\n",
      "192459116\n",
      "96229558\n",
      "48114779\n",
      "144344338\n",
      "72172169\n",
      "216516508\n",
      "108258254\n",
      "54129127\n",
      "162387382\n",
      "81193691\n",
      "243581074\n",
      "121790537\n",
      "365371612\n",
      "182685806\n",
      "91342903\n",
      "274028710\n",
      "137014355\n",
      "411043066\n",
      "205521533\n",
      "616564600\n",
      "308282300\n",
      "154141150\n",
      "77070575\n",
      "231211726\n",
      "115605863\n",
      "346817590\n",
      "173408795\n",
      "520226386\n",
      "260113193\n",
      "780339580\n",
      "390169790\n",
      "195084895\n",
      "585254686\n",
      "292627343\n",
      "877882030\n",
      "438941015\n",
      "1316823046\n",
      "658411523\n",
      "1975234570\n",
      "987617285\n",
      "2962851856\n",
      "1481425928\n",
      "740712964\n",
      "370356482\n",
      "185178241\n",
      "555534724\n",
      "277767362\n",
      "138883681\n",
      "416651044\n",
      "208325522\n",
      "104162761\n",
      "312488284\n",
      "156244142\n",
      "78122071\n",
      "234366214\n",
      "117183107\n",
      "351549322\n",
      "175774661\n",
      "527323984\n",
      "263661992\n",
      "131830996\n",
      "65915498\n",
      "32957749\n",
      "98873248\n",
      "49436624\n",
      "24718312\n",
      "12359156\n",
      "6179578\n",
      "3089789\n",
      "9269368\n",
      "4634684\n",
      "2317342\n",
      "1158671\n",
      "3476014\n",
      "1738007\n",
      "5214022\n",
      "2607011\n",
      "7821034\n",
      "3910517\n",
      "11731552\n",
      "5865776\n",
      "2932888\n",
      "1466444\n",
      "733222\n",
      "366611\n",
      "1099834\n",
      "549917\n",
      "1649752\n",
      "824876\n",
      "412438\n",
      "206219\n",
      "618658\n",
      "309329\n",
      "927988\n",
      "463994\n",
      "231997\n",
      "695992\n",
      "347996\n",
      "173998\n",
      "86999\n",
      "260998\n",
      "130499\n",
      "391498\n",
      "195749\n",
      "587248\n",
      "293624\n",
      "146812\n",
      "73406\n",
      "36703\n",
      "110110\n",
      "55055\n",
      "165166\n",
      "82583\n",
      "247750\n",
      "123875\n",
      "371626\n",
      "185813\n",
      "557440\n",
      "278720\n",
      "139360\n",
      "69680\n",
      "34840\n",
      "17420\n",
      "8710\n",
      "4355\n",
      "13066\n",
      "6533\n",
      "19600\n",
      "9800\n",
      "4900\n",
      "2450\n",
      "1225\n",
      "3676\n",
      "1838\n",
      "919\n",
      "2758\n",
      "1379\n",
      "4138\n",
      "2069\n",
      "6208\n",
      "3104\n",
      "1552\n",
      "776\n",
      "388\n",
      "194\n",
      "97\n",
      "292\n",
      "146\n",
      "73\n",
      "220\n",
      "110\n",
      "55\n",
      "166\n",
      "83\n",
      "250\n",
      "125\n",
      "376\n",
      "188\n",
      "94\n",
      "47\n",
      "142\n",
      "71\n",
      "214\n",
      "107\n",
      "322\n",
      "161\n",
      "484\n",
      "242\n",
      "121\n",
      "364\n",
      "182\n",
      "91\n",
      "274\n",
      "137\n",
      "412\n",
      "206\n",
      "103\n",
      "310\n",
      "155\n",
      "466\n",
      "233\n",
      "700\n",
      "350\n",
      "175\n",
      "526\n",
      "263\n",
      "790\n",
      "395\n",
      "1186\n",
      "593\n",
      "1780\n",
      "890\n",
      "445\n",
      "1336\n",
      "668\n",
      "334\n",
      "167\n",
      "502\n",
      "251\n",
      "754\n",
      "377\n",
      "1132\n",
      "566\n",
      "283\n",
      "850\n",
      "425\n",
      "1276\n",
      "638\n",
      "319\n",
      "958\n",
      "479\n",
      "1438\n",
      "719\n",
      "2158\n",
      "1079\n",
      "3238\n",
      "1619\n",
      "4858\n",
      "2429\n",
      "7288\n",
      "3644\n",
      "1822\n",
      "911\n",
      "2734\n",
      "1367\n",
      "4102\n",
      "2051\n",
      "6154\n",
      "3077\n",
      "9232\n",
      "4616\n",
      "2308\n",
      "1154\n",
      "577\n",
      "1732\n",
      "866\n",
      "433\n",
      "1300\n",
      "650\n",
      "325\n",
      "976\n",
      "488\n",
      "244\n",
      "122\n",
      "61\n",
      "184\n",
      "92\n",
      "46\n",
      "23\n",
      "70\n",
      "35\n",
      "106\n",
      "53\n",
      "160\n",
      "80\n",
      "40\n",
      "20\n",
      "10\n",
      "5\n",
      "16\n",
      "8\n",
      "4\n",
      "2\n",
      "1\n"
     ]
    },
    {
     "data": {
      "text/plain": [
       "[29098080987083,\n",
       " 87294242961250,\n",
       " 43647121480625,\n",
       " 130941364441876,\n",
       " 65470682220938,\n",
       " 32735341110469,\n",
       " 98206023331408,\n",
       " 49103011665704,\n",
       " 24551505832852,\n",
       " 12275752916426,\n",
       " 6137876458213,\n",
       " 18413629374640,\n",
       " 9206814687320,\n",
       " 4603407343660,\n",
       " 2301703671830,\n",
       " 1150851835915,\n",
       " 3452555507746,\n",
       " 1726277753873,\n",
       " 5178833261620,\n",
       " 2589416630810,\n",
       " 1294708315405,\n",
       " 3884124946216,\n",
       " 1942062473108,\n",
       " 971031236554,\n",
       " 485515618277,\n",
       " 1456546854832,\n",
       " 728273427416,\n",
       " 364136713708,\n",
       " 182068356854,\n",
       " 91034178427,\n",
       " 273102535282,\n",
       " 136551267641,\n",
       " 409653802924,\n",
       " 204826901462,\n",
       " 102413450731,\n",
       " 307240352194,\n",
       " 153620176097,\n",
       " 460860528292,\n",
       " 230430264146,\n",
       " 115215132073,\n",
       " 345645396220,\n",
       " 172822698110,\n",
       " 86411349055,\n",
       " 259234047166,\n",
       " 129617023583,\n",
       " 388851070750,\n",
       " 194425535375,\n",
       " 583276606126,\n",
       " 291638303063,\n",
       " 874914909190,\n",
       " 437457454595,\n",
       " 1312372363786,\n",
       " 656186181893,\n",
       " 1968558545680,\n",
       " 984279272840,\n",
       " 492139636420,\n",
       " 246069818210,\n",
       " 123034909105,\n",
       " 369104727316,\n",
       " 184552363658,\n",
       " 92276181829,\n",
       " 276828545488,\n",
       " 138414272744,\n",
       " 69207136372,\n",
       " 34603568186,\n",
       " 17301784093,\n",
       " 51905352280,\n",
       " 25952676140,\n",
       " 12976338070,\n",
       " 6488169035,\n",
       " 19464507106,\n",
       " 9732253553,\n",
       " 29196760660,\n",
       " 14598380330,\n",
       " 7299190165,\n",
       " 21897570496,\n",
       " 10948785248,\n",
       " 5474392624,\n",
       " 2737196312,\n",
       " 1368598156,\n",
       " 684299078,\n",
       " 342149539,\n",
       " 1026448618,\n",
       " 513224309,\n",
       " 1539672928,\n",
       " 769836464,\n",
       " 384918232,\n",
       " 192459116,\n",
       " 96229558,\n",
       " 48114779,\n",
       " 144344338,\n",
       " 72172169,\n",
       " 216516508,\n",
       " 108258254,\n",
       " 54129127,\n",
       " 162387382,\n",
       " 81193691,\n",
       " 243581074,\n",
       " 121790537,\n",
       " 365371612,\n",
       " 182685806,\n",
       " 91342903,\n",
       " 274028710,\n",
       " 137014355,\n",
       " 411043066,\n",
       " 205521533,\n",
       " 616564600,\n",
       " 308282300,\n",
       " 154141150,\n",
       " 77070575,\n",
       " 231211726,\n",
       " 115605863,\n",
       " 346817590,\n",
       " 173408795,\n",
       " 520226386,\n",
       " 260113193,\n",
       " 780339580,\n",
       " 390169790,\n",
       " 195084895,\n",
       " 585254686,\n",
       " 292627343,\n",
       " 877882030,\n",
       " 438941015,\n",
       " 1316823046,\n",
       " 658411523,\n",
       " 1975234570,\n",
       " 987617285,\n",
       " 2962851856,\n",
       " 1481425928,\n",
       " 740712964,\n",
       " 370356482,\n",
       " 185178241,\n",
       " 555534724,\n",
       " 277767362,\n",
       " 138883681,\n",
       " 416651044,\n",
       " 208325522,\n",
       " 104162761,\n",
       " 312488284,\n",
       " 156244142,\n",
       " 78122071,\n",
       " 234366214,\n",
       " 117183107,\n",
       " 351549322,\n",
       " 175774661,\n",
       " 527323984,\n",
       " 263661992,\n",
       " 131830996,\n",
       " 65915498,\n",
       " 32957749,\n",
       " 98873248,\n",
       " 49436624,\n",
       " 24718312,\n",
       " 12359156,\n",
       " 6179578,\n",
       " 3089789,\n",
       " 9269368,\n",
       " 4634684,\n",
       " 2317342,\n",
       " 1158671,\n",
       " 3476014,\n",
       " 1738007,\n",
       " 5214022,\n",
       " 2607011,\n",
       " 7821034,\n",
       " 3910517,\n",
       " 11731552,\n",
       " 5865776,\n",
       " 2932888,\n",
       " 1466444,\n",
       " 733222,\n",
       " 366611,\n",
       " 1099834,\n",
       " 549917,\n",
       " 1649752,\n",
       " 824876,\n",
       " 412438,\n",
       " 206219,\n",
       " 618658,\n",
       " 309329,\n",
       " 927988,\n",
       " 463994,\n",
       " 231997,\n",
       " 695992,\n",
       " 347996,\n",
       " 173998,\n",
       " 86999,\n",
       " 260998,\n",
       " 130499,\n",
       " 391498,\n",
       " 195749,\n",
       " 587248,\n",
       " 293624,\n",
       " 146812,\n",
       " 73406,\n",
       " 36703,\n",
       " 110110,\n",
       " 55055,\n",
       " 165166,\n",
       " 82583,\n",
       " 247750,\n",
       " 123875,\n",
       " 371626,\n",
       " 185813,\n",
       " 557440,\n",
       " 278720,\n",
       " 139360,\n",
       " 69680,\n",
       " 34840,\n",
       " 17420,\n",
       " 8710,\n",
       " 4355,\n",
       " 13066,\n",
       " 6533,\n",
       " 19600,\n",
       " 9800,\n",
       " 4900,\n",
       " 2450,\n",
       " 1225,\n",
       " 3676,\n",
       " 1838,\n",
       " 919,\n",
       " 2758,\n",
       " 1379,\n",
       " 4138,\n",
       " 2069,\n",
       " 6208,\n",
       " 3104,\n",
       " 1552,\n",
       " 776,\n",
       " 388,\n",
       " 194,\n",
       " 97,\n",
       " 292,\n",
       " 146,\n",
       " 73,\n",
       " 220,\n",
       " 110,\n",
       " 55,\n",
       " 166,\n",
       " 83,\n",
       " 250,\n",
       " 125,\n",
       " 376,\n",
       " 188,\n",
       " 94,\n",
       " 47,\n",
       " 142,\n",
       " 71,\n",
       " 214,\n",
       " 107,\n",
       " 322,\n",
       " 161,\n",
       " 484,\n",
       " 242,\n",
       " 121,\n",
       " 364,\n",
       " 182,\n",
       " 91,\n",
       " 274,\n",
       " 137,\n",
       " 412,\n",
       " 206,\n",
       " 103,\n",
       " 310,\n",
       " 155,\n",
       " 466,\n",
       " 233,\n",
       " 700,\n",
       " 350,\n",
       " 175,\n",
       " 526,\n",
       " 263,\n",
       " 790,\n",
       " 395,\n",
       " 1186,\n",
       " 593,\n",
       " 1780,\n",
       " 890,\n",
       " 445,\n",
       " 1336,\n",
       " 668,\n",
       " 334,\n",
       " 167,\n",
       " 502,\n",
       " 251,\n",
       " 754,\n",
       " 377,\n",
       " 1132,\n",
       " 566,\n",
       " 283,\n",
       " 850,\n",
       " 425,\n",
       " 1276,\n",
       " 638,\n",
       " 319,\n",
       " 958,\n",
       " 479,\n",
       " 1438,\n",
       " 719,\n",
       " 2158,\n",
       " 1079,\n",
       " 3238,\n",
       " 1619,\n",
       " 4858,\n",
       " 2429,\n",
       " 7288,\n",
       " 3644,\n",
       " 1822,\n",
       " 911,\n",
       " 2734,\n",
       " 1367,\n",
       " 4102,\n",
       " 2051,\n",
       " 6154,\n",
       " 3077,\n",
       " 9232,\n",
       " 4616,\n",
       " 2308,\n",
       " 1154,\n",
       " 577,\n",
       " 1732,\n",
       " 866,\n",
       " 433,\n",
       " 1300,\n",
       " 650,\n",
       " 325,\n",
       " 976,\n",
       " 488,\n",
       " 244,\n",
       " 122,\n",
       " 61,\n",
       " 184,\n",
       " 92,\n",
       " 46,\n",
       " 23,\n",
       " 70,\n",
       " 35,\n",
       " 106,\n",
       " 53,\n",
       " 160,\n",
       " 80,\n",
       " 40,\n",
       " 20,\n",
       " 10,\n",
       " 5,\n",
       " 16,\n",
       " 8,\n",
       " 4,\n",
       " 2,\n",
       " 1]"
      ]
     },
     "execution_count": 21,
     "metadata": {},
     "output_type": "execute_result"
    }
   ],
   "source": [
    "Collatz_Sequence(29098080987083)"
   ]
  },
  {
   "cell_type": "code",
   "execution_count": null,
   "metadata": {},
   "outputs": [],
   "source": [
    "def fix(L):\n",
    "    n=len(L)\n",
    "    for i in range(L)"
   ]
  },
  {
   "cell_type": "code",
   "execution_count": 25,
   "metadata": {},
   "outputs": [
    {
     "name": "stdout",
     "output_type": "stream",
     "text": [
      "Sorted array is: [0, 11, 12, 22, 25, 34, 64, 90, 8098]\n"
     ]
    }
   ],
   "source": [
    "def bubble_sort(arr):\n",
    "    n = len(arr)\n",
    "    # Traverse through all elements in the array\n",
    "    for i in range(n):\n",
    "        # Last i elements are already in place\n",
    "        for j in range(0, n-i-1):\n",
    "            # Traverse the array from 0 to n-i-1\n",
    "            # Swap if the element found is greater than the next element\n",
    "            if arr[j] > arr[j+1]:\n",
    "                arr[j], arr[j+1] = arr[j+1], arr[j]\n",
    "\n",
    "# Example usage\n",
    "array = [64, 34, 25, 12, 22, 11, 8098,90,0]\n",
    "bubble_sort(array)\n",
    "print(\"Sorted array is:\", array)\n"
   ]
  },
  {
   "cell_type": "code",
   "execution_count": 32,
   "metadata": {},
   "outputs": [],
   "source": [
    "def Sequence(n):\n",
    "    F=dict()\n",
    "    F[0]=2\n",
    "    F[1]=3\n",
    "    for i in range(2,n+1):\n",
    "        F[i]=6*F[i-1]-9*F[i-2]\n",
    "    return F[n]"
   ]
  },
  {
   "cell_type": "code",
   "execution_count": 34,
   "metadata": {},
   "outputs": [
    {
     "data": {
      "text/plain": [
       "3"
      ]
     },
     "execution_count": 34,
     "metadata": {},
     "output_type": "execute_result"
    }
   ],
   "source": [
    "Sequence(1)"
   ]
  },
  {
   "cell_type": "code",
   "execution_count": 37,
   "metadata": {},
   "outputs": [
    {
     "name": "stdout",
     "output_type": "stream",
     "text": [
      "0 2\n",
      "1 3\n",
      "2 0\n",
      "3 -27\n",
      "4 -162\n",
      "5 -729\n",
      "6 -2916\n",
      "7 -10935\n",
      "8 -39366\n",
      "9 -137781\n",
      "10 -472392\n",
      "11 -1594323\n",
      "12 -5314410\n",
      "13 -17537553\n",
      "14 -57395628\n",
      "15 -186535791\n",
      "16 -602654094\n",
      "17 -1937102445\n",
      "18 -6198727824\n",
      "19 -19758444939\n"
     ]
    }
   ],
   "source": [
    "for i in range(20):\n",
    "    print(i,Sequence(i))"
   ]
  },
  {
   "cell_type": "code",
   "execution_count": 20,
   "metadata": {},
   "outputs": [],
   "source": [
    "r1=(1+math.sqrt(5))/2\n",
    "r2=(1-math.sqrt(5))/2\n",
    "alpha1=(1+math.sqrt(5))/(2*math.sqrt(5))\n",
    "alpha2=(math.sqrt(5)-1)/(2*math.sqrt(5))\n"
   ]
  },
  {
   "cell_type": "code",
   "execution_count": 38,
   "metadata": {},
   "outputs": [],
   "source": [
    "r=3\n",
    "alpha1=2\n",
    "alpha2=-1\n"
   ]
  },
  {
   "cell_type": "code",
   "execution_count": 42,
   "metadata": {},
   "outputs": [],
   "source": [
    "def formulaSec(n):\n",
    "    return (alpha1+n*alpha2)*3**n"
   ]
  },
  {
   "cell_type": "code",
   "execution_count": 45,
   "metadata": {},
   "outputs": [
    {
     "name": "stdout",
     "output_type": "stream",
     "text": [
      "2 2\n",
      "3 3\n",
      "0 0\n",
      "-27 -27\n",
      "-162 -162\n",
      "-729 -729\n",
      "-2916 -2916\n",
      "-10935 -10935\n",
      "-39366 -39366\n",
      "-137781 -137781\n",
      "-472392 -472392\n",
      "-1594323 -1594323\n",
      "-5314410 -5314410\n",
      "-17537553 -17537553\n",
      "-57395628 -57395628\n",
      "-186535791 -186535791\n",
      "-602654094 -602654094\n",
      "-1937102445 -1937102445\n",
      "-6198727824 -6198727824\n",
      "-19758444939 -19758444939\n",
      "-62762119218 -62762119218\n",
      "-198746710857 -198746710857\n",
      "-627621192180 -627621192180\n",
      "-1977006755367 -1977006755367\n",
      "-6213449802582 -6213449802582\n",
      "-19487638017189 -19487638017189\n",
      "-61004779879896 -61004779879896\n",
      "-190639937124675 -190639937124675\n",
      "-594796603828986 -594796603828986\n",
      "-1853020188851841 -1853020188851841\n"
     ]
    }
   ],
   "source": [
    "for i in range(30):\n",
    "    print (formulaSec(i),Sequence(i))"
   ]
  },
  {
   "cell_type": "code",
   "execution_count": 46,
   "metadata": {},
   "outputs": [],
   "source": [
    "def isprime(n):\n",
    "    ans=\"Yes\"\n",
    "    for i in range(2,n):\n",
    "        if n%i==0:\n",
    "            ans=\"No\"\n",
    "            break\n",
    "    return ans"
   ]
  },
  {
   "cell_type": "code",
   "execution_count": 51,
   "metadata": {},
   "outputs": [
    {
     "name": "stdout",
     "output_type": "stream",
     "text": [
      "2 Yes\n",
      "3 Yes\n",
      "4 No\n",
      "5 Yes\n",
      "6 No\n",
      "7 Yes\n",
      "8 No\n",
      "9 No\n",
      "10 No\n",
      "11 Yes\n",
      "12 No\n",
      "13 Yes\n",
      "14 No\n",
      "15 No\n",
      "16 No\n",
      "17 Yes\n",
      "18 No\n",
      "19 Yes\n",
      "20 No\n",
      "21 No\n",
      "22 No\n",
      "23 Yes\n",
      "24 No\n",
      "25 No\n",
      "26 No\n",
      "27 No\n",
      "28 No\n",
      "29 Yes\n",
      "30 No\n",
      "31 Yes\n",
      "32 No\n",
      "33 No\n",
      "34 No\n",
      "35 No\n",
      "36 No\n",
      "37 Yes\n",
      "38 No\n",
      "39 No\n",
      "40 No\n",
      "41 Yes\n",
      "42 No\n",
      "43 Yes\n",
      "44 No\n",
      "45 No\n",
      "46 No\n",
      "47 Yes\n",
      "48 No\n",
      "49 No\n",
      "50 No\n",
      "51 No\n",
      "52 No\n",
      "53 Yes\n",
      "54 No\n",
      "55 No\n",
      "56 No\n",
      "57 No\n",
      "58 No\n",
      "59 Yes\n",
      "60 No\n",
      "61 Yes\n",
      "62 No\n",
      "63 No\n",
      "64 No\n",
      "65 No\n",
      "66 No\n",
      "67 Yes\n",
      "68 No\n",
      "69 No\n",
      "70 No\n",
      "71 Yes\n",
      "72 No\n",
      "73 Yes\n",
      "74 No\n",
      "75 No\n",
      "76 No\n",
      "77 No\n",
      "78 No\n",
      "79 Yes\n",
      "80 No\n",
      "81 No\n",
      "82 No\n",
      "83 Yes\n",
      "84 No\n",
      "85 No\n",
      "86 No\n",
      "87 No\n",
      "88 No\n",
      "89 Yes\n",
      "90 No\n",
      "91 No\n",
      "92 No\n",
      "93 No\n",
      "94 No\n",
      "95 No\n",
      "96 No\n",
      "97 Yes\n",
      "98 No\n",
      "99 No\n"
     ]
    }
   ],
   "source": [
    "for i in range(2,100):\n",
    "    print(i,isprime(i))"
   ]
  },
  {
   "cell_type": "code",
   "execution_count": 1,
   "metadata": {},
   "outputs": [],
   "source": [
    "import numpy as np"
   ]
  },
  {
   "cell_type": "code",
   "execution_count": 4,
   "metadata": {},
   "outputs": [
    {
     "data": {
      "text/plain": [
       "array([18, 10,  7,  4, 13, 19,  3,  5,  2,  1,  8, 16,  6, 15, 11, 12,  9,\n",
       "       17, 14,  0])"
      ]
     },
     "execution_count": 4,
     "metadata": {},
     "output_type": "execute_result"
    }
   ],
   "source": [
    "np.random.permutation(range(20))"
   ]
  },
  {
   "cell_type": "code",
   "execution_count": 5,
   "metadata": {},
   "outputs": [],
   "source": [
    "ans=[]\n",
    "for i in range(16):\n",
    "    x=np.random.choice(range(20))\n",
    "    delta=np.random.choice(range(1,6))\n",
    "    ans.append((x,x+delta))"
   ]
  },
  {
   "cell_type": "code",
   "execution_count": 6,
   "metadata": {},
   "outputs": [
    {
     "data": {
      "text/plain": [
       "[(5, 6),\n",
       " (18, 23),\n",
       " (15, 20),\n",
       " (2, 5),\n",
       " (18, 19),\n",
       " (4, 9),\n",
       " (4, 7),\n",
       " (16, 18),\n",
       " (2, 4),\n",
       " (9, 10),\n",
       " (13, 16),\n",
       " (13, 17),\n",
       " (7, 10),\n",
       " (4, 8),\n",
       " (14, 19),\n",
       " (2, 5)]"
      ]
     },
     "execution_count": 6,
     "metadata": {},
     "output_type": "execute_result"
    }
   ],
   "source": [
    "ans"
   ]
  },
  {
   "cell_type": "code",
   "execution_count": 7,
   "metadata": {},
   "outputs": [],
   "source": [
    "def counter(m,n,k):\n",
    "    if m<0 or n<0 or k<0:\n",
    "        return 0\n",
    "    if (m,n,k)==(0,0,0):\n",
    "        return 1\n",
    "    else:\n",
    "        return counter(m-1,n,k)+counter(m,n-1,k)+counter(m,n,k-1)\n",
    "    \n",
    "\n",
    "    "
   ]
  },
  {
   "cell_type": "code",
   "execution_count": 15,
   "metadata": {},
   "outputs": [
    {
     "data": {
      "text/plain": [
       "90"
      ]
     },
     "execution_count": 15,
     "metadata": {},
     "output_type": "execute_result"
    }
   ],
   "source": [
    "counter(2,2,2)"
   ]
  },
  {
   "cell_type": "code",
   "execution_count": 10,
   "metadata": {},
   "outputs": [],
   "source": [
    "from math import comb"
   ]
  },
  {
   "cell_type": "code",
   "execution_count": 14,
   "metadata": {},
   "outputs": [
    {
     "data": {
      "text/plain": [
       "90"
      ]
     },
     "execution_count": 14,
     "metadata": {},
     "output_type": "execute_result"
    }
   ],
   "source": [
    "comb(6,2)*comb(4,2)"
   ]
  },
  {
   "cell_type": "code",
   "execution_count": 2,
   "metadata": {},
   "outputs": [],
   "source": [
    "def max_increasing_subsequence(arr):\n",
    "    \"\"\"\n",
    "    Find the maximum increasing subsequence in an array.\n",
    "\n",
    "    :param arr: List of numbers\n",
    "    :return: A list containing the maximum increasing subsequence\n",
    "    \"\"\"\n",
    "    n = len(arr)\n",
    "\n",
    "    # Base case: if the array is empty or has one element\n",
    "    if n == 0 or n == 1:\n",
    "        return arr\n",
    "\n",
    "    # Initialize the list to store the length of the longest increasing subsequence up to each element\n",
    "    lis = [1] * n\n",
    "\n",
    "    # Compute the length of the LIS for each element\n",
    "    for i in range(1, n):\n",
    "        for j in range(i):\n",
    "            if arr[i] > arr[j] and lis[i] < lis[j] + 1:\n",
    "                lis[i] = lis[j] + 1\n",
    "\n",
    "    # Find the maximum length of the LIS\n",
    "    max_length = max(lis)\n",
    "\n",
    "    # Reconstruct the subsequence\n",
    "    result = []\n",
    "    current_length = max_length\n",
    "    for i in range(n - 1, -1, -1):\n",
    "        if lis[i] == current_length:\n",
    "            result.append(arr[i])\n",
    "            current_length -= 1\n",
    "\n",
    "    # Return the subsequence in correct order\n",
    "    return result[::-1]\n",
    "\n",
    "\n"
   ]
  },
  {
   "cell_type": "markdown",
   "metadata": {},
   "source": [
    "### Increasing sequence"
   ]
  },
  {
   "cell_type": "code",
   "execution_count": 3,
   "metadata": {},
   "outputs": [
    {
     "data": {
      "text/plain": [
       "[3, 5, 11, 12, 14]"
      ]
     },
     "execution_count": 3,
     "metadata": {},
     "output_type": "execute_result"
    }
   ],
   "source": [
    "# Example usage\n",
    "exam_list = [18, 10, 7, 4, 13, 19, 3, 5, 11, 12, 9, 17, 14, 0]\n",
    "max_increasing_subsequence(exam_list)"
   ]
  },
  {
   "cell_type": "markdown",
   "metadata": {},
   "source": [
    "### Intervar Schedulling maximum compatible set"
   ]
  },
  {
   "cell_type": "code",
   "execution_count": 8,
   "metadata": {},
   "outputs": [],
   "source": [
    "def max_compatible_requests(requests):\n",
    "    \"\"\"\n",
    "    Find the maximum subset of non-overlapping requests.\n",
    "\n",
    "    :param requests: List of tuples, each representing a request in the form (start, end)\n",
    "    :return: A list containing the maximum subset of non-overlapping requests\n",
    "    \"\"\"\n",
    "    # Sort the requests based on end time\n",
    "    sorted_requests = sorted(requests, key=lambda x: x[1])\n",
    "\n",
    "    # Initialize the list to store the maximum subset of compatible requests\n",
    "    max_subset = []\n",
    "\n",
    "    # Initialize the end time of the last added request\n",
    "    last_end_time = float('-inf')\n",
    "\n",
    "    # Iterate through the requests and select the compatible ones\n",
    "    for request in sorted_requests:\n",
    "        if request[0] >= last_end_time:\n",
    "            max_subset.append(request)\n",
    "            last_end_time = request[1]\n",
    "\n",
    "    return max_subset\n",
    "\n",
    "\n"
   ]
  },
  {
   "cell_type": "code",
   "execution_count": 9,
   "metadata": {},
   "outputs": [
    {
     "name": "stdout",
     "output_type": "stream",
     "text": [
      "[(2, 4), (5, 6), (16, 18), (18, 19)]\n"
     ]
    }
   ],
   "source": [
    "# Example usage\n",
    "exam_requests = [(5, 6), (18, 23), (15, 20), (2, 5), (18, 19), (4, 9), (4, 7), (16, 18), (2, 4), (2, 5)]\n",
    "print(max_compatible_requests(exam_requests))"
   ]
  },
  {
   "cell_type": "markdown",
   "metadata": {},
   "source": [
    "### Minimum number of resources"
   ]
  },
  {
   "cell_type": "code",
   "execution_count": 10,
   "metadata": {},
   "outputs": [],
   "source": [
    "def min_resources_for_requests(requests):\n",
    "    \"\"\"\n",
    "    Calculate the minimum number of resources required to satisfy a list of requests.\n",
    "\n",
    "    :param requests: List of tuples, each representing a request in the form (start, end)\n",
    "    :return: Minimum number of resources required\n",
    "    \"\"\"\n",
    "    # Sort the requests based on start time\n",
    "    sorted_requests = sorted(requests, key=lambda x: x[0])\n",
    "\n",
    "    # List to store the end times of resources currently in use\n",
    "    resources = []\n",
    "\n",
    "    for request in sorted_requests:\n",
    "        start, end = request\n",
    "\n",
    "        # Check if a resource is freed up\n",
    "        resources = [resource_end for resource_end in resources if resource_end > start]\n",
    "\n",
    "        # Add the new request's end time to resources\n",
    "        resources.append(end)\n",
    "\n",
    "        # Sort the resources list by end time\n",
    "        resources.sort()\n",
    "\n",
    "    return len(resources)\n",
    "\n"
   ]
  },
  {
   "cell_type": "code",
   "execution_count": 12,
   "metadata": {},
   "outputs": [
    {
     "data": {
      "text/plain": [
       "3"
      ]
     },
     "execution_count": 12,
     "metadata": {},
     "output_type": "execute_result"
    }
   ],
   "source": [
    "# Example usage\n",
    "\n",
    "min_resources_for_requests(exam_requests)\n"
   ]
  },
  {
   "cell_type": "code",
   "execution_count": 16,
   "metadata": {},
   "outputs": [],
   "source": [
    "from math import comb,factorial"
   ]
  },
  {
   "cell_type": "code",
   "execution_count": 14,
   "metadata": {},
   "outputs": [
    {
     "data": {
      "text/plain": [
       "1771"
      ]
     },
     "execution_count": 14,
     "metadata": {},
     "output_type": "execute_result"
    }
   ],
   "source": [
    "comb(23,3)"
   ]
  },
  {
   "cell_type": "code",
   "execution_count": 17,
   "metadata": {},
   "outputs": [
    {
     "data": {
      "text/plain": [
       "5040"
      ]
     },
     "execution_count": 17,
     "metadata": {},
     "output_type": "execute_result"
    }
   ],
   "source": [
    "factorial(7)"
   ]
  },
  {
   "cell_type": "code",
   "execution_count": 1,
   "metadata": {},
   "outputs": [
    {
     "data": {
      "text/plain": [
       "243"
      ]
     },
     "execution_count": 1,
     "metadata": {},
     "output_type": "execute_result"
    }
   ],
   "source": [
    "3**5"
   ]
  },
  {
   "cell_type": "code",
   "execution_count": 2,
   "metadata": {},
   "outputs": [
    {
     "data": {
      "text/plain": [
       "5005"
      ]
     },
     "execution_count": 2,
     "metadata": {},
     "output_type": "execute_result"
    }
   ],
   "source": [
    "5*7*11*13"
   ]
  },
  {
   "cell_type": "code",
   "execution_count": 13,
   "metadata": {},
   "outputs": [
    {
     "name": "stdout",
     "output_type": "stream",
     "text": [
      "0.367879422971105\n"
     ]
    }
   ],
   "source": [
    "n=10000000\n",
    "p=1/n\n",
    "q=1-p\n",
    "print(q**(n))"
   ]
  },
  {
   "cell_type": "code",
   "execution_count": 19,
   "metadata": {},
   "outputs": [],
   "source": [
    "\n",
    "from functools import reduce\n",
    "def bitwise_sum(numbers):\n",
    "    return reduce(lambda x, y: x ^ y, numbers)"
   ]
  },
  {
   "cell_type": "code",
   "execution_count": 21,
   "metadata": {},
   "outputs": [
    {
     "data": {
      "text/plain": [
       "0"
      ]
     },
     "execution_count": 21,
     "metadata": {},
     "output_type": "execute_result"
    }
   ],
   "source": [
    "bitwise_sum([7,5,11,13,31,13,19,5])"
   ]
  },
  {
   "cell_type": "code",
   "execution_count": 22,
   "metadata": {},
   "outputs": [
    {
     "data": {
      "text/plain": [
       "1"
      ]
     },
     "execution_count": 22,
     "metadata": {},
     "output_type": "execute_result"
    }
   ],
   "source": [
    "(1277*243)%5005"
   ]
  },
  {
   "cell_type": "code",
   "execution_count": 23,
   "metadata": {},
   "outputs": [
    {
     "data": {
      "text/plain": [
       "337"
      ]
     },
     "execution_count": 23,
     "metadata": {},
     "output_type": "execute_result"
    }
   ],
   "source": [
    "(249**7)%437"
   ]
  },
  {
   "cell_type": "code",
   "execution_count": 2,
   "metadata": {},
   "outputs": [],
   "source": [
    "\n",
    "num=[33, 47, 41, 5, 35, 34, 40, 32, 22, 21, 37, 4, 16, 36, 2, 10, 7, 20, 11, 50]"
   ]
  },
  {
   "cell_type": "code",
   "execution_count": 3,
   "metadata": {},
   "outputs": [
    {
     "data": {
      "text/plain": [
       "20"
      ]
     },
     "execution_count": 3,
     "metadata": {},
     "output_type": "execute_result"
    }
   ],
   "source": [
    "len(num)"
   ]
  },
  {
   "cell_type": "code",
   "execution_count": 4,
   "metadata": {},
   "outputs": [
    {
     "data": {
      "text/plain": [
       "20"
      ]
     },
     "execution_count": 4,
     "metadata": {},
     "output_type": "execute_result"
    }
   ],
   "source": [
    "len(set(num))"
   ]
  },
  {
   "cell_type": "code",
   "execution_count": 12,
   "metadata": {},
   "outputs": [
    {
     "data": {
      "text/plain": [
       "10"
      ]
     },
     "execution_count": 12,
     "metadata": {},
     "output_type": "execute_result"
    }
   ],
   "source": [
    "def count_ways(coins, amount):\n",
    "    \"\"\"\n",
    "    Count the number of different ways to make change for a given amount\n",
    "    using a set of coin denominations.\n",
    "    \n",
    "    Args:\n",
    "    coins (list): List of coin denominations.\n",
    "    amount (int): The amount to make change for.\n",
    "\n",
    "    Returns:\n",
    "    int: Number of ways to make change.\n",
    "    \"\"\"\n",
    "    # Initialize a table to store the number of ways to make each amount\n",
    "    ways = [0] * (amount + 1)\n",
    "    \n",
    "    # There is one way to make the amount 0 (using no coins)\n",
    "    ways[0] = 1\n",
    "\n",
    "    # Update the table for each coin\n",
    "    for coin in coins:\n",
    "        for i in range(coin, amount + 1):\n",
    "            ways[i] += ways[i - coin]\n",
    "\n",
    "    return ways[amount]\n",
    "\n",
    "# Example: Count the number of ways to make change for 30 cents\n",
    "# with coins of 1, 2, 5, and 10 cents\n",
    "coins = [1, 2, 5]\n",
    "amount = 12\n",
    "\n",
    "# Calculate the number of ways\n",
    "count_ways(coins, amount)\n"
   ]
  },
  {
   "cell_type": "code",
   "execution_count": 14,
   "metadata": {},
   "outputs": [
    {
     "data": {
      "text/plain": [
       "13"
      ]
     },
     "execution_count": 14,
     "metadata": {},
     "output_type": "execute_result"
    }
   ],
   "source": [
    "# with coins of 1, 2, 5, and 10 cents\n",
    "coins = [1, 2, 5]\n",
    "amount = 12\n",
    "\n",
    "# Calculate the number of ways\n",
    "count_ways(coins, amount)"
   ]
  },
  {
   "cell_type": "code",
   "execution_count": 1,
   "metadata": {},
   "outputs": [
    {
     "name": "stdout",
     "output_type": "stream",
     "text": [
      "[10, 22, 33, 41, 60, 80]\n"
     ]
    }
   ],
   "source": [
    "def longest_increasing_subsequence(arr):\n",
    "    if not arr:\n",
    "        return 0\n",
    "\n",
    "    dp = [1] * len(arr)\n",
    "    max_length = 1\n",
    "\n",
    "    for i in range(1, len(arr)):\n",
    "        for j in range(i):\n",
    "            if arr[i] > arr[j] and dp[i] < dp[j] + 1:\n",
    "                dp[i] = dp[j] + 1\n",
    "                max_length = max(max_length, dp[i])\n",
    "\n",
    "    # Reconstruct the subsequence\n",
    "    lis = []\n",
    "    current_len = max_length\n",
    "    for i in range(len(dp) - 1, -1, -1):\n",
    "        if dp[i] == current_len:\n",
    "            lis.append(arr[i])\n",
    "            current_len -= 1\n",
    "            if current_len == 0:\n",
    "                break\n",
    "\n",
    "    return list(reversed(lis))\n",
    "\n",
    "# Example usage\n",
    "arr = [10, 22, 9, 33, 21, 50, 41, 60, 80]\n",
    "print(longest_increasing_subsequence(arr))"
   ]
  },
  {
   "cell_type": "code",
   "execution_count": 2,
   "metadata": {},
   "outputs": [],
   "source": [
    "x=[33,47,41,5,35,34,40,32,22,21,37,4,16,36,2,10,7,20,11,50]\n",
    "y=[-n for n in x]"
   ]
  },
  {
   "cell_type": "code",
   "execution_count": 3,
   "metadata": {},
   "outputs": [
    {
     "data": {
      "text/plain": [
       "[-33,\n",
       " -47,\n",
       " -41,\n",
       " -5,\n",
       " -35,\n",
       " -34,\n",
       " -40,\n",
       " -32,\n",
       " -22,\n",
       " -21,\n",
       " -37,\n",
       " -4,\n",
       " -16,\n",
       " -36,\n",
       " -2,\n",
       " -10,\n",
       " -7,\n",
       " -20,\n",
       " -11,\n",
       " -50]"
      ]
     },
     "execution_count": 3,
     "metadata": {},
     "output_type": "execute_result"
    }
   ],
   "source": [
    "y"
   ]
  },
  {
   "cell_type": "code",
   "execution_count": 6,
   "metadata": {},
   "outputs": [
    {
     "data": {
      "text/plain": [
       "[-47, -41, -35, -34, -32, -22, -21, -16, -10, -7]"
      ]
     },
     "execution_count": 6,
     "metadata": {},
     "output_type": "execute_result"
    }
   ],
   "source": [
    "longest_increasing_subsequence(y)"
   ]
  },
  {
   "cell_type": "code",
   "execution_count": 7,
   "metadata": {},
   "outputs": [],
   "source": [
    "def count_change_ways(C, denominations):\n",
    "    # Initialize dp array\n",
    "    dp = [0] * (C + 1)\n",
    "    dp[0] = 1  # Base case: one way to make change for zero\n",
    "\n",
    "    # Update dp array for each denomination\n",
    "    for d in denominations:\n",
    "        for i in range(d, C + 1):\n",
    "            dp[i] += dp[i - d]\n",
    "\n",
    "    return dp[C]"
   ]
  },
  {
   "cell_type": "code",
   "execution_count": 9,
   "metadata": {},
   "outputs": [
    {
     "data": {
      "text/plain": [
       "13"
      ]
     },
     "execution_count": 9,
     "metadata": {},
     "output_type": "execute_result"
    }
   ],
   "source": [
    "count_change_ways(12,[1,2,5])"
   ]
  },
  {
   "cell_type": "code",
   "execution_count": 4,
   "metadata": {},
   "outputs": [
    {
     "data": {
      "image/png": "[encoded data removed]",
      "text/plain": [
       "<Figure size 1000x500 with 1 Axes>"
      ]
     },
     "metadata": {},
     "output_type": "display_data"
    }
   ],
   "source": [
    "import numpy as np\n",
    "import matplotlib.pyplot as plt\n",
    "\n",
    "# Set the number of steps and probability for heads\n",
    "n_steps = 10000\n",
    "p_heads = 0.5\n",
    "\n",
    "# Simulate the random walk\n",
    "positions = np.zeros(n_steps)\n",
    "for i in range(1, n_steps):\n",
    "    flip = np.random.rand()\n",
    "    if flip < p_heads:\n",
    "        step = -1\n",
    "    else:\n",
    "        step = 1\n",
    "    positions[i] = positions[i - 1] + step\n",
    "\n",
    "# Plot the random walk\n",
    "plt.figure(figsize=(10, 5))\n",
    "plt.plot(positions, label='Random Walk')\n",
    "plt.xlabel('Steps')\n",
    "plt.ylabel('Position')\n",
    "plt.title('1D Random Walk')\n",
    "plt.legend()\n",
    "plt.show()\n"
   ]
  }
 ],
 "metadata": {
  "kernelspec": {
   "display_name": "topics_alg",
   "language": "python",
   "name": "python3"
  },
  "language_info": {
   "codemirror_mode": {
    "name": "ipython",
    "version": 3
   },
   "file_extension": ".py",
   "mimetype": "text/x-python",
   "name": "python",
   "nbconvert_exporter": "python",
   "pygments_lexer": "ipython3",
   "version": "3.11.4"
  },
  "orig_nbformat": 4
 },
 "nbformat": 4,
 "nbformat_minor": 2
}
