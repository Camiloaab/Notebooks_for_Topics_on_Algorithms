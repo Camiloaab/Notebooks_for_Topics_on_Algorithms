{
 "cells": [
  {
   "cell_type": "markdown",
   "metadata": {},
   "source": [
    "## Center Selection\n",
    "Following Kleinberg and Tardos"
   ]
  },
  {
   "cell_type": "code",
   "execution_count": 24,
   "metadata": {},
   "outputs": [],
   "source": [
    "import numpy as np\n",
    "import random\n",
    "import matplotlib.pyplot as plt\n",
    "from matplotlib.animation import FuncAnimation\n",
    "from IPython.display import HTML\n",
    "from itertools import combinations, product\n",
    "import matplotlib.patches as patches\n",
    "import math"
   ]
  },
  {
   "cell_type": "markdown",
   "metadata": {},
   "source": [
    "## Problem Description\n",
    "Consider the following scenario. We have a set S of n sites—say, n little towns in upstate New York. We want to select k centers for building large shopping malls. We expect that people in each of these n towns will shop at one of the malls, and so we want to select the sites of the k malls to be central.\n",
    "Let us start by defining the input to our problem more formally. We are given an integer k, a set S of n sites (corresponding to the towns), and a distance function. When we consider instances where the sites are points in the plane, the distance function will be the standard Euclidean distance between points, and any point in the plane is an option for placing a center. The algorithm we develop, however, can be applied to more general notions of distance. In applications, distance sometimes means straight-line distance, but can also mean the travel time from point s to point z, or the driving distance (i.e., distance along roads), or even the cost of traveling. Mathematically, any metric will do."
   ]
  },
  {
   "cell_type": "markdown",
   "metadata": {},
   "source": [
    "## Algorithm description\n",
    "There are greedy ways to find solutions within a factor of two."
   ]
  },
  {
   "cell_type": "markdown",
   "metadata": {},
   "source": [
    "## Generate Instances"
   ]
  },
  {
   "cell_type": "code",
   "execution_count": 4,
   "metadata": {},
   "outputs": [],
   "source": [
    "def make_cities(n):\n",
    "    ans=[]\n",
    "    for i in range(n):\n",
    "        ans.append((random.uniform(-10,10),random.uniform(-10,10)))\n",
    "    return ans"
   ]
  },
  {
   "cell_type": "markdown",
   "metadata": {},
   "source": [
    "## Distance function"
   ]
  },
  {
   "cell_type": "code",
   "execution_count": 7,
   "metadata": {},
   "outputs": [],
   "source": [
    "def distance(x,y):\n",
    "    return math.sqrt((x[0]-y[0])**2+(x[1]-y[1])**2)"
   ]
  },
  {
   "cell_type": "markdown",
   "metadata": {},
   "source": [
    "## Distance between finite sets"
   ]
  },
  {
   "cell_type": "code",
   "execution_count": 26,
   "metadata": {},
   "outputs": [],
   "source": [
    "def set_distance(X,Y):\n",
    "    ans=distance(X[0],Y[0])\n",
    "    for x,y in product(X,Y):\n",
    "        ans=min(ans,distance(x,y))\n",
    "    return ans\n",
    "        "
   ]
  },
  {
   "cell_type": "code",
   "execution_count": 27,
   "metadata": {},
   "outputs": [
    {
     "data": {
      "text/plain": [
       "0.5701162006406411"
      ]
     },
     "execution_count": 27,
     "metadata": {},
     "output_type": "execute_result"
    }
   ],
   "source": [
    "a=make_cities(5)\n",
    "b=make_cities(10)\n",
    "set_distance(a,b)"
   ]
  },
  {
   "cell_type": "markdown",
   "metadata": {},
   "source": [
    "## Greedy algorithm"
   ]
  },
  {
   "cell_type": "code",
   "execution_count": 16,
   "metadata": {},
   "outputs": [],
   "source": [
    "## \n",
    "def Greedy_centers(instance,k):\n",
    "    if k>len(instance):\n",
    "        return \"There are more centers than cities, choose a center in each city\"\n",
    "    # choose the first center randomly\n",
    "    centers=[instance[0]]\n",
    "    #consider the remaining centers\n",
    "    remaining=instance[1:].copy()\n",
    "    distance_to_center=dict()\n",
    "    for place in remaining:\n",
    "        distance_to_center[place]=distance(place,instance[0])\n",
    "    for i in range(k-1):\n",
    "        new=remaining[0]\n",
    "        for place in remaining:\n",
    "            if distance_to_center[place]>distance_to_center[new]:\n",
    "                new=place\n",
    "        centers.append(new)\n",
    "        remaining.remove(new)\n",
    "        for place in remaining:\n",
    "            distance_to_center[place]=min(distance_to_center[place],distance(place,new))\n",
    "    return centers\n",
    "        \n"
   ]
  },
  {
   "cell_type": "code",
   "execution_count": 91,
   "metadata": {},
   "outputs": [],
   "source": [
    "instancia=make_cities(50)"
   ]
  },
  {
   "cell_type": "code",
   "execution_count": 92,
   "metadata": {},
   "outputs": [],
   "source": [
    "centers=Greedy_centers(instancia,20)"
   ]
  },
  {
   "cell_type": "markdown",
   "metadata": {},
   "source": [
    "## Find radius"
   ]
  },
  {
   "cell_type": "code",
   "execution_count": 44,
   "metadata": {},
   "outputs": [],
   "source": [
    "def find_radius(places,centers):\n",
    "    distance_list=[]\n",
    "    for place in places:\n",
    "        distance_list.append(set_distance(centers,[place]))\n",
    "    return max(distance_list)\n",
    "\n"
   ]
  },
  {
   "cell_type": "code",
   "execution_count": 64,
   "metadata": {},
   "outputs": [
    {
     "data": {
      "text/plain": [
       "[(-1.887394972180827, 2.9346875989396075),\n",
       " (-8.204631653658328, 6.630703402974049),\n",
       " (-5.59328940726739, 3.1771898921126542),\n",
       " (-7.385217549734923, -3.135145087676017),\n",
       " (-9.95948241366293, -7.398274297238845),\n",
       " (6.774922856689088, -4.285839680540011),\n",
       " (-0.40815030410087516, -8.560998415351083),\n",
       " (7.309696785840437, -8.287314860143018),\n",
       " (-8.852779559224896, -8.485349276670375),\n",
       " (-1.144250687740234, 4.845489149605992),\n",
       " (3.8401997927329923, 6.72777915702866),\n",
       " (9.93834516665948, -4.644483399879937),\n",
       " (6.723138784166711, 5.413434085946873),\n",
       " (5.272628785375527, 4.966328348368309),\n",
       " (-2.544314398930183, -1.981701660460116),\n",
       " (-5.626650705888139, -3.822824643162825),\n",
       " (1.89791622483712, 4.221055261690687),\n",
       " (2.339607622853677, -6.716417519025026),\n",
       " (-8.612616620929604, -6.3460643841621245),\n",
       " (2.6387119949225557, -0.23554285851312073),\n",
       " (-3.5941555882938436, 6.234436182819692),\n",
       " (-7.790158897132436, 9.793811127273088),\n",
       " (-9.578604977274397, 4.0582781985126),\n",
       " (-1.5834113555644809, 6.325365540538531),\n",
       " (-0.7385992197310198, 0.7655002638278141),\n",
       " (4.68519536956836, -3.057708998646369),\n",
       " (-3.679516509432239, 5.380954051405995),\n",
       " (-9.520109584519076, 1.3690052010045086),\n",
       " (-0.23989653970558678, 7.813804094339222),\n",
       " (-0.8789281105619331, -2.687708910849464),\n",
       " (-1.8429836595331075, 1.9767725280102724),\n",
       " (8.288113575468998, 1.5344623293390072),\n",
       " (5.541774287216892, 4.482006220714238),\n",
       " (2.0856498419495377, 2.286421622720944),\n",
       " (-1.4394079114705107, 9.758939231548752),\n",
       " (-7.036798611786579, 0.7356035555460654),\n",
       " (2.71342321959472, -5.585534367239702),\n",
       " (-3.788832597045877, -0.43235604991451737),\n",
       " (-9.26256687325466, 5.181680413607417),\n",
       " (7.323855893126822, -0.9443388992738946),\n",
       " (-2.896791200633859, -5.1812863777407525),\n",
       " (-4.691004785497475, -9.628198766545065),\n",
       " (7.020011349367202, 9.043154929929116),\n",
       " (-2.4365588842685115, -5.176055827296695),\n",
       " (6.574450230926846, 3.4089183885979324),\n",
       " (-6.40047905548766, -7.348968104177159),\n",
       " (6.864206115587251, 5.230488714688317),\n",
       " (-3.0427659700310716, 6.652636988772741),\n",
       " (9.684794249306396, 7.7998878654594215),\n",
       " (1.35486758295065, -7.155895401427408)]"
      ]
     },
     "execution_count": 64,
     "metadata": {},
     "output_type": "execute_result"
    }
   ],
   "source": [
    "instancia"
   ]
  },
  {
   "cell_type": "code",
   "execution_count": 93,
   "metadata": {},
   "outputs": [],
   "source": [
    "r=find_radius(instancia,centers)"
   ]
  },
  {
   "cell_type": "code",
   "execution_count": 94,
   "metadata": {},
   "outputs": [
    {
     "data": {
      "text/plain": [
       "2.515297832380195"
      ]
     },
     "execution_count": 94,
     "metadata": {},
     "output_type": "execute_result"
    }
   ],
   "source": [
    "r"
   ]
  },
  {
   "cell_type": "code",
   "execution_count": 53,
   "metadata": {},
   "outputs": [
    {
     "data": {
      "text/plain": [
       "5.571925406818867"
      ]
     },
     "execution_count": 53,
     "metadata": {},
     "output_type": "execute_result"
    }
   ],
   "source": [
    "r"
   ]
  },
  {
   "cell_type": "markdown",
   "metadata": {},
   "source": [
    "### Plot greedy solution"
   ]
  },
  {
   "cell_type": "code",
   "execution_count": 83,
   "metadata": {},
   "outputs": [],
   "source": [
    "def plot_greedy_centers(places,centers,radius):\n",
    "    # List of points\n",
    "    points = places\n",
    "\n",
    "    # List of centers and their radii\n",
    "    #radii = [0.5, 1]\n",
    "\n",
    "    # Create a new figure and axis\n",
    "    fig, ax = plt.subplots()\n",
    "\n",
    "    # Plot the points\n",
    "    for x, y in points:\n",
    "        ax.plot(x, y, 'o',color=\"teal\")  # 'bo' means blue color, round points\n",
    "\n",
    "    # Plot the circles\n",
    "    for center in centers:\n",
    "        circle = patches.Circle(center, radius, fc='none', ec='r',color=\"deeppink\")  # fc is face color, ec is edge color\n",
    "        ax.add_patch(circle)\n",
    "\n",
    "    # Set aspect of the plot to be equal, so circles aren't elliptic\n",
    "    ax.set_aspect('equal', 'box')\n",
    "    #ax.set_xlim(0, 5)\n",
    "    #ax.set_ylim(0, 6)\n",
    "\n",
    "    # Display the plot\n",
    "    plt.show()\n"
   ]
  },
  {
   "cell_type": "code",
   "execution_count": 51,
   "metadata": {},
   "outputs": [
    {
     "data": {
      "text/plain": [
       "0.0"
      ]
     },
     "execution_count": 51,
     "metadata": {},
     "output_type": "execute_result"
    }
   ],
   "source": [
    "r"
   ]
  },
  {
   "cell_type": "code",
   "execution_count": 101,
   "metadata": {},
   "outputs": [],
   "source": [
    "def plot_instance(places):\n",
    "    # List of points\n",
    "    points = places\n",
    "\n",
    "    # List of centers and their radii\n",
    "    #radii = [0.5, 1]\n",
    "\n",
    "    # Create a new figure and axis\n",
    "    fig, ax = plt.subplots()\n",
    "\n",
    "    # Plot the points\n",
    "    for x, y in points:\n",
    "        ax.plot(x, y, 'o',color=\"teal\")  # 'bo' means blue color, round points\n",
    "\n",
    "    # Plot the circles\n",
    "    # for center in centers:\n",
    "    #     circle = patches.Circle(center, radius, fc='none', ec='r',color=\"deeppink\")  # fc is face color, ec is edge color\n",
    "    #     ax.add_patch(circle)\n",
    "\n",
    "    # # Set aspect of the plot to be equal, so circles aren't elliptic\n",
    "    ax.set_aspect('equal', 'box')\n",
    "    #ax.set_xlim(0, 5)\n",
    "    #ax.set_ylim(0, 6)\n",
    "\n",
    "    # Display the plot\n",
    "    plt.show()\n"
   ]
  },
  {
   "cell_type": "code",
   "execution_count": 102,
   "metadata": {},
   "outputs": [
    {
     "data": {
      "image/png": "[encoded data removed]",
      "text/plain": [
       "<Figure size 640x480 with 1 Axes>"
      ]
     },
     "metadata": {},
     "output_type": "display_data"
    }
   ],
   "source": [
    "plot_instance(instancia)"
   ]
  },
  {
   "cell_type": "code",
   "execution_count": 103,
   "metadata": {},
   "outputs": [
    {
     "data": {
      "image/png": "[encoded data removed]",
      "text/plain": [
       "<Figure size 640x480 with 1 Axes>"
      ]
     },
     "metadata": {},
     "output_type": "display_data"
    }
   ],
   "source": [
    "plot_greedy_centers(instancia,centers,r)"
   ]
  },
  {
   "cell_type": "markdown",
   "metadata": {},
   "source": [
    "## Animate the greedy solution"
   ]
  },
  {
   "cell_type": "markdown",
   "metadata": {},
   "source": []
  }
 ],
 "metadata": {
  "kernelspec": {
   "display_name": "topics_alg",
   "language": "python",
   "name": "python3"
  },
  "language_info": {
   "codemirror_mode": {
    "name": "ipython",
    "version": 3
   },
   "file_extension": ".py",
   "mimetype": "text/x-python",
   "name": "python",
   "nbconvert_exporter": "python",
   "pygments_lexer": "ipython3",
   "version": "3.11.4"
  },
  "orig_nbformat": 4
 },
 "nbformat": 4,
 "nbformat_minor": 2
}
