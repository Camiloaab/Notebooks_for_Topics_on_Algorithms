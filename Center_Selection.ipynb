{
 "cells": [
  {
   "cell_type": "markdown",
   "metadata": {},
   "source": [
    "## Center Selection\n",
    "Following Kleinberg and Tardos"
   ]
  },
  {
   "cell_type": "code",
   "execution_count": 104,
   "metadata": {},
   "outputs": [],
   "source": [
    "import numpy as np\n",
    "import random\n",
    "import matplotlib.pyplot as plt\n",
    "from matplotlib.animation import FuncAnimation\n",
    "from IPython.display import HTML\n",
    "from itertools import combinations, product\n",
    "import matplotlib.patches as patches\n",
    "import math"
   ]
  },
  {
   "cell_type": "markdown",
   "metadata": {},
   "source": [
    "## Problem Description\n",
    "Consider the following scenario. We have a set S of n sites—say, n little towns in upstate New York. We want to select k centers for building large shopping malls. We expect that people in each of these n towns will shop at one of the malls, and so we want to select the sites of the k malls to be central.\n",
    "Let us start by defining the input to our problem more formally. We are given an integer k, a set S of n sites (corresponding to the towns), and a distance function. When we consider instances where the sites are points in the plane, the distance function will be the standard Euclidean distance between points, and any point in the plane is an option for placing a center. The algorithm we develop, however, can be applied to more general notions of distance. In applications, distance sometimes means straight-line distance, but can also mean the travel time from point s to point z, or the driving distance (i.e., distance along roads), or even the cost of traveling. Mathematically, any metric will do."
   ]
  },
  {
   "cell_type": "markdown",
   "metadata": {},
   "source": [
    "## Algorithm description\n",
    "There are greedy ways to find solutions within a factor of two."
   ]
  },
  {
   "cell_type": "markdown",
   "metadata": {},
   "source": [
    "## Generate Instances"
   ]
  },
  {
   "cell_type": "code",
   "execution_count": 105,
   "metadata": {},
   "outputs": [],
   "source": [
    "def make_cities(n):\n",
    "    ans=[]\n",
    "    for i in range(n):\n",
    "        ans.append((random.uniform(-10,10),random.uniform(-10,10)))\n",
    "    return ans"
   ]
  },
  {
   "cell_type": "markdown",
   "metadata": {},
   "source": [
    "## Distance function"
   ]
  },
  {
   "cell_type": "code",
   "execution_count": 106,
   "metadata": {},
   "outputs": [],
   "source": [
    "def distance(x,y):\n",
    "    return math.sqrt((x[0]-y[0])**2+(x[1]-y[1])**2)"
   ]
  },
  {
   "cell_type": "markdown",
   "metadata": {},
   "source": [
    "## Distance between finite sets"
   ]
  },
  {
   "cell_type": "code",
   "execution_count": 107,
   "metadata": {},
   "outputs": [],
   "source": [
    "def set_distance(X,Y):\n",
    "    ans=distance(X[0],Y[0])\n",
    "    for x,y in product(X,Y):\n",
    "        ans=min(ans,distance(x,y))\n",
    "    return ans\n",
    "        "
   ]
  },
  {
   "cell_type": "code",
   "execution_count": 108,
   "metadata": {},
   "outputs": [
    {
     "data": {
      "text/plain": [
       "0.7504027134368921"
      ]
     },
     "execution_count": 108,
     "metadata": {},
     "output_type": "execute_result"
    }
   ],
   "source": [
    "a=make_cities(5)\n",
    "b=make_cities(10)\n",
    "set_distance(a,b)"
   ]
  },
  {
   "cell_type": "markdown",
   "metadata": {},
   "source": [
    "## Greedy algorithm"
   ]
  },
  {
   "cell_type": "code",
   "execution_count": 109,
   "metadata": {},
   "outputs": [],
   "source": [
    "## \n",
    "def Greedy_centers(instance,k):\n",
    "    if k>len(instance):\n",
    "        return \"There are more centers than cities, choose a center in each city\"\n",
    "    # choose the first center randomly\n",
    "    centers=[instance[0]]\n",
    "    #consider the remaining centers\n",
    "    remaining=instance[1:].copy()\n",
    "    distance_to_center=dict()\n",
    "    for place in remaining:\n",
    "        distance_to_center[place]=distance(place,instance[0])\n",
    "    for i in range(k-1):\n",
    "        new=remaining[0]\n",
    "        for place in remaining:\n",
    "            if distance_to_center[place]>distance_to_center[new]:\n",
    "                new=place\n",
    "        centers.append(new)\n",
    "        remaining.remove(new)\n",
    "        for place in remaining:\n",
    "            distance_to_center[place]=min(distance_to_center[place],distance(place,new))\n",
    "    return centers\n",
    "        \n"
   ]
  },
  {
   "cell_type": "code",
   "execution_count": 110,
   "metadata": {},
   "outputs": [],
   "source": [
    "instancia=make_cities(50)"
   ]
  },
  {
   "cell_type": "code",
   "execution_count": 111,
   "metadata": {},
   "outputs": [],
   "source": [
    "centers=Greedy_centers(instancia,20)"
   ]
  },
  {
   "cell_type": "markdown",
   "metadata": {},
   "source": [
    "## Find radius"
   ]
  },
  {
   "cell_type": "code",
   "execution_count": 112,
   "metadata": {},
   "outputs": [],
   "source": [
    "def find_radius(places,centers):\n",
    "    distance_list=[]\n",
    "    for place in places:\n",
    "        distance_list.append(set_distance(centers,[place]))\n",
    "    return max(distance_list)\n",
    "\n"
   ]
  },
  {
   "cell_type": "code",
   "execution_count": 113,
   "metadata": {},
   "outputs": [
    {
     "data": {
      "text/plain": [
       "[(-4.310335552800197, -8.48810114361732),\n",
       " (6.838287479535072, -5.299513412631642),\n",
       " (0.35235696554975604, -1.0521245282998315),\n",
       " (1.9951827578067984, -1.6430580490418514),\n",
       " (-4.031320845052941, 2.932349790291539),\n",
       " (2.4719681786059855, 0.24842048972628028),\n",
       " (-7.087227641675353, -9.298495999123773),\n",
       " (3.6392511614538297, -0.4852404773431669),\n",
       " (-4.1155482655701086, 7.485862246553403),\n",
       " (6.343311437372233, 1.0152794924003956),\n",
       " (2.857355640735662, -3.075803168909621),\n",
       " (6.418643948842028, -1.1688004463851378),\n",
       " (-6.203444387830055, 0.8549031307367585),\n",
       " (6.842739261475341, -1.9938072184337923),\n",
       " (-0.8913501765043979, 1.3212683232415223),\n",
       " (8.535146287686878, 3.7380422442291756),\n",
       " (-2.2152670207629566, 7.588225123868682),\n",
       " (0.16314931055418214, 4.600153853367901),\n",
       " (-5.5138242902300245, 6.665656327340983),\n",
       " (-5.763918860605257, 3.3705253443058787),\n",
       " (-3.153456002782793, -1.8695266987358856),\n",
       " (-5.446486073099215, -9.879214009197284),\n",
       " (-9.766022114712381, -5.01838649779482),\n",
       " (1.4852662567945796, -7.186730017180121),\n",
       " (-8.557884691462508, 6.510080647967833),\n",
       " (-3.5188076962831634, -3.7331902080800177),\n",
       " (3.83038388975665, -0.44140884605333675),\n",
       " (-8.796747621176824, 3.117224343422002),\n",
       " (-0.7800513894395458, 7.831082121885583),\n",
       " (7.1393739276158, 1.6253907294607757),\n",
       " (6.536738238302778, 1.1597026808807858),\n",
       " (9.801018522817714, -4.109027408668622),\n",
       " (-8.602207560629134, 0.5312923654238837),\n",
       " (-1.4857242770702435, 2.960309506871031),\n",
       " (-1.1525735868111475, 2.842694643185089),\n",
       " (-7.9858846300733415, 3.8053230461216785),\n",
       " (-6.1639422219228805, 1.247917133750585),\n",
       " (-4.558512721612207, 4.639875707068066),\n",
       " (4.319510258517177, -4.057549626206813),\n",
       " (3.1749129117321004, -4.936969914431717),\n",
       " (-4.043273937052387, 1.2778201551499908),\n",
       " (-5.0016221719668135, -9.044734119320271),\n",
       " (4.658624047998291, 9.38177982035494),\n",
       " (-1.4106462223490261, -8.601140309551873),\n",
       " (1.7292244422264282, 2.0225900090444746),\n",
       " (-8.008675784467094, -3.4959603263580057),\n",
       " (-1.3337372138680017, -9.38837491746054),\n",
       " (-7.533984083510834, -6.789334957395847),\n",
       " (-7.330361489207277, 7.89151914141264),\n",
       " (8.437854584882569, 7.88044422402384)]"
      ]
     },
     "execution_count": 113,
     "metadata": {},
     "output_type": "execute_result"
    }
   ],
   "source": [
    "instancia"
   ]
  },
  {
   "cell_type": "code",
   "execution_count": 114,
   "metadata": {},
   "outputs": [],
   "source": [
    "r=find_radius(instancia,centers)"
   ]
  },
  {
   "cell_type": "code",
   "execution_count": 115,
   "metadata": {},
   "outputs": [
    {
     "data": {
      "text/plain": [
       "2.8927269997510576"
      ]
     },
     "execution_count": 115,
     "metadata": {},
     "output_type": "execute_result"
    }
   ],
   "source": [
    "r"
   ]
  },
  {
   "cell_type": "code",
   "execution_count": 116,
   "metadata": {},
   "outputs": [
    {
     "data": {
      "text/plain": [
       "2.8927269997510576"
      ]
     },
     "execution_count": 116,
     "metadata": {},
     "output_type": "execute_result"
    }
   ],
   "source": [
    "r"
   ]
  },
  {
   "cell_type": "markdown",
   "metadata": {},
   "source": [
    "### Plot greedy solution"
   ]
  },
  {
   "cell_type": "code",
   "execution_count": 150,
   "metadata": {},
   "outputs": [],
   "source": [
    "def plot_greedy_centers(places,centers,radius):\n",
    "    \n",
    "    # List of points\n",
    "    points = places\n",
    "\n",
    "    # List of centers and their radii\n",
    "    #radii = [0.5, 1]\n",
    "\n",
    "    # Create a new figure and axis\n",
    "    fig, ax = plt.subplots()\n",
    "    #Setting the background colors\n",
    "    ax.set_facecolor('black')\n",
    "    fig.set_facecolor('black')\n",
    "\n",
    "    # Plot the points\n",
    "    for x, y in points:\n",
    "        ax.plot(x, y, 'o',color=\"orange\")  # 'bo' means blue color, round points\n",
    "\n",
    "    # Plot the circles\n",
    "    for center in centers:\n",
    "        circle = patches.Circle(center, radius, fc='none', ec='green')  # fc is face color, ec is edge color\n",
    "        ax.add_patch(circle)\n",
    "\n",
    "    # Set aspect of the plot to be equal, so circles aren't elliptic\n",
    "    ax.set_aspect('equal', 'box')\n",
    "    #ax.set_xlim(0, 5)\n",
    "    #ax.set_ylim(0, 6)\n",
    "\n",
    "    # Display the plot\n",
    "    plt.show()\n"
   ]
  },
  {
   "cell_type": "code",
   "execution_count": 51,
   "metadata": {},
   "outputs": [
    {
     "data": {
      "text/plain": [
       "0.0"
      ]
     },
     "execution_count": 51,
     "metadata": {},
     "output_type": "execute_result"
    }
   ],
   "source": [
    "r"
   ]
  },
  {
   "cell_type": "code",
   "execution_count": 154,
   "metadata": {},
   "outputs": [],
   "source": [
    "def plot_instance(places):\n",
    "    \n",
    "    # List of points\n",
    "    points = places.copy()\n",
    "\n",
    "    # List of centers and their radii\n",
    "    #radii = [0.5, 1]\n",
    "\n",
    "    # Create a new figure and axis\n",
    "    fig, ax = plt.subplots()\n",
    "    #Setting the background colors\n",
    "    ax.set_facecolor('black')\n",
    "    fig.set_facecolor('black')\n",
    "\n",
    "    # Plot the points\n",
    "    for x, y in points:\n",
    "        ax.plot(x, y, 'o',color=\"orange\")  # 'bo' means blue color, round points\n",
    "\n",
    "    # Plot the circles\n",
    "    # for center in centers:\n",
    "    #     circle = patches.Circle(center, radius, fc='none', ec='r',color=\"deeppink\")  # fc is face color, ec is edge color\n",
    "    #     ax.add_patch(circle)\n",
    "\n",
    "    # # Set aspect of the plot to be equal, so circles aren't elliptic\n",
    "    ax.set_aspect('equal', 'box')\n",
    "    #ax.set_xlim(0, 5)\n",
    "    #ax.set_ylim(0, 6)\n",
    "\n",
    "    # Display the plot\n",
    "    plt.show()\n"
   ]
  },
  {
   "cell_type": "code",
   "execution_count": 152,
   "metadata": {},
   "outputs": [
    {
     "data": {
      "image/png": "[encoded data removed]",
      "text/plain": [
       "<Figure size 640x480 with 1 Axes>"
      ]
     },
     "metadata": {},
     "output_type": "display_data"
    }
   ],
   "source": [
    "plot_instance(instancia)"
   ]
  },
  {
   "cell_type": "code",
   "execution_count": 156,
   "metadata": {},
   "outputs": [
    {
     "data": {
      "image/png": "[encoded data removed]",
      "text/plain": [
       "<Figure size 640x480 with 1 Axes>"
      ]
     },
     "metadata": {},
     "output_type": "display_data"
    }
   ],
   "source": [
    "plot_greedy_centers(instancia,centers,r)"
   ]
  },
  {
   "cell_type": "markdown",
   "metadata": {},
   "source": [
    "## Animate the greedy solution"
   ]
  },
  {
   "cell_type": "markdown",
   "metadata": {},
   "source": []
  }
 ],
 "metadata": {
  "kernelspec": {
   "display_name": "topics_alg",
   "language": "python",
   "name": "python3"
  },
  "language_info": {
   "codemirror_mode": {
    "name": "ipython",
    "version": 3
   },
   "file_extension": ".py",
   "mimetype": "text/x-python",
   "name": "python",
   "nbconvert_exporter": "python",
   "pygments_lexer": "ipython3",
   "version": "3.11.4"
  },
  "orig_nbformat": 4
 },
 "nbformat": 4,
 "nbformat_minor": 2
}
