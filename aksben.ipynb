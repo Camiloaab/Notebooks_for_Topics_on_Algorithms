{
 "cells": [
  {
   "attachments": {},
   "cell_type": "markdown",
   "metadata": {},
   "source": [
    "## An implementation of the AKS algorithm \n",
    "### Credit: Benedict Schlüter\n",
    "### https://github.com/benschlueter/AKS_PrimeTest\n"
   ]
  },
  {
   "cell_type": "code",
   "execution_count": 61,
   "metadata": {},
   "outputs": [],
   "source": [
    "#!/usr/bin/python3\n",
    "\n",
    "import math\n",
    "import multiprocessing\n",
    "from sys import argv\n",
    "import time\n",
    "\n",
    "\n",
    "def phi(n):\n",
    "    amount = 0\n",
    "    for k in range(1, n + 1):\n",
    "        if math.gcd(k, n) == 1:\n",
    "            amount += 1\n",
    "    return amount\n",
    "\n",
    "\n",
    "def step1(n):\n",
    "    for b in range(2, math.floor(math.log2(n) + 1)):\n",
    "        a = n ** (1 / b)\n",
    "        if a.is_integer():\n",
    "            return False\n",
    "    return True\n",
    "\n",
    "\n",
    "def step2(n):\n",
    "    mk = math.floor(math.log2(n) ** 2)\n",
    "    nexr = True\n",
    "    r = 1\n",
    "    while nexr:\n",
    "        r += 1\n",
    "        nexr = False\n",
    "        k = 0\n",
    "        while k <= mk and not nexr:\n",
    "            k = k + 1\n",
    "            if pow(n, k, r) in (0, 1):\n",
    "                nexr = True\n",
    "    return r\n",
    "\n",
    "\n",
    "def step3(n, r):\n",
    "    for a in range(1, r + 1):\n",
    "        if 1 < math.gcd(a, n) < n:\n",
    "            return False\n",
    "    return True\n",
    "\n",
    "\n",
    "def step4(n, r):\n",
    "    if n <= r:\n",
    "        #print(f\"{n} - prime. Step 4\")\n",
    "        return True\n",
    "    return False\n",
    "\n",
    "\n",
    "\n",
    "def step5(n, r):\n",
    "    max_val = math.sqrt(phi(r))\n",
    "    rn = math.floor(max_val * math.log2(n))\n",
    "    \n",
    "    if rn > n:\n",
    "        rn = n\n",
    "        \n",
    "    ran = rn // 8\n",
    "    if ran == 0:\n",
    "        ran = 1\n",
    "\n",
    "    return_dict = {}\n",
    "\n",
    "    for a in range(0, rn, ran):\n",
    "        step5_check(n, a, a + ran, return_dict)\n",
    "\n",
    "    if False not in return_dict.values():\n",
    "        #print(f\"{n} - prime. Step 5\")\n",
    "        return True\n",
    "    return False\n",
    "\n",
    "def step5_check(n, bot, top, return_dict):\n",
    "    x = bot / (top - bot)\n",
    "    if bot == 0:\n",
    "        bot = 1\n",
    "    for a in range(bot, top):\n",
    "        b = pow(a, n, n)\n",
    "        if b - a != 0:\n",
    "            return_dict[x] = False\n",
    "            return False\n",
    "    return_dict[x] = True\n",
    "    return True\n",
    "\n",
    "\n",
    "def aks(n):\n",
    "    if step1(n):\n",
    "        r = step2(n)\n",
    "        return step3(n, r) and (step4(n, r) or step5(n, r))\n",
    "    return False\n",
    "\n",
    "\n",
    "def trivial(n):\n",
    "    if n == 2:\n",
    "        return True\n",
    "    for i in range(2, math.floor(math.sqrt(n)) + 1):\n",
    "        if n % i == 0:\n",
    "            return False\n",
    "    return True\n",
    "\n",
    "\n",
    "\n",
    "\n"
   ]
  },
  {
   "cell_type": "code",
   "execution_count": 11,
   "metadata": {},
   "outputs": [],
   "source": [
    "P=1000000007"
   ]
  },
  {
   "cell_type": "code",
   "execution_count": 12,
   "metadata": {},
   "outputs": [
    {
     "data": {
      "text/plain": [
       "True"
      ]
     },
     "execution_count": 12,
     "metadata": {},
     "output_type": "execute_result"
    }
   ],
   "source": [
    "aks(P)"
   ]
  },
  {
   "cell_type": "code",
   "execution_count": 5,
   "metadata": {},
   "outputs": [],
   "source": [
    "for i in range(1000000,1005000):\n",
    "    if aks(i)!=trivial(i):\n",
    "        print(\"error\")"
   ]
  },
  {
   "cell_type": "code",
   "execution_count": 6,
   "metadata": {},
   "outputs": [],
   "source": [
    "p=100207100213100237100267"
   ]
  },
  {
   "cell_type": "code",
   "execution_count": 7,
   "metadata": {},
   "outputs": [
    {
     "data": {
      "text/plain": [
       "True"
      ]
     },
     "execution_count": 7,
     "metadata": {},
     "output_type": "execute_result"
    }
   ],
   "source": [
    "aks(p)"
   ]
  },
  {
   "cell_type": "markdown",
   "metadata": {},
   "source": [
    "### Comparre running times"
   ]
  },
  {
   "cell_type": "code",
   "execution_count": 25,
   "metadata": {},
   "outputs": [],
   "source": [
    "def compute_times_trivial(a,b):\n",
    "    ans=[]\n",
    "    for i in range(a,b):\n",
    "        start=time.time()\n",
    "        trivial(i)\n",
    "        end=time.time()\n",
    "        duration=end-start\n",
    "        ans.append(duration)\n",
    "    return ans"
   ]
  },
  {
   "cell_type": "code",
   "execution_count": 26,
   "metadata": {},
   "outputs": [],
   "source": [
    "def compute_times_aks(a,b):\n",
    "    ans=[]\n",
    "    for i in range(a,b):\n",
    "        start=time.time()\n",
    "        aks(i)\n",
    "        end=time.time()\n",
    "        duration=end-start\n",
    "        ans.append(duration)\n",
    "    return ans"
   ]
  },
  {
   "cell_type": "code",
   "execution_count": 59,
   "metadata": {},
   "outputs": [],
   "source": [
    "\n",
    "def plot_execution_times(a,b):\n",
    "    y = compute_times_trivial(a,b)\n",
    "    x = range(a,b)\n",
    "\n",
    "    # Plot the curve\n",
    "    plt.plot(x, y,color='red', label='trivial')\n",
    "    Y = compute_times_aks(a,b)\n",
    "    X = range(a,b)\n",
    "\n",
    "    # Plot the curve\n",
    "    plt.plot(X, Y,color='green', label='AKS')\n",
    "    # Add title and labels\n",
    "    plt.title(\"Execution time for AKS and trivial algorithms\")\n",
    "    plt.xlabel(\"N\")\n",
    "    plt.ylabel(\"Time in seconds\")\n",
    "    plt.legend()\n",
    "    plt.xlim(a,b)\n",
    "\n",
    "    # Display the plot\n",
    "    plt.show()\n"
   ]
  },
  {
   "cell_type": "code",
   "execution_count": 60,
   "metadata": {},
   "outputs": [
    {
     "data": {
      "image/png": "[encoded data removed]",
      "text/plain": [
       "<Figure size 640x480 with 1 Axes>"
      ]
     },
     "metadata": {},
     "output_type": "display_data"
    }
   ],
   "source": [
    "N=10000000000000000\n",
    "plot_execution_times(N,N+50)"
   ]
  }
 ],
 "metadata": {
  "kernelspec": {
   "display_name": "topics_alg",
   "language": "python",
   "name": "python3"
  },
  "language_info": {
   "codemirror_mode": {
    "name": "ipython",
    "version": 3
   },
   "file_extension": ".py",
   "mimetype": "text/x-python",
   "name": "python",
   "nbconvert_exporter": "python",
   "pygments_lexer": "ipython3",
   "version": "3.11.4"
  },
  "orig_nbformat": 4
 },
 "nbformat": 4,
 "nbformat_minor": 2
}
