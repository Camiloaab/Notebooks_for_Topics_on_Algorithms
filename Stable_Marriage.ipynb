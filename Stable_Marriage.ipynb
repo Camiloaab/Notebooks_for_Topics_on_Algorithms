{
 "cells": [
  {
   "attachments": {},
   "cell_type": "markdown",
   "metadata": {},
   "source": [
    "### This is an implementation of the Gale-Shapley algorithm for the stable marriage problem"
   ]
  },
  {
   "cell_type": "code",
   "execution_count": 5,
   "metadata": {},
   "outputs": [],
   "source": [
    "import numpy as np\n",
    "import random"
   ]
  },
  {
   "cell_type": "code",
   "execution_count": 11,
   "metadata": {},
   "outputs": [],
   "source": [
    "def reverse(preferences):\n",
    "    n= len(preferences)\n",
    "    return [preferences.index(i) for i in range(n)]"
   ]
  },
  {
   "cell_type": "code",
   "execution_count": 1,
   "metadata": {},
   "outputs": [],
   "source": [
    "def gale_shapley(men_prefs, women_prefs):\n",
    "    n = len(men_prefs)\n",
    "    w_partner = [-1] * n\n",
    "    m_free = [True] * n\n",
    "    free_count = n\n",
    "\n",
    "    while free_count:\n",
    "        m = m_free.index(True)\n",
    "        for w in men_prefs[m]:\n",
    "            if w_partner[w] == -1:\n",
    "                w_partner[w] = m\n",
    "                m_free[m] = False\n",
    "                free_count -= 1\n",
    "                break\n",
    "            else:\n",
    "                m1 = w_partner[w]\n",
    "                w_list = women_prefs[w]\n",
    "                if w_list.index(m) < w_list.index(m1):\n",
    "                    w_partner[w] = m\n",
    "                    m_free[m] = False\n",
    "                    m_free[m1] = True\n",
    "                    break\n",
    "\n",
    "    return w_partner\n",
    "\n"
   ]
  },
  {
   "cell_type": "code",
   "execution_count": 2,
   "metadata": {},
   "outputs": [
    {
     "name": "stdout",
     "output_type": "stream",
     "text": [
      "[2, 1, 0, 3]\n"
     ]
    }
   ],
   "source": [
    "# Example\n",
    "men_preferences = [\n",
    "    [2, 0, 1, 3],\n",
    "    [1, 0, 2, 3],\n",
    "    [0, 1, 2, 3],\n",
    "    [0, 1, 2, 3]\n",
    "]\n",
    "\n",
    "women_preferences = [\n",
    "    [0, 1, 2, 3],\n",
    "    [0, 1, 3, 2],\n",
    "    [0, 1, 2, 3],\n",
    "    [0, 1, 2, 3]\n",
    "]\n",
    "\n",
    "print(gale_shapley(men_preferences, women_preferences))\n",
    "#This version simplifies the algorithm to one function by using the built-in index method for lists and removing some of the extra structure from the original multi-function approach.\n",
    "\n",
    "\n",
    "\n",
    "\n",
    "\n"
   ]
  },
  {
   "cell_type": "code",
   "execution_count": 6,
   "metadata": {},
   "outputs": [],
   "source": [
    "# this creates and instance of preferences\n",
    "def make_preferences(n):\n",
    "    ans=[]\n",
    "    for i in range(n):\n",
    "        ans.append(list(np.random.permutation(list(range(n)))))\n",
    "    return ans"
   ]
  },
  {
   "cell_type": "code",
   "execution_count": 7,
   "metadata": {},
   "outputs": [
    {
     "data": {
      "text/plain": [
       "[[3, 1, 0, 4, 2],\n",
       " [4, 0, 2, 1, 3],\n",
       " [4, 2, 1, 3, 0],\n",
       " [1, 2, 4, 3, 0],\n",
       " [3, 2, 0, 1, 4]]"
      ]
     },
     "execution_count": 7,
     "metadata": {},
     "output_type": "execute_result"
    }
   ],
   "source": [
    "make_preferences(5)"
   ]
  },
  {
   "cell_type": "code",
   "execution_count": 8,
   "metadata": {},
   "outputs": [],
   "source": [
    "# This creates an instance of the problem and computes the solution\n",
    "def make_instance(m):\n",
    "    men_preferences = make_preferences(m)\n",
    "    women_preferences = make_preferences(m)\n",
    "\n",
    "    women_engagements = gale_shapley(men_preferences, women_preferences)\n",
    "    men_engagements=reverse(women_engagements)\n",
    "\n",
    "    return men_preferences,women_preferences,men_engagements,women_engagements,"
   ]
  },
  {
   "cell_type": "code",
   "execution_count": 12,
   "metadata": {},
   "outputs": [
    {
     "data": {
      "text/plain": [
       "([[1, 4, 3, 2, 0],\n",
       "  [4, 1, 0, 2, 3],\n",
       "  [1, 3, 0, 4, 2],\n",
       "  [4, 2, 3, 1, 0],\n",
       "  [4, 0, 3, 2, 1]],\n",
       " [[1, 2, 0, 3, 4],\n",
       "  [0, 2, 3, 4, 1],\n",
       "  [0, 1, 4, 3, 2],\n",
       "  [3, 2, 4, 0, 1],\n",
       "  [4, 1, 3, 2, 0]],\n",
       " [1, 0, 3, 2, 4],\n",
       " [1, 0, 3, 2, 4])"
      ]
     },
     "execution_count": 12,
     "metadata": {},
     "output_type": "execute_result"
    }
   ],
   "source": [
    "make_instance(5)"
   ]
  },
  {
   "cell_type": "code",
   "execution_count": null,
   "metadata": {},
   "outputs": [],
   "source": []
  },
  {
   "cell_type": "code",
   "execution_count": 13,
   "metadata": {},
   "outputs": [],
   "source": [
    "### This checks that a marriage is stable\n",
    "def check_stable(men_pref,women_pref,men_eng,women_eng):\n",
    "    n=len(men_pref)\n",
    "    ans=\"Stable\"\n",
    "    for i in range(n):\n",
    "        if ans==\"Unstable\":\n",
    "            break\n",
    "        for j in range(men_pref[i].index(men_eng[i])):\n",
    "            woman_pref=women_pref[men_pref[i][j]]\n",
    "            if woman_pref.index(i)<woman_pref.index(women_eng[men_pref[i][j]]):\n",
    "                ans=\"Unstable\"\n",
    "                print(men_pref[i])\n",
    "                print(women_pref[men_pref[i][j]])\n",
    "                print(men_eng)\n",
    "                print(women_eng)\n",
    "                break\n",
    "    return ans\n",
    "    \n",
    "\n"
   ]
  },
  {
   "cell_type": "code",
   "execution_count": 15,
   "metadata": {},
   "outputs": [
    {
     "data": {
      "text/plain": [
       "'Stable'"
      ]
     },
     "execution_count": 15,
     "metadata": {},
     "output_type": "execute_result"
    }
   ],
   "source": [
    "check_stable(*make_instance(11))"
   ]
  },
  {
   "cell_type": "code",
   "execution_count": 17,
   "metadata": {},
   "outputs": [
    {
     "data": {
      "text/plain": [
       "0"
      ]
     },
     "execution_count": 17,
     "metadata": {},
     "output_type": "execute_result"
    }
   ],
   "source": [
    "for i in range(1000):\n",
    "    count=0\n",
    "    if check_stable(*make_instance(70))!=\"Stable\":\n",
    "        count=count+1\n",
    "count"
   ]
  }
 ],
 "metadata": {
  "kernelspec": {
   "display_name": "Matem-Disc",
   "language": "python",
   "name": "python3"
  },
  "language_info": {
   "codemirror_mode": {
    "name": "ipython",
    "version": 3
   },
   "file_extension": ".py",
   "mimetype": "text/x-python",
   "name": "python",
   "nbconvert_exporter": "python",
   "pygments_lexer": "ipython3",
   "version": "3.11.4"
  },
  "orig_nbformat": 4
 },
 "nbformat": 4,
 "nbformat_minor": 2
}
